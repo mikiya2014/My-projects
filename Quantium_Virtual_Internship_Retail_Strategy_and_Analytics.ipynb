{
  "nbformat": 4,
  "nbformat_minor": 0,
  "metadata": {
    "colab": {
      "name": "Quantium_Virtual_Internship: Retail_Strategy_and_Analytics.ipynb",
      "provenance": [],
      "mount_file_id": "1tdv0vim3DRjpu4bfNnXcx1JpJT904mii",
      "authorship_tag": "ABX9TyMivVp0Fvvu3iBjAiNRwOBW",
      "include_colab_link": true
    },
    "kernelspec": {
      "name": "python3",
      "display_name": "Python 3"
    },
    "language_info": {
      "name": "python"
    }
  },
  "cells": [
    {
      "cell_type": "markdown",
      "metadata": {
        "id": "view-in-github",
        "colab_type": "text"
      },
      "source": [
        "<a href=\"https://colab.research.google.com/github/mikiya2014/My-projects/blob/main/Quantium_Virtual_Internship_Retail_Strategy_and_Analytics.ipynb\" target=\"_parent\"><img src=\"https://colab.research.google.com/assets/colab-badge.svg\" alt=\"Open In Colab\"/></a>"
      ]
    },
    {
      "cell_type": "markdown",
      "metadata": {
        "id": "iK4_n-z7r80t"
      },
      "source": [
        "## Findings"
      ]
    },
    {
      "cell_type": "markdown",
      "metadata": {
        "id": "OUyCH9KkZwAh"
      },
      "source": [
        "Lifestage: \n",
        "\n",
        "1. Older single/couples have the highest sales, new families have the lowest sales. Older single/couples have the largest customer counts, new families have the smallest ones. It can be the reason that most of the sales are coming from older singles/couples.\n",
        "2. On average, customers of OLDER FAMILIES purchase the most chips, and those of YOUNG SINGLES/COUPLES purchase the least chips.\n",
        "3. OLDER SINGLES/COUPLES and RETIREES have a little higher sales on average than other lifestages.\n",
        "\n",
        "Premium customer:\n",
        "\n",
        "1. Mainstream customers have the highest sales, premium customers have the lowest sales.Mainstream customers have the largest counts, premium customers have the smallest counts. It can be the reason that most of the sales are coming from mainstream customers.\n",
        "2. On average, customers of BUDGET purchase the most chips, and those of MAINSTREAM purchase the least chips. Overall they are pretty close.\n",
        "\n",
        "Life stage-Premium customer:\n",
        "\n",
        "1. Olderfamilies-Budget customers have the highest sales, New families-Premium customers have the lowest sales.\n",
        "2. On average, customers of OLDER FAMILIES-Mainstream purchase the most chips, and those of YOUNG SINGLES/COUPLES-Budget purchase the least chips. Again, customer counts of each segment highly correlated with sales.\n",
        "3. There is a obvious difference seen, older families have the largest purchase of all customer types, then young families follows them. Both above 3.5. Other segments have reletively lower purchase around 2.5 to 3.2.It can be conclude that older families and young families are most targeted customers.\n",
        "\n",
        "Packsize and brand:\n",
        "\n",
        "1. Size of 175g have the highest sales, and one of 160 have the lowest sales. Looks like medium size is most popular.\n",
        "2. Smith and Doritos have the highest sales, they are the most popular brands of chips. French have the lowest sales.\n",
        "\n",
        "Timeseries:\n",
        "\n",
        "1. There is a peak of sales at the end of 2018, the most possible explanation can be the impact of Christmas which is usual for retails.\n",
        "2. There are two low points in 08/2018 and 05/2019. Other information should be provided and considered for the explanation.\n",
        "\n",
        "\n"
      ]
    },
    {
      "cell_type": "code",
      "metadata": {
        "id": "mVaoKkhbapzE"
      },
      "source": [
        "import pandas as pd\n",
        "from matplotlib import pyplot as plt\n",
        "import datetime as dt\n",
        "import seaborn as sns"
      ],
      "execution_count": 1,
      "outputs": []
    },
    {
      "cell_type": "markdown",
      "metadata": {
        "id": "NT-N4bsFafn6"
      },
      "source": [
        "## Read data from goodle drive "
      ]
    },
    {
      "cell_type": "code",
      "metadata": {
        "id": "J794yAWpYYiC"
      },
      "source": [
        "df_behavior=pd.read_csv(\n",
        "    '/content/drive/MyDrive/Quantium Project/QVI_purchase_behaviour.csv')\n",
        "df_trans=pd.read_excel(\n",
        "    '/content/drive/MyDrive/Quantium Project/QVI_transaction_data.xlsx')"
      ],
      "execution_count": 2,
      "outputs": []
    },
    {
      "cell_type": "markdown",
      "metadata": {
        "id": "CRwUQha1aFGW"
      },
      "source": [
        "## Creating and interpreting high level summaries of the data"
      ]
    },
    {
      "cell_type": "markdown",
      "metadata": {
        "id": "57IqO97WnhsF"
      },
      "source": [
        "### QVI_purchase_behaviour"
      ]
    },
    {
      "cell_type": "code",
      "metadata": {
        "colab": {
          "base_uri": "https://localhost:8080/",
          "height": 200
        },
        "id": "3B6H7HyMbMoq",
        "outputId": "d2077f28-b39c-4e78-c366-eb56bf7e1124"
      },
      "source": [
        "df_behavior.head()"
      ],
      "execution_count": 3,
      "outputs": [
        {
          "output_type": "execute_result",
          "data": {
            "text/html": [
              "<div>\n",
              "<style scoped>\n",
              "    .dataframe tbody tr th:only-of-type {\n",
              "        vertical-align: middle;\n",
              "    }\n",
              "\n",
              "    .dataframe tbody tr th {\n",
              "        vertical-align: top;\n",
              "    }\n",
              "\n",
              "    .dataframe thead th {\n",
              "        text-align: right;\n",
              "    }\n",
              "</style>\n",
              "<table border=\"1\" class=\"dataframe\">\n",
              "  <thead>\n",
              "    <tr style=\"text-align: right;\">\n",
              "      <th></th>\n",
              "      <th>LYLTY_CARD_NBR</th>\n",
              "      <th>LIFESTAGE</th>\n",
              "      <th>PREMIUM_CUSTOMER</th>\n",
              "    </tr>\n",
              "  </thead>\n",
              "  <tbody>\n",
              "    <tr>\n",
              "      <th>0</th>\n",
              "      <td>1000</td>\n",
              "      <td>YOUNG SINGLES/COUPLES</td>\n",
              "      <td>Premium</td>\n",
              "    </tr>\n",
              "    <tr>\n",
              "      <th>1</th>\n",
              "      <td>1002</td>\n",
              "      <td>YOUNG SINGLES/COUPLES</td>\n",
              "      <td>Mainstream</td>\n",
              "    </tr>\n",
              "    <tr>\n",
              "      <th>2</th>\n",
              "      <td>1003</td>\n",
              "      <td>YOUNG FAMILIES</td>\n",
              "      <td>Budget</td>\n",
              "    </tr>\n",
              "    <tr>\n",
              "      <th>3</th>\n",
              "      <td>1004</td>\n",
              "      <td>OLDER SINGLES/COUPLES</td>\n",
              "      <td>Mainstream</td>\n",
              "    </tr>\n",
              "    <tr>\n",
              "      <th>4</th>\n",
              "      <td>1005</td>\n",
              "      <td>MIDAGE SINGLES/COUPLES</td>\n",
              "      <td>Mainstream</td>\n",
              "    </tr>\n",
              "  </tbody>\n",
              "</table>\n",
              "</div>"
            ],
            "text/plain": [
              "   LYLTY_CARD_NBR               LIFESTAGE PREMIUM_CUSTOMER\n",
              "0            1000   YOUNG SINGLES/COUPLES          Premium\n",
              "1            1002   YOUNG SINGLES/COUPLES       Mainstream\n",
              "2            1003          YOUNG FAMILIES           Budget\n",
              "3            1004   OLDER SINGLES/COUPLES       Mainstream\n",
              "4            1005  MIDAGE SINGLES/COUPLES       Mainstream"
            ]
          },
          "metadata": {
            "tags": []
          },
          "execution_count": 3
        }
      ]
    },
    {
      "cell_type": "code",
      "metadata": {
        "colab": {
          "base_uri": "https://localhost:8080/",
          "height": 48
        },
        "id": "wIVnLhkDhAD8",
        "outputId": "17333727-c2a9-4947-a712-6df97e52700b"
      },
      "source": [
        "null_behavior = df_behavior[df_behavior.isnull().any(axis=1)]\n",
        "null_behavior\n",
        "#There is no missing value of the behavior data.\n"
      ],
      "execution_count": 4,
      "outputs": [
        {
          "output_type": "execute_result",
          "data": {
            "text/html": [
              "<div>\n",
              "<style scoped>\n",
              "    .dataframe tbody tr th:only-of-type {\n",
              "        vertical-align: middle;\n",
              "    }\n",
              "\n",
              "    .dataframe tbody tr th {\n",
              "        vertical-align: top;\n",
              "    }\n",
              "\n",
              "    .dataframe thead th {\n",
              "        text-align: right;\n",
              "    }\n",
              "</style>\n",
              "<table border=\"1\" class=\"dataframe\">\n",
              "  <thead>\n",
              "    <tr style=\"text-align: right;\">\n",
              "      <th></th>\n",
              "      <th>LYLTY_CARD_NBR</th>\n",
              "      <th>LIFESTAGE</th>\n",
              "      <th>PREMIUM_CUSTOMER</th>\n",
              "    </tr>\n",
              "  </thead>\n",
              "  <tbody>\n",
              "  </tbody>\n",
              "</table>\n",
              "</div>"
            ],
            "text/plain": [
              "Empty DataFrame\n",
              "Columns: [LYLTY_CARD_NBR, LIFESTAGE, PREMIUM_CUSTOMER]\n",
              "Index: []"
            ]
          },
          "metadata": {
            "tags": []
          },
          "execution_count": 4
        }
      ]
    },
    {
      "cell_type": "code",
      "metadata": {
        "colab": {
          "base_uri": "https://localhost:8080/",
          "height": 0
        },
        "id": "riHm4VF4b2nQ",
        "outputId": "231d700f-4cf9-48d7-b410-396ae307c915"
      },
      "source": [
        "dic_behavior={'Lifestage types':df_behavior['LIFESTAGE'].unique(),\n",
        "              'Customer type':df_behavior['PREMIUM_CUSTOMER'].unique()}\n",
        "print(dic_behavior)\n",
        "\n",
        "#The data dictionary presents the unique values for LIFESTAGE and PREMIUM_CUSTOMER.\n",
        "#LIFESTAGE have values of: YOUNG SINGLES/COUPLES, MIDAGE SINGLES/COUPLES, OLDER SINGLES/COUPLES,\n",
        "#NEW FAMILIES, YOUNG FAMILIES,OLDER FAMILIES.\n",
        "#PREMIUM_CUSTOMER have values of: Premium, Mainstream, Budget.\n",
        "#The data dictionary indicates there is no incorrect value in these two columns."
      ],
      "execution_count": 5,
      "outputs": [
        {
          "output_type": "stream",
          "text": [
            "{'Lifestage types': array(['YOUNG SINGLES/COUPLES', 'YOUNG FAMILIES', 'OLDER SINGLES/COUPLES',\n",
            "       'MIDAGE SINGLES/COUPLES', 'NEW FAMILIES', 'OLDER FAMILIES',\n",
            "       'RETIREES'], dtype=object), 'Customer type': array(['Premium', 'Mainstream', 'Budget'], dtype=object)}\n"
          ],
          "name": "stdout"
        }
      ]
    },
    {
      "cell_type": "code",
      "metadata": {
        "colab": {
          "base_uri": "https://localhost:8080/",
          "height": 0
        },
        "id": "5JamfES6im5Z",
        "outputId": "b71c1fc1-e5b2-4681-8647-54c14a401ea8"
      },
      "source": [
        "with pd.option_context('float_format', '{:f}'.format): \n",
        "  print(df_behavior['LYLTY_CARD_NBR'].describe())\n",
        "print({type(i) for i in df_behavior['LYLTY_CARD_NBR'].values})\n",
        "#The LYLTY_CARD_NBR column represents the id number of customers' membership.\n",
        "#Based on the statistical summary, the id number ranges from 1000 to 2373711.\n",
        "#The column only contains integers as the id number.\n",
        "#With no other data provided, this column looks fine."
      ],
      "execution_count": 6,
      "outputs": [
        {
          "output_type": "stream",
          "text": [
            "count     72637.000000\n",
            "mean     136185.931770\n",
            "std       89892.932014\n",
            "min        1000.000000\n",
            "25%       66202.000000\n",
            "50%      134040.000000\n",
            "75%      203375.000000\n",
            "max     2373711.000000\n",
            "Name: LYLTY_CARD_NBR, dtype: float64\n",
            "{<class 'numpy.int64'>}\n"
          ],
          "name": "stdout"
        }
      ]
    },
    {
      "cell_type": "markdown",
      "metadata": {
        "id": "MbqbFuf0nqTb"
      },
      "source": [
        "### QVI_transaction_data"
      ]
    },
    {
      "cell_type": "code",
      "metadata": {
        "colab": {
          "base_uri": "https://localhost:8080/",
          "height": 200
        },
        "id": "rbH8C9uAblSd",
        "outputId": "65d9c3c9-49e0-4bed-ff89-c644ebc73a92"
      },
      "source": [
        "df_trans.head()"
      ],
      "execution_count": 7,
      "outputs": [
        {
          "output_type": "execute_result",
          "data": {
            "text/html": [
              "<div>\n",
              "<style scoped>\n",
              "    .dataframe tbody tr th:only-of-type {\n",
              "        vertical-align: middle;\n",
              "    }\n",
              "\n",
              "    .dataframe tbody tr th {\n",
              "        vertical-align: top;\n",
              "    }\n",
              "\n",
              "    .dataframe thead th {\n",
              "        text-align: right;\n",
              "    }\n",
              "</style>\n",
              "<table border=\"1\" class=\"dataframe\">\n",
              "  <thead>\n",
              "    <tr style=\"text-align: right;\">\n",
              "      <th></th>\n",
              "      <th>DATE</th>\n",
              "      <th>STORE_NBR</th>\n",
              "      <th>LYLTY_CARD_NBR</th>\n",
              "      <th>TXN_ID</th>\n",
              "      <th>PROD_NBR</th>\n",
              "      <th>PROD_NAME</th>\n",
              "      <th>PROD_QTY</th>\n",
              "      <th>TOT_SALES</th>\n",
              "    </tr>\n",
              "  </thead>\n",
              "  <tbody>\n",
              "    <tr>\n",
              "      <th>0</th>\n",
              "      <td>43390</td>\n",
              "      <td>1</td>\n",
              "      <td>1000</td>\n",
              "      <td>1</td>\n",
              "      <td>5</td>\n",
              "      <td>Natural Chip        Compny SeaSalt175g</td>\n",
              "      <td>2</td>\n",
              "      <td>6.0</td>\n",
              "    </tr>\n",
              "    <tr>\n",
              "      <th>1</th>\n",
              "      <td>43599</td>\n",
              "      <td>1</td>\n",
              "      <td>1307</td>\n",
              "      <td>348</td>\n",
              "      <td>66</td>\n",
              "      <td>CCs Nacho Cheese    175g</td>\n",
              "      <td>3</td>\n",
              "      <td>6.3</td>\n",
              "    </tr>\n",
              "    <tr>\n",
              "      <th>2</th>\n",
              "      <td>43605</td>\n",
              "      <td>1</td>\n",
              "      <td>1343</td>\n",
              "      <td>383</td>\n",
              "      <td>61</td>\n",
              "      <td>Smiths Crinkle Cut  Chips Chicken 170g</td>\n",
              "      <td>2</td>\n",
              "      <td>2.9</td>\n",
              "    </tr>\n",
              "    <tr>\n",
              "      <th>3</th>\n",
              "      <td>43329</td>\n",
              "      <td>2</td>\n",
              "      <td>2373</td>\n",
              "      <td>974</td>\n",
              "      <td>69</td>\n",
              "      <td>Smiths Chip Thinly  S/Cream&amp;Onion 175g</td>\n",
              "      <td>5</td>\n",
              "      <td>15.0</td>\n",
              "    </tr>\n",
              "    <tr>\n",
              "      <th>4</th>\n",
              "      <td>43330</td>\n",
              "      <td>2</td>\n",
              "      <td>2426</td>\n",
              "      <td>1038</td>\n",
              "      <td>108</td>\n",
              "      <td>Kettle Tortilla ChpsHny&amp;Jlpno Chili 150g</td>\n",
              "      <td>3</td>\n",
              "      <td>13.8</td>\n",
              "    </tr>\n",
              "  </tbody>\n",
              "</table>\n",
              "</div>"
            ],
            "text/plain": [
              "    DATE  STORE_NBR  ...  PROD_QTY  TOT_SALES\n",
              "0  43390          1  ...         2        6.0\n",
              "1  43599          1  ...         3        6.3\n",
              "2  43605          1  ...         2        2.9\n",
              "3  43329          2  ...         5       15.0\n",
              "4  43330          2  ...         3       13.8\n",
              "\n",
              "[5 rows x 8 columns]"
            ]
          },
          "metadata": {
            "tags": []
          },
          "execution_count": 7
        }
      ]
    },
    {
      "cell_type": "code",
      "metadata": {
        "colab": {
          "base_uri": "https://localhost:8080/",
          "height": 0
        },
        "id": "rSrijgbRmFXI",
        "outputId": "a1acbebe-67ae-4300-fb4e-ad62fa4d27cd"
      },
      "source": [
        "null_trans = df_trans[df_trans.isnull().any(axis=1)]\n",
        "print(null_trans)\n",
        "#There is no missing value of the transaction data."
      ],
      "execution_count": 8,
      "outputs": [
        {
          "output_type": "stream",
          "text": [
            "Empty DataFrame\n",
            "Columns: [DATE, STORE_NBR, LYLTY_CARD_NBR, TXN_ID, PROD_NBR, PROD_NAME, PROD_QTY, TOT_SALES]\n",
            "Index: []\n"
          ],
          "name": "stdout"
        }
      ]
    },
    {
      "cell_type": "code",
      "metadata": {
        "colab": {
          "base_uri": "https://localhost:8080/",
          "height": 0
        },
        "id": "3Mw7VY4eriRN",
        "outputId": "a845fc50-1934-4818-9517-aec70aee720b"
      },
      "source": [
        "store_number=sorted(df_trans['STORE_NBR'].unique())\n",
        "product_nbr=pd.DataFrame(sorted(df_trans['PROD_NBR'].unique()),\n",
        "                         columns=['Product_number'])\n",
        "product_name=pd.DataFrame(sorted(df_trans['PROD_NAME'].unique()),\n",
        "                          columns=['Product_name'])\n",
        "print(min(store_number),max(store_number))\n",
        "#There are 272 stores.\n",
        "print(len(store_number))\n",
        "print(len(product_nbr))\n",
        "#There are 114 products according to product number.\n",
        "print(len(product_name))\n",
        "#There are 114 products acoording to product name which matches with number."
      ],
      "execution_count": 9,
      "outputs": [
        {
          "output_type": "stream",
          "text": [
            "1 272\n",
            "272\n",
            "114\n",
            "114\n"
          ],
          "name": "stdout"
        }
      ]
    },
    {
      "cell_type": "code",
      "metadata": {
        "colab": {
          "base_uri": "https://localhost:8080/",
          "height": 291
        },
        "id": "4E3FxyaizqBi",
        "outputId": "73b1a7c5-465a-421a-9654-861823d33b3f"
      },
      "source": [
        "pd.set_option('float_format', '{:.2f}'.format)\n",
        "df_trans[['DATE','LYLTY_CARD_NBR', 'TXN_ID','PROD_QTY','TOT_SALES']].describe()\n",
        "# DATE ranges from 43282(7/1/2018) to 43646(6/30/2019) which is fine.\n",
        "# LYLTY_CARD_NBR is the same with the behavior data.\n",
        "# TXN_ID ranges from 1 to 2415841 which is fine without any information provided.\n",
        "# PROD_QTY and TOT_SALES are quantities and need further exploration."
      ],
      "execution_count": 10,
      "outputs": [
        {
          "output_type": "execute_result",
          "data": {
            "text/html": [
              "<div>\n",
              "<style scoped>\n",
              "    .dataframe tbody tr th:only-of-type {\n",
              "        vertical-align: middle;\n",
              "    }\n",
              "\n",
              "    .dataframe tbody tr th {\n",
              "        vertical-align: top;\n",
              "    }\n",
              "\n",
              "    .dataframe thead th {\n",
              "        text-align: right;\n",
              "    }\n",
              "</style>\n",
              "<table border=\"1\" class=\"dataframe\">\n",
              "  <thead>\n",
              "    <tr style=\"text-align: right;\">\n",
              "      <th></th>\n",
              "      <th>DATE</th>\n",
              "      <th>LYLTY_CARD_NBR</th>\n",
              "      <th>TXN_ID</th>\n",
              "      <th>PROD_QTY</th>\n",
              "      <th>TOT_SALES</th>\n",
              "    </tr>\n",
              "  </thead>\n",
              "  <tbody>\n",
              "    <tr>\n",
              "      <th>count</th>\n",
              "      <td>264836.00</td>\n",
              "      <td>264836.00</td>\n",
              "      <td>264836.00</td>\n",
              "      <td>264836.00</td>\n",
              "      <td>264836.00</td>\n",
              "    </tr>\n",
              "    <tr>\n",
              "      <th>mean</th>\n",
              "      <td>43464.04</td>\n",
              "      <td>135549.48</td>\n",
              "      <td>135158.31</td>\n",
              "      <td>1.91</td>\n",
              "      <td>7.30</td>\n",
              "    </tr>\n",
              "    <tr>\n",
              "      <th>std</th>\n",
              "      <td>105.39</td>\n",
              "      <td>80579.98</td>\n",
              "      <td>78133.03</td>\n",
              "      <td>0.64</td>\n",
              "      <td>3.08</td>\n",
              "    </tr>\n",
              "    <tr>\n",
              "      <th>min</th>\n",
              "      <td>43282.00</td>\n",
              "      <td>1000.00</td>\n",
              "      <td>1.00</td>\n",
              "      <td>1.00</td>\n",
              "      <td>1.50</td>\n",
              "    </tr>\n",
              "    <tr>\n",
              "      <th>25%</th>\n",
              "      <td>43373.00</td>\n",
              "      <td>70021.00</td>\n",
              "      <td>67601.50</td>\n",
              "      <td>2.00</td>\n",
              "      <td>5.40</td>\n",
              "    </tr>\n",
              "    <tr>\n",
              "      <th>50%</th>\n",
              "      <td>43464.00</td>\n",
              "      <td>130357.50</td>\n",
              "      <td>135137.50</td>\n",
              "      <td>2.00</td>\n",
              "      <td>7.40</td>\n",
              "    </tr>\n",
              "    <tr>\n",
              "      <th>75%</th>\n",
              "      <td>43555.00</td>\n",
              "      <td>203094.25</td>\n",
              "      <td>202701.25</td>\n",
              "      <td>2.00</td>\n",
              "      <td>9.20</td>\n",
              "    </tr>\n",
              "    <tr>\n",
              "      <th>max</th>\n",
              "      <td>43646.00</td>\n",
              "      <td>2373711.00</td>\n",
              "      <td>2415841.00</td>\n",
              "      <td>200.00</td>\n",
              "      <td>650.00</td>\n",
              "    </tr>\n",
              "  </tbody>\n",
              "</table>\n",
              "</div>"
            ],
            "text/plain": [
              "           DATE  LYLTY_CARD_NBR     TXN_ID  PROD_QTY  TOT_SALES\n",
              "count 264836.00       264836.00  264836.00 264836.00  264836.00\n",
              "mean   43464.04       135549.48  135158.31      1.91       7.30\n",
              "std      105.39        80579.98   78133.03      0.64       3.08\n",
              "min    43282.00         1000.00       1.00      1.00       1.50\n",
              "25%    43373.00        70021.00   67601.50      2.00       5.40\n",
              "50%    43464.00       130357.50  135137.50      2.00       7.40\n",
              "75%    43555.00       203094.25  202701.25      2.00       9.20\n",
              "max    43646.00      2373711.00 2415841.00    200.00     650.00"
            ]
          },
          "metadata": {
            "tags": []
          },
          "execution_count": 10
        }
      ]
    },
    {
      "cell_type": "code",
      "metadata": {
        "colab": {
          "base_uri": "https://localhost:8080/",
          "height": 0
        },
        "id": "aqgasuKo3jP_",
        "outputId": "a5ff3411-2616-4688-b278-ff5a33bde00f"
      },
      "source": [
        "# These columns must be integers as they are date, ids and quantities.\n",
        "print({type(i) for i in df_trans['DATE'].values})\n",
        "print({type(i) for i in df_trans['LYLTY_CARD_NBR'].values})\n",
        "print({type(i) for i in df_trans['TXN_ID'].values})\n",
        "print({type(i) for i in df_trans['PROD_QTY'].values})"
      ],
      "execution_count": 11,
      "outputs": [
        {
          "output_type": "stream",
          "text": [
            "{<class 'numpy.int64'>}\n",
            "{<class 'numpy.int64'>}\n",
            "{<class 'numpy.int64'>}\n",
            "{<class 'numpy.int64'>}\n"
          ],
          "name": "stdout"
        }
      ]
    },
    {
      "cell_type": "code",
      "metadata": {
        "colab": {
          "base_uri": "https://localhost:8080/",
          "height": 610
        },
        "id": "bsx4eNF14KUU",
        "outputId": "25fe4382-7506-47a4-f271-0a10b4891550"
      },
      "source": [
        "# Scatter plot of PROD_QTY and TOT_SALES to detect outliers.\n",
        "plt.figure(figsize=(10,10))\n",
        "plt.scatter(df_trans['PROD_QTY'],df_trans['TOT_SALES'])\n",
        "# There is an outlier in the scatter plot with large quantity and sales.\n",
        "# It can be sold to a group or a firm. gBut for this analysis,\n",
        "# it should be removed."
      ],
      "execution_count": 12,
      "outputs": [
        {
          "output_type": "execute_result",
          "data": {
            "text/plain": [
              "<matplotlib.collections.PathCollection at 0x7fc390376550>"
            ]
          },
          "metadata": {
            "tags": []
          },
          "execution_count": 12
        },
        {
          "output_type": "display_data",
          "data": {
            "image/png": "[encoded data removed]",
            "text/plain": [
              "<Figure size 720x720 with 1 Axes>"
            ]
          },
          "metadata": {
            "tags": [],
            "needs_background": "light"
          }
        }
      ]
    },
    {
      "cell_type": "code",
      "metadata": {
        "colab": {
          "base_uri": "https://localhost:8080/",
          "height": 411
        },
        "id": "2GBMCiA4574N",
        "outputId": "1296fa4f-e78f-4304-bbcc-3de45f36a569"
      },
      "source": [
        "df_trans.sort_values('PROD_QTY',ascending=False)\n",
        "# The top two records are outliers that should be removed for this analysis.\n",
        "# However these two customers can be unique and valuable in reality."
      ],
      "execution_count": 13,
      "outputs": [
        {
          "output_type": "execute_result",
          "data": {
            "text/html": [
              "<div>\n",
              "<style scoped>\n",
              "    .dataframe tbody tr th:only-of-type {\n",
              "        vertical-align: middle;\n",
              "    }\n",
              "\n",
              "    .dataframe tbody tr th {\n",
              "        vertical-align: top;\n",
              "    }\n",
              "\n",
              "    .dataframe thead th {\n",
              "        text-align: right;\n",
              "    }\n",
              "</style>\n",
              "<table border=\"1\" class=\"dataframe\">\n",
              "  <thead>\n",
              "    <tr style=\"text-align: right;\">\n",
              "      <th></th>\n",
              "      <th>DATE</th>\n",
              "      <th>STORE_NBR</th>\n",
              "      <th>LYLTY_CARD_NBR</th>\n",
              "      <th>TXN_ID</th>\n",
              "      <th>PROD_NBR</th>\n",
              "      <th>PROD_NAME</th>\n",
              "      <th>PROD_QTY</th>\n",
              "      <th>TOT_SALES</th>\n",
              "    </tr>\n",
              "  </thead>\n",
              "  <tbody>\n",
              "    <tr>\n",
              "      <th>69762</th>\n",
              "      <td>43331</td>\n",
              "      <td>226</td>\n",
              "      <td>226000</td>\n",
              "      <td>226201</td>\n",
              "      <td>4</td>\n",
              "      <td>Dorito Corn Chp     Supreme 380g</td>\n",
              "      <td>200</td>\n",
              "      <td>650.00</td>\n",
              "    </tr>\n",
              "    <tr>\n",
              "      <th>69763</th>\n",
              "      <td>43605</td>\n",
              "      <td>226</td>\n",
              "      <td>226000</td>\n",
              "      <td>226210</td>\n",
              "      <td>4</td>\n",
              "      <td>Dorito Corn Chp     Supreme 380g</td>\n",
              "      <td>200</td>\n",
              "      <td>650.00</td>\n",
              "    </tr>\n",
              "    <tr>\n",
              "      <th>217237</th>\n",
              "      <td>43603</td>\n",
              "      <td>201</td>\n",
              "      <td>201060</td>\n",
              "      <td>200202</td>\n",
              "      <td>26</td>\n",
              "      <td>Pringles Sweet&amp;Spcy BBQ 134g</td>\n",
              "      <td>5</td>\n",
              "      <td>18.50</td>\n",
              "    </tr>\n",
              "    <tr>\n",
              "      <th>238333</th>\n",
              "      <td>43326</td>\n",
              "      <td>219</td>\n",
              "      <td>219004</td>\n",
              "      <td>218018</td>\n",
              "      <td>25</td>\n",
              "      <td>Pringles SourCream  Onion 134g</td>\n",
              "      <td>5</td>\n",
              "      <td>18.50</td>\n",
              "    </tr>\n",
              "    <tr>\n",
              "      <th>238471</th>\n",
              "      <td>43604</td>\n",
              "      <td>261</td>\n",
              "      <td>261331</td>\n",
              "      <td>261111</td>\n",
              "      <td>87</td>\n",
              "      <td>Infuzions BBQ Rib   Prawn Crackers 110g</td>\n",
              "      <td>5</td>\n",
              "      <td>19.00</td>\n",
              "    </tr>\n",
              "    <tr>\n",
              "      <th>...</th>\n",
              "      <td>...</td>\n",
              "      <td>...</td>\n",
              "      <td>...</td>\n",
              "      <td>...</td>\n",
              "      <td>...</td>\n",
              "      <td>...</td>\n",
              "      <td>...</td>\n",
              "      <td>...</td>\n",
              "    </tr>\n",
              "    <tr>\n",
              "      <th>82354</th>\n",
              "      <td>43558</td>\n",
              "      <td>18</td>\n",
              "      <td>18302</td>\n",
              "      <td>15551</td>\n",
              "      <td>2</td>\n",
              "      <td>Cobs Popd Sour Crm  &amp;Chives Chips 110g</td>\n",
              "      <td>1</td>\n",
              "      <td>3.80</td>\n",
              "    </tr>\n",
              "    <tr>\n",
              "      <th>82357</th>\n",
              "      <td>43366</td>\n",
              "      <td>18</td>\n",
              "      <td>18420</td>\n",
              "      <td>15697</td>\n",
              "      <td>91</td>\n",
              "      <td>CCs Tasty Cheese    175g</td>\n",
              "      <td>1</td>\n",
              "      <td>2.10</td>\n",
              "    </tr>\n",
              "    <tr>\n",
              "      <th>172438</th>\n",
              "      <td>43312</td>\n",
              "      <td>3</td>\n",
              "      <td>3290</td>\n",
              "      <td>2349</td>\n",
              "      <td>36</td>\n",
              "      <td>Kettle Chilli 175g</td>\n",
              "      <td>1</td>\n",
              "      <td>5.40</td>\n",
              "    </tr>\n",
              "    <tr>\n",
              "      <th>82358</th>\n",
              "      <td>43608</td>\n",
              "      <td>18</td>\n",
              "      <td>18420</td>\n",
              "      <td>15698</td>\n",
              "      <td>52</td>\n",
              "      <td>Grain Waves Sour    Cream&amp;Chives 210G</td>\n",
              "      <td>1</td>\n",
              "      <td>3.60</td>\n",
              "    </tr>\n",
              "    <tr>\n",
              "      <th>32479</th>\n",
              "      <td>43326</td>\n",
              "      <td>128</td>\n",
              "      <td>128103</td>\n",
              "      <td>131207</td>\n",
              "      <td>107</td>\n",
              "      <td>Smiths Crinkle Cut  French OnionDip 150g</td>\n",
              "      <td>1</td>\n",
              "      <td>2.60</td>\n",
              "    </tr>\n",
              "  </tbody>\n",
              "</table>\n",
              "<p>264836 rows × 8 columns</p>\n",
              "</div>"
            ],
            "text/plain": [
              "         DATE  STORE_NBR  ...  PROD_QTY  TOT_SALES\n",
              "69762   43331        226  ...       200     650.00\n",
              "69763   43605        226  ...       200     650.00\n",
              "217237  43603        201  ...         5      18.50\n",
              "238333  43326        219  ...         5      18.50\n",
              "238471  43604        261  ...         5      19.00\n",
              "...       ...        ...  ...       ...        ...\n",
              "82354   43558         18  ...         1       3.80\n",
              "82357   43366         18  ...         1       2.10\n",
              "172438  43312          3  ...         1       5.40\n",
              "82358   43608         18  ...         1       3.60\n",
              "32479   43326        128  ...         1       2.60\n",
              "\n",
              "[264836 rows x 8 columns]"
            ]
          },
          "metadata": {
            "tags": []
          },
          "execution_count": 13
        }
      ]
    },
    {
      "cell_type": "code",
      "metadata": {
        "id": "_E3qtED28ug0"
      },
      "source": [
        "df_trans.drop(index=[69762,69763],inplace=True)"
      ],
      "execution_count": 14,
      "outputs": []
    },
    {
      "cell_type": "code",
      "metadata": {
        "colab": {
          "base_uri": "https://localhost:8080/",
          "height": 411
        },
        "id": "qm9EW7MJ9AoZ",
        "outputId": "446610aa-a9ef-4568-ab15-38f3fd9806e7"
      },
      "source": [
        "# Examine the data after two outliers dropped.\n",
        "df_trans.sort_values('PROD_QTY',ascending=False)"
      ],
      "execution_count": 15,
      "outputs": [
        {
          "output_type": "execute_result",
          "data": {
            "text/html": [
              "<div>\n",
              "<style scoped>\n",
              "    .dataframe tbody tr th:only-of-type {\n",
              "        vertical-align: middle;\n",
              "    }\n",
              "\n",
              "    .dataframe tbody tr th {\n",
              "        vertical-align: top;\n",
              "    }\n",
              "\n",
              "    .dataframe thead th {\n",
              "        text-align: right;\n",
              "    }\n",
              "</style>\n",
              "<table border=\"1\" class=\"dataframe\">\n",
              "  <thead>\n",
              "    <tr style=\"text-align: right;\">\n",
              "      <th></th>\n",
              "      <th>DATE</th>\n",
              "      <th>STORE_NBR</th>\n",
              "      <th>LYLTY_CARD_NBR</th>\n",
              "      <th>TXN_ID</th>\n",
              "      <th>PROD_NBR</th>\n",
              "      <th>PROD_NAME</th>\n",
              "      <th>PROD_QTY</th>\n",
              "      <th>TOT_SALES</th>\n",
              "    </tr>\n",
              "  </thead>\n",
              "  <tbody>\n",
              "    <tr>\n",
              "      <th>5415</th>\n",
              "      <td>43332</td>\n",
              "      <td>236</td>\n",
              "      <td>236116</td>\n",
              "      <td>239252</td>\n",
              "      <td>12</td>\n",
              "      <td>Natural Chip Co     Tmato Hrb&amp;Spce 175g</td>\n",
              "      <td>5</td>\n",
              "      <td>15.00</td>\n",
              "    </tr>\n",
              "    <tr>\n",
              "      <th>32796</th>\n",
              "      <td>43603</td>\n",
              "      <td>236</td>\n",
              "      <td>236033</td>\n",
              "      <td>238735</td>\n",
              "      <td>59</td>\n",
              "      <td>Old El Paso Salsa   Dip Tomato Med 300g</td>\n",
              "      <td>5</td>\n",
              "      <td>25.50</td>\n",
              "    </tr>\n",
              "    <tr>\n",
              "      <th>5107</th>\n",
              "      <td>43329</td>\n",
              "      <td>54</td>\n",
              "      <td>54225</td>\n",
              "      <td>48172</td>\n",
              "      <td>46</td>\n",
              "      <td>Kettle Original 175g</td>\n",
              "      <td>5</td>\n",
              "      <td>27.00</td>\n",
              "    </tr>\n",
              "    <tr>\n",
              "      <th>80732</th>\n",
              "      <td>43603</td>\n",
              "      <td>49</td>\n",
              "      <td>49309</td>\n",
              "      <td>45816</td>\n",
              "      <td>30</td>\n",
              "      <td>Doritos Corn Chips  Cheese Supreme 170g</td>\n",
              "      <td>5</td>\n",
              "      <td>22.00</td>\n",
              "    </tr>\n",
              "    <tr>\n",
              "      <th>32762</th>\n",
              "      <td>43331</td>\n",
              "      <td>227</td>\n",
              "      <td>227046</td>\n",
              "      <td>228561</td>\n",
              "      <td>100</td>\n",
              "      <td>Smiths Crinkle Cut  Chips Chs&amp;Onion170g</td>\n",
              "      <td>5</td>\n",
              "      <td>14.50</td>\n",
              "    </tr>\n",
              "    <tr>\n",
              "      <th>...</th>\n",
              "      <td>...</td>\n",
              "      <td>...</td>\n",
              "      <td>...</td>\n",
              "      <td>...</td>\n",
              "      <td>...</td>\n",
              "      <td>...</td>\n",
              "      <td>...</td>\n",
              "      <td>...</td>\n",
              "    </tr>\n",
              "    <tr>\n",
              "      <th>82354</th>\n",
              "      <td>43558</td>\n",
              "      <td>18</td>\n",
              "      <td>18302</td>\n",
              "      <td>15551</td>\n",
              "      <td>2</td>\n",
              "      <td>Cobs Popd Sour Crm  &amp;Chives Chips 110g</td>\n",
              "      <td>1</td>\n",
              "      <td>3.80</td>\n",
              "    </tr>\n",
              "    <tr>\n",
              "      <th>82357</th>\n",
              "      <td>43366</td>\n",
              "      <td>18</td>\n",
              "      <td>18420</td>\n",
              "      <td>15697</td>\n",
              "      <td>91</td>\n",
              "      <td>CCs Tasty Cheese    175g</td>\n",
              "      <td>1</td>\n",
              "      <td>2.10</td>\n",
              "    </tr>\n",
              "    <tr>\n",
              "      <th>172438</th>\n",
              "      <td>43312</td>\n",
              "      <td>3</td>\n",
              "      <td>3290</td>\n",
              "      <td>2349</td>\n",
              "      <td>36</td>\n",
              "      <td>Kettle Chilli 175g</td>\n",
              "      <td>1</td>\n",
              "      <td>5.40</td>\n",
              "    </tr>\n",
              "    <tr>\n",
              "      <th>82358</th>\n",
              "      <td>43608</td>\n",
              "      <td>18</td>\n",
              "      <td>18420</td>\n",
              "      <td>15698</td>\n",
              "      <td>52</td>\n",
              "      <td>Grain Waves Sour    Cream&amp;Chives 210G</td>\n",
              "      <td>1</td>\n",
              "      <td>3.60</td>\n",
              "    </tr>\n",
              "    <tr>\n",
              "      <th>32479</th>\n",
              "      <td>43326</td>\n",
              "      <td>128</td>\n",
              "      <td>128103</td>\n",
              "      <td>131207</td>\n",
              "      <td>107</td>\n",
              "      <td>Smiths Crinkle Cut  French OnionDip 150g</td>\n",
              "      <td>1</td>\n",
              "      <td>2.60</td>\n",
              "    </tr>\n",
              "  </tbody>\n",
              "</table>\n",
              "<p>264834 rows × 8 columns</p>\n",
              "</div>"
            ],
            "text/plain": [
              "         DATE  STORE_NBR  ...  PROD_QTY  TOT_SALES\n",
              "5415    43332        236  ...         5      15.00\n",
              "32796   43603        236  ...         5      25.50\n",
              "5107    43329         54  ...         5      27.00\n",
              "80732   43603         49  ...         5      22.00\n",
              "32762   43331        227  ...         5      14.50\n",
              "...       ...        ...  ...       ...        ...\n",
              "82354   43558         18  ...         1       3.80\n",
              "82357   43366         18  ...         1       2.10\n",
              "172438  43312          3  ...         1       5.40\n",
              "82358   43608         18  ...         1       3.60\n",
              "32479   43326        128  ...         1       2.60\n",
              "\n",
              "[264834 rows x 8 columns]"
            ]
          },
          "metadata": {
            "tags": []
          },
          "execution_count": 15
        }
      ]
    },
    {
      "cell_type": "code",
      "metadata": {
        "id": "fcajy9H7Dw6N"
      },
      "source": [
        "# Since the product name column is long and complex, it needs transformation.\n",
        "# Check the product type, remove records that are not chips.\n",
        "df_trans['PROD_NAME']=df_trans['PROD_NAME'].str.lower()\n",
        "df_not_chip=df_trans.loc[[i for i in df_trans['PROD_NAME'].index if \n",
        "                          ('chips' not in df_trans['PROD_NAME'][i]) and \n",
        "                          ('chip' not in df_trans['PROD_NAME'][i])],:]"
      ],
      "execution_count": 16,
      "outputs": []
    },
    {
      "cell_type": "code",
      "metadata": {
        "colab": {
          "base_uri": "https://localhost:8080/",
          "height": 411
        },
        "id": "bmDETFb6MPZP",
        "outputId": "d075e58f-ba20-4adc-bc95-635e74c4d7d9"
      },
      "source": [
        "df_not_chip\n",
        "# These records have the brand names and sauces but are not identified as chips\n",
        "# based on the data given. \n",
        "# They should be filtered out for current analysis which only cares about chips."
      ],
      "execution_count": 17,
      "outputs": [
        {
          "output_type": "execute_result",
          "data": {
            "text/html": [
              "<div>\n",
              "<style scoped>\n",
              "    .dataframe tbody tr th:only-of-type {\n",
              "        vertical-align: middle;\n",
              "    }\n",
              "\n",
              "    .dataframe tbody tr th {\n",
              "        vertical-align: top;\n",
              "    }\n",
              "\n",
              "    .dataframe thead th {\n",
              "        text-align: right;\n",
              "    }\n",
              "</style>\n",
              "<table border=\"1\" class=\"dataframe\">\n",
              "  <thead>\n",
              "    <tr style=\"text-align: right;\">\n",
              "      <th></th>\n",
              "      <th>DATE</th>\n",
              "      <th>STORE_NBR</th>\n",
              "      <th>LYLTY_CARD_NBR</th>\n",
              "      <th>TXN_ID</th>\n",
              "      <th>PROD_NBR</th>\n",
              "      <th>PROD_NAME</th>\n",
              "      <th>PROD_QTY</th>\n",
              "      <th>TOT_SALES</th>\n",
              "    </tr>\n",
              "  </thead>\n",
              "  <tbody>\n",
              "    <tr>\n",
              "      <th>1</th>\n",
              "      <td>43599</td>\n",
              "      <td>1</td>\n",
              "      <td>1307</td>\n",
              "      <td>348</td>\n",
              "      <td>66</td>\n",
              "      <td>ccs nacho cheese    175g</td>\n",
              "      <td>3</td>\n",
              "      <td>6.30</td>\n",
              "    </tr>\n",
              "    <tr>\n",
              "      <th>4</th>\n",
              "      <td>43330</td>\n",
              "      <td>2</td>\n",
              "      <td>2426</td>\n",
              "      <td>1038</td>\n",
              "      <td>108</td>\n",
              "      <td>kettle tortilla chpshny&amp;jlpno chili 150g</td>\n",
              "      <td>3</td>\n",
              "      <td>13.80</td>\n",
              "    </tr>\n",
              "    <tr>\n",
              "      <th>5</th>\n",
              "      <td>43604</td>\n",
              "      <td>4</td>\n",
              "      <td>4074</td>\n",
              "      <td>2982</td>\n",
              "      <td>57</td>\n",
              "      <td>old el paso salsa   dip tomato mild 300g</td>\n",
              "      <td>1</td>\n",
              "      <td>5.10</td>\n",
              "    </tr>\n",
              "    <tr>\n",
              "      <th>7</th>\n",
              "      <td>43601</td>\n",
              "      <td>4</td>\n",
              "      <td>4196</td>\n",
              "      <td>3539</td>\n",
              "      <td>24</td>\n",
              "      <td>grain waves         sweet chilli 210g</td>\n",
              "      <td>1</td>\n",
              "      <td>3.60</td>\n",
              "    </tr>\n",
              "    <tr>\n",
              "      <th>9</th>\n",
              "      <td>43330</td>\n",
              "      <td>7</td>\n",
              "      <td>7150</td>\n",
              "      <td>6900</td>\n",
              "      <td>52</td>\n",
              "      <td>grain waves sour    cream&amp;chives 210g</td>\n",
              "      <td>2</td>\n",
              "      <td>7.20</td>\n",
              "    </tr>\n",
              "    <tr>\n",
              "      <th>...</th>\n",
              "      <td>...</td>\n",
              "      <td>...</td>\n",
              "      <td>...</td>\n",
              "      <td>...</td>\n",
              "      <td>...</td>\n",
              "      <td>...</td>\n",
              "      <td>...</td>\n",
              "      <td>...</td>\n",
              "    </tr>\n",
              "    <tr>\n",
              "      <th>264829</th>\n",
              "      <td>43540</td>\n",
              "      <td>272</td>\n",
              "      <td>272236</td>\n",
              "      <td>269976</td>\n",
              "      <td>49</td>\n",
              "      <td>infuzions sourcream&amp;herbs veg strws 110g</td>\n",
              "      <td>2</td>\n",
              "      <td>7.60</td>\n",
              "    </tr>\n",
              "    <tr>\n",
              "      <th>264831</th>\n",
              "      <td>43533</td>\n",
              "      <td>272</td>\n",
              "      <td>272319</td>\n",
              "      <td>270088</td>\n",
              "      <td>89</td>\n",
              "      <td>kettle sweet chilli and sour cream 175g</td>\n",
              "      <td>2</td>\n",
              "      <td>10.80</td>\n",
              "    </tr>\n",
              "    <tr>\n",
              "      <th>264832</th>\n",
              "      <td>43325</td>\n",
              "      <td>272</td>\n",
              "      <td>272358</td>\n",
              "      <td>270154</td>\n",
              "      <td>74</td>\n",
              "      <td>tostitos splash of  lime 175g</td>\n",
              "      <td>1</td>\n",
              "      <td>4.40</td>\n",
              "    </tr>\n",
              "    <tr>\n",
              "      <th>264833</th>\n",
              "      <td>43410</td>\n",
              "      <td>272</td>\n",
              "      <td>272379</td>\n",
              "      <td>270187</td>\n",
              "      <td>51</td>\n",
              "      <td>doritos mexicana    170g</td>\n",
              "      <td>2</td>\n",
              "      <td>8.80</td>\n",
              "    </tr>\n",
              "    <tr>\n",
              "      <th>264835</th>\n",
              "      <td>43365</td>\n",
              "      <td>272</td>\n",
              "      <td>272380</td>\n",
              "      <td>270189</td>\n",
              "      <td>74</td>\n",
              "      <td>tostitos splash of  lime 175g</td>\n",
              "      <td>2</td>\n",
              "      <td>8.80</td>\n",
              "    </tr>\n",
              "  </tbody>\n",
              "</table>\n",
              "<p>190264 rows × 8 columns</p>\n",
              "</div>"
            ],
            "text/plain": [
              "         DATE  STORE_NBR  ...  PROD_QTY  TOT_SALES\n",
              "1       43599          1  ...         3       6.30\n",
              "4       43330          2  ...         3      13.80\n",
              "5       43604          4  ...         1       5.10\n",
              "7       43601          4  ...         1       3.60\n",
              "9       43330          7  ...         2       7.20\n",
              "...       ...        ...  ...       ...        ...\n",
              "264829  43540        272  ...         2       7.60\n",
              "264831  43533        272  ...         2      10.80\n",
              "264832  43325        272  ...         1       4.40\n",
              "264833  43410        272  ...         2       8.80\n",
              "264835  43365        272  ...         2       8.80\n",
              "\n",
              "[190264 rows x 8 columns]"
            ]
          },
          "metadata": {
            "tags": []
          },
          "execution_count": 17
        }
      ]
    },
    {
      "cell_type": "code",
      "metadata": {
        "id": "kBO0pG_7NY4C"
      },
      "source": [
        "df_trans.drop(index=[i for i in df_trans['PROD_NAME'].index if \n",
        "                     ('chips' not in df_trans['PROD_NAME'][i]) and \n",
        "                     ('chip' not in df_trans['PROD_NAME'][i])],inplace=True)"
      ],
      "execution_count": 18,
      "outputs": []
    },
    {
      "cell_type": "code",
      "metadata": {
        "colab": {
          "base_uri": "https://localhost:8080/",
          "height": 0
        },
        "id": "yu9icno2Humv",
        "outputId": "f170b4b3-c5b6-462a-9867-3ab49e8539ad"
      },
      "source": [
        "len(df_trans) #74570 records remain"
      ],
      "execution_count": 19,
      "outputs": [
        {
          "output_type": "execute_result",
          "data": {
            "text/plain": [
              "74570"
            ]
          },
          "metadata": {
            "tags": []
          },
          "execution_count": 19
        }
      ]
    },
    {
      "cell_type": "code",
      "metadata": {
        "id": "1xUPtCAdKd1f"
      },
      "source": [
        "# Take the brand names and pack sizes as new variables since they can be \n",
        "# important features that influence consumers.\n",
        "df_trans['BRAND']=df_trans['PROD_NAME'].apply(lambda x: x.split(' ')[0])\n",
        "df_trans['PACKSIZE']=df_trans['PROD_NAME'].apply(lambda x: x.split(' ')[-1])"
      ],
      "execution_count": 20,
      "outputs": []
    },
    {
      "cell_type": "code",
      "metadata": {
        "colab": {
          "base_uri": "https://localhost:8080/",
          "height": 200
        },
        "id": "BTtiQVPfQuob",
        "outputId": "cf2b5da9-6175-497a-e2b9-7ff27ac71ebb"
      },
      "source": [
        "df_trans.head()"
      ],
      "execution_count": 21,
      "outputs": [
        {
          "output_type": "execute_result",
          "data": {
            "text/html": [
              "<div>\n",
              "<style scoped>\n",
              "    .dataframe tbody tr th:only-of-type {\n",
              "        vertical-align: middle;\n",
              "    }\n",
              "\n",
              "    .dataframe tbody tr th {\n",
              "        vertical-align: top;\n",
              "    }\n",
              "\n",
              "    .dataframe thead th {\n",
              "        text-align: right;\n",
              "    }\n",
              "</style>\n",
              "<table border=\"1\" class=\"dataframe\">\n",
              "  <thead>\n",
              "    <tr style=\"text-align: right;\">\n",
              "      <th></th>\n",
              "      <th>DATE</th>\n",
              "      <th>STORE_NBR</th>\n",
              "      <th>LYLTY_CARD_NBR</th>\n",
              "      <th>TXN_ID</th>\n",
              "      <th>PROD_NBR</th>\n",
              "      <th>PROD_NAME</th>\n",
              "      <th>PROD_QTY</th>\n",
              "      <th>TOT_SALES</th>\n",
              "      <th>BRAND</th>\n",
              "      <th>PACKSIZE</th>\n",
              "    </tr>\n",
              "  </thead>\n",
              "  <tbody>\n",
              "    <tr>\n",
              "      <th>0</th>\n",
              "      <td>43390</td>\n",
              "      <td>1</td>\n",
              "      <td>1000</td>\n",
              "      <td>1</td>\n",
              "      <td>5</td>\n",
              "      <td>natural chip        compny seasalt175g</td>\n",
              "      <td>2</td>\n",
              "      <td>6.00</td>\n",
              "      <td>natural</td>\n",
              "      <td>seasalt175g</td>\n",
              "    </tr>\n",
              "    <tr>\n",
              "      <th>2</th>\n",
              "      <td>43605</td>\n",
              "      <td>1</td>\n",
              "      <td>1343</td>\n",
              "      <td>383</td>\n",
              "      <td>61</td>\n",
              "      <td>smiths crinkle cut  chips chicken 170g</td>\n",
              "      <td>2</td>\n",
              "      <td>2.90</td>\n",
              "      <td>smiths</td>\n",
              "      <td>170g</td>\n",
              "    </tr>\n",
              "    <tr>\n",
              "      <th>3</th>\n",
              "      <td>43329</td>\n",
              "      <td>2</td>\n",
              "      <td>2373</td>\n",
              "      <td>974</td>\n",
              "      <td>69</td>\n",
              "      <td>smiths chip thinly  s/cream&amp;onion 175g</td>\n",
              "      <td>5</td>\n",
              "      <td>15.00</td>\n",
              "      <td>smiths</td>\n",
              "      <td>175g</td>\n",
              "    </tr>\n",
              "    <tr>\n",
              "      <th>6</th>\n",
              "      <td>43601</td>\n",
              "      <td>4</td>\n",
              "      <td>4149</td>\n",
              "      <td>3333</td>\n",
              "      <td>16</td>\n",
              "      <td>smiths crinkle chips salt &amp; vinegar 330g</td>\n",
              "      <td>1</td>\n",
              "      <td>5.70</td>\n",
              "      <td>smiths</td>\n",
              "      <td>330g</td>\n",
              "    </tr>\n",
              "    <tr>\n",
              "      <th>8</th>\n",
              "      <td>43332</td>\n",
              "      <td>5</td>\n",
              "      <td>5026</td>\n",
              "      <td>4525</td>\n",
              "      <td>42</td>\n",
              "      <td>doritos corn chip mexican jalapeno 150g</td>\n",
              "      <td>1</td>\n",
              "      <td>3.90</td>\n",
              "      <td>doritos</td>\n",
              "      <td>150g</td>\n",
              "    </tr>\n",
              "  </tbody>\n",
              "</table>\n",
              "</div>"
            ],
            "text/plain": [
              "    DATE  STORE_NBR  LYLTY_CARD_NBR  ...  TOT_SALES    BRAND     PACKSIZE\n",
              "0  43390          1            1000  ...       6.00  natural  seasalt175g\n",
              "2  43605          1            1343  ...       2.90   smiths         170g\n",
              "3  43329          2            2373  ...      15.00   smiths         175g\n",
              "6  43601          4            4149  ...       5.70   smiths         330g\n",
              "8  43332          5            5026  ...       3.90  doritos         150g\n",
              "\n",
              "[5 rows x 10 columns]"
            ]
          },
          "metadata": {
            "tags": []
          },
          "execution_count": 21
        }
      ]
    },
    {
      "cell_type": "code",
      "metadata": {
        "id": "gDf-_6jCT9D1"
      },
      "source": [
        "# There are uncleaned packsizes as extra words in them, filter them out \n",
        "# and keep only the digits.\n",
        "df_trans['PACKSIZE']=df_trans['PACKSIZE'].apply(\n",
        "    lambda x: ''.join([i for i in x if i.isdigit()]))"
      ],
      "execution_count": 22,
      "outputs": []
    },
    {
      "cell_type": "code",
      "metadata": {
        "colab": {
          "base_uri": "https://localhost:8080/",
          "height": 0
        },
        "id": "ZX3UtR54VyUw",
        "outputId": "a7a9abed-4621-44bd-b331-a0f1ab47381b"
      },
      "source": [
        "df_trans['PACKSIZE']"
      ],
      "execution_count": 23,
      "outputs": [
        {
          "output_type": "execute_result",
          "data": {
            "text/plain": [
              "0         175\n",
              "2         170\n",
              "3         175\n",
              "6         330\n",
              "8         150\n",
              "         ... \n",
              "264815    110\n",
              "264816    110\n",
              "264826    110\n",
              "264830    175\n",
              "264834    150\n",
              "Name: PACKSIZE, Length: 74570, dtype: object"
            ]
          },
          "metadata": {
            "tags": []
          },
          "execution_count": 23
        }
      ]
    },
    {
      "cell_type": "markdown",
      "metadata": {
        "id": "3k9eEmU69OFf"
      },
      "source": [
        "## Merge datasets"
      ]
    },
    {
      "cell_type": "code",
      "metadata": {
        "id": "fahHpCRk9RjF"
      },
      "source": [
        "df=df_trans.merge(df_behavior,how='left',on='LYLTY_CARD_NBR',sort=True)"
      ],
      "execution_count": 24,
      "outputs": []
    },
    {
      "cell_type": "code",
      "metadata": {
        "id": "swlQPTGo_iVE"
      },
      "source": [
        "# Change the DATE from excel serial to datetime.\n",
        "df['DATE'] = pd.to_datetime('1899-12-30') + pd.to_timedelta(df['DATE'],'D')"
      ],
      "execution_count": 25,
      "outputs": []
    },
    {
      "cell_type": "code",
      "metadata": {
        "colab": {
          "base_uri": "https://localhost:8080/",
          "height": 370
        },
        "id": "SxiKh7vsBjkM",
        "outputId": "7daaccc4-85ff-4db6-c147-43277b888eab"
      },
      "source": [
        "df.head()"
      ],
      "execution_count": 26,
      "outputs": [
        {
          "output_type": "execute_result",
          "data": {
            "text/html": [
              "<div>\n",
              "<style scoped>\n",
              "    .dataframe tbody tr th:only-of-type {\n",
              "        vertical-align: middle;\n",
              "    }\n",
              "\n",
              "    .dataframe tbody tr th {\n",
              "        vertical-align: top;\n",
              "    }\n",
              "\n",
              "    .dataframe thead th {\n",
              "        text-align: right;\n",
              "    }\n",
              "</style>\n",
              "<table border=\"1\" class=\"dataframe\">\n",
              "  <thead>\n",
              "    <tr style=\"text-align: right;\">\n",
              "      <th></th>\n",
              "      <th>DATE</th>\n",
              "      <th>STORE_NBR</th>\n",
              "      <th>LYLTY_CARD_NBR</th>\n",
              "      <th>TXN_ID</th>\n",
              "      <th>PROD_NBR</th>\n",
              "      <th>PROD_NAME</th>\n",
              "      <th>PROD_QTY</th>\n",
              "      <th>TOT_SALES</th>\n",
              "      <th>BRAND</th>\n",
              "      <th>PACKSIZE</th>\n",
              "      <th>LIFESTAGE</th>\n",
              "      <th>PREMIUM_CUSTOMER</th>\n",
              "    </tr>\n",
              "  </thead>\n",
              "  <tbody>\n",
              "    <tr>\n",
              "      <th>0</th>\n",
              "      <td>2018-10-17</td>\n",
              "      <td>1</td>\n",
              "      <td>1000</td>\n",
              "      <td>1</td>\n",
              "      <td>5</td>\n",
              "      <td>natural chip        compny seasalt175g</td>\n",
              "      <td>2</td>\n",
              "      <td>6.00</td>\n",
              "      <td>natural</td>\n",
              "      <td>175</td>\n",
              "      <td>YOUNG SINGLES/COUPLES</td>\n",
              "      <td>Premium</td>\n",
              "    </tr>\n",
              "    <tr>\n",
              "      <th>1</th>\n",
              "      <td>2019-03-08</td>\n",
              "      <td>1</td>\n",
              "      <td>1003</td>\n",
              "      <td>4</td>\n",
              "      <td>106</td>\n",
              "      <td>natural chipco      hony soy chckn175g</td>\n",
              "      <td>1</td>\n",
              "      <td>3.00</td>\n",
              "      <td>natural</td>\n",
              "      <td>175</td>\n",
              "      <td>YOUNG FAMILIES</td>\n",
              "      <td>Budget</td>\n",
              "    </tr>\n",
              "    <tr>\n",
              "      <th>2</th>\n",
              "      <td>2018-11-02</td>\n",
              "      <td>1</td>\n",
              "      <td>1004</td>\n",
              "      <td>5</td>\n",
              "      <td>96</td>\n",
              "      <td>ww original stacked chips 160g</td>\n",
              "      <td>1</td>\n",
              "      <td>1.90</td>\n",
              "      <td>ww</td>\n",
              "      <td>160</td>\n",
              "      <td>OLDER SINGLES/COUPLES</td>\n",
              "      <td>Mainstream</td>\n",
              "    </tr>\n",
              "    <tr>\n",
              "      <th>3</th>\n",
              "      <td>2018-12-19</td>\n",
              "      <td>1</td>\n",
              "      <td>1011</td>\n",
              "      <td>15</td>\n",
              "      <td>1</td>\n",
              "      <td>smiths crinkle cut  chips barbecue 170g</td>\n",
              "      <td>1</td>\n",
              "      <td>2.90</td>\n",
              "      <td>smiths</td>\n",
              "      <td>170</td>\n",
              "      <td>OLDER SINGLES/COUPLES</td>\n",
              "      <td>Mainstream</td>\n",
              "    </tr>\n",
              "    <tr>\n",
              "      <th>4</th>\n",
              "      <td>2019-03-04</td>\n",
              "      <td>1</td>\n",
              "      <td>1013</td>\n",
              "      <td>18</td>\n",
              "      <td>93</td>\n",
              "      <td>doritos corn chip southern chicken 150g</td>\n",
              "      <td>1</td>\n",
              "      <td>3.90</td>\n",
              "      <td>doritos</td>\n",
              "      <td>150</td>\n",
              "      <td>RETIREES</td>\n",
              "      <td>Budget</td>\n",
              "    </tr>\n",
              "  </tbody>\n",
              "</table>\n",
              "</div>"
            ],
            "text/plain": [
              "        DATE  STORE_NBR  ...              LIFESTAGE  PREMIUM_CUSTOMER\n",
              "0 2018-10-17          1  ...  YOUNG SINGLES/COUPLES           Premium\n",
              "1 2019-03-08          1  ...         YOUNG FAMILIES            Budget\n",
              "2 2018-11-02          1  ...  OLDER SINGLES/COUPLES        Mainstream\n",
              "3 2018-12-19          1  ...  OLDER SINGLES/COUPLES        Mainstream\n",
              "4 2019-03-04          1  ...               RETIREES            Budget\n",
              "\n",
              "[5 rows x 12 columns]"
            ]
          },
          "metadata": {
            "tags": []
          },
          "execution_count": 26
        }
      ]
    },
    {
      "cell_type": "markdown",
      "metadata": {
        "id": "jxerJfq4-H2W"
      },
      "source": [
        "## Data analysis and customer segments"
      ]
    },
    {
      "cell_type": "markdown",
      "metadata": {
        "id": "8BufHtySUAFH"
      },
      "source": [
        "### Distributions on life stage segments"
      ]
    },
    {
      "cell_type": "code",
      "metadata": {
        "id": "GGxJ4tyu-JTJ"
      },
      "source": [
        "# Distribution of total sales of each lifestage type\n",
        "df[['TOT_SALES','LIFESTAGE']].groupby('LIFESTAGE').TOT_SALES.sum().sort_values(\n",
        ").plot(kind='bar',figsize=(10,10),title='Total sales of each Lifestage')\n",
        "# Older single/couples have the highest sales, \n",
        "# new families have the lowest sales."
      ],
      "execution_count": null,
      "outputs": []
    },
    {
      "cell_type": "code",
      "metadata": {
        "id": "wU9wyP-yN25N"
      },
      "source": [
        "# Distribution of customer counts for each lifestage type\n",
        "df[['LYLTY_CARD_NBR','LIFESTAGE']].groupby('LIFESTAGE').LYLTY_CARD_NBR.nunique(\n",
        ").sort_values().plot(kind='bar',figsize=(10,10),\n",
        "                     title='Total counts of each Lifestage')\n",
        "# Older single/couples have the largest counts, new families have the smallest.\n",
        "# It can be the reason that most of the sales come from older singles/couples."
      ],
      "execution_count": null,
      "outputs": []
    },
    {
      "cell_type": "code",
      "metadata": {
        "colab": {
          "base_uri": "https://localhost:8080/",
          "height": 291
        },
        "id": "-35tpj3fhJPx",
        "outputId": "a9748835-ac70-4f7c-bdb7-ee5dc5265d96"
      },
      "source": [
        "# How many chips are bought per customer for each lifestage group\n",
        "customer_life=df[['LYLTY_CARD_NBR','LIFESTAGE']].groupby(\n",
        "    'LIFESTAGE')[['LYLTY_CARD_NBR']].nunique()\n",
        "quan_life=df[['LIFESTAGE','PROD_QTY']].groupby(\n",
        "    'LIFESTAGE')[['PROD_QTY']].sum()\n",
        "customer_life['chips_per']=quan_life['PROD_QTY']/customer_life['LYLTY_CARD_NBR']\n",
        "customer_life"
      ],
      "execution_count": 29,
      "outputs": [
        {
          "output_type": "execute_result",
          "data": {
            "text/html": [
              "<div>\n",
              "<style scoped>\n",
              "    .dataframe tbody tr th:only-of-type {\n",
              "        vertical-align: middle;\n",
              "    }\n",
              "\n",
              "    .dataframe tbody tr th {\n",
              "        vertical-align: top;\n",
              "    }\n",
              "\n",
              "    .dataframe thead th {\n",
              "        text-align: right;\n",
              "    }\n",
              "</style>\n",
              "<table border=\"1\" class=\"dataframe\">\n",
              "  <thead>\n",
              "    <tr style=\"text-align: right;\">\n",
              "      <th></th>\n",
              "      <th>LYLTY_CARD_NBR</th>\n",
              "      <th>chips_per</th>\n",
              "    </tr>\n",
              "    <tr>\n",
              "      <th>LIFESTAGE</th>\n",
              "      <th></th>\n",
              "      <th></th>\n",
              "    </tr>\n",
              "  </thead>\n",
              "  <tbody>\n",
              "    <tr>\n",
              "      <th>MIDAGE SINGLES/COUPLES</th>\n",
              "      <td>4289</td>\n",
              "      <td>3.15</td>\n",
              "    </tr>\n",
              "    <tr>\n",
              "      <th>NEW FAMILIES</th>\n",
              "      <td>1341</td>\n",
              "      <td>2.65</td>\n",
              "    </tr>\n",
              "    <tr>\n",
              "      <th>OLDER FAMILIES</th>\n",
              "      <td>6673</td>\n",
              "      <td>4.02</td>\n",
              "    </tr>\n",
              "    <tr>\n",
              "      <th>OLDER SINGLES/COUPLES</th>\n",
              "      <td>9155</td>\n",
              "      <td>3.20</td>\n",
              "    </tr>\n",
              "    <tr>\n",
              "      <th>RETIREES</th>\n",
              "      <td>8807</td>\n",
              "      <td>2.97</td>\n",
              "    </tr>\n",
              "    <tr>\n",
              "      <th>YOUNG FAMILIES</th>\n",
              "      <td>6190</td>\n",
              "      <td>3.89</td>\n",
              "    </tr>\n",
              "    <tr>\n",
              "      <th>YOUNG SINGLES/COUPLES</th>\n",
              "      <td>7170</td>\n",
              "      <td>2.60</td>\n",
              "    </tr>\n",
              "  </tbody>\n",
              "</table>\n",
              "</div>"
            ],
            "text/plain": [
              "                        LYLTY_CARD_NBR  chips_per\n",
              "LIFESTAGE                                        \n",
              "MIDAGE SINGLES/COUPLES            4289       3.15\n",
              "NEW FAMILIES                      1341       2.65\n",
              "OLDER FAMILIES                    6673       4.02\n",
              "OLDER SINGLES/COUPLES             9155       3.20\n",
              "RETIREES                          8807       2.97\n",
              "YOUNG FAMILIES                    6190       3.89\n",
              "YOUNG SINGLES/COUPLES             7170       2.60"
            ]
          },
          "metadata": {
            "tags": []
          },
          "execution_count": 29
        }
      ]
    },
    {
      "cell_type": "code",
      "metadata": {
        "id": "WEqC9BrrmbA4"
      },
      "source": [
        "customer_lifestage.chips_per.sort_values(   \n",
        ").plot(kind='bar',\n",
        "       figsize=(10,10),\n",
        "       title='Average count of chips per customer of each Lifestage')\n",
        "# On average, customers of OLDER FAMILIES purchase the most chips, \n",
        "# and those of YOUNG SINGLES/COUPLES purchase the least chips."
      ],
      "execution_count": null,
      "outputs": []
    },
    {
      "cell_type": "code",
      "metadata": {
        "id": "HRJQtjopUg0e"
      },
      "source": [
        "df_newf=df['TOT_SALES'][df['LIFESTAGE']=='NEW FAMILIES']\n",
        "df_youngf=df['TOT_SALES'][df['LIFESTAGE']=='YOUNG FAMILIES']\n",
        "df_olderf=df['TOT_SALES'][df['LIFESTAGE']=='OLDER FAMILIES']\n",
        "df_youngsc=df['TOT_SALES'][df['LIFESTAGE']=='YOUNG SINGLES/COUPLES']\n",
        "df_oldersc=df['TOT_SALES'][df['LIFESTAGE']=='OLDER SINGLES/COUPLES']\n",
        "df_midsc=df['TOT_SALES'][df['LIFESTAGE']=='MIDAGE SINGLES/COUPLES']\n",
        "df_ret=df['TOT_SALES'][df['LIFESTAGE']=='RETIREES']\n",
        "df_newf=pd.DataFrame(df_newf.values,columns=['NEW FAMILIES'])\n",
        "df_youngf=pd.DataFrame(df_youngf.values,columns=['YOUNG FAMILIES'])\n",
        "df_olderf=pd.DataFrame(df_olderf.values,columns=['OLDER FAMILIES'])\n",
        "df_youngsc=pd.DataFrame(df_youngsc.values,columns=['YOUNG SINGLES/COUPLES'])\n",
        "df_oldersc=pd.DataFrame(df_oldersc.values,columns=['OLDER SINGLES/COUPLES'])\n",
        "df_midsc=pd.DataFrame(df_midsc.values,columns=['MIDAGE SINGLES/COUPLES'])\n",
        "df_ret=pd.DataFrame(df_ret.values,columns=['RETIREES'])\n",
        "dfs=[df_newf,df_youngf,df_olderf,df_youngsc,df_oldersc,df_midsc,df_ret]\n",
        "df_box_life = pd.concat(dfs, join='outer', axis=1)"
      ],
      "execution_count": 33,
      "outputs": []
    },
    {
      "cell_type": "code",
      "metadata": {
        "id": "3nUf-uXmXqEA"
      },
      "source": [
        "# Boxplot to show more information\n",
        "f, ax = plt.subplots(figsize=(18, 20))\n",
        "\n",
        "plt.title(\"Box Plot for total sales distribution\")\n",
        "ax.set(xlim=(-.05, 1.05))\n",
        "\n",
        "ax = sns.boxplot(data = df_box_life)\n",
        "# OLDER SINGLES/COUPLES and RETIREES have a little higher sales on average \n",
        "# than other lifestages."
      ],
      "execution_count": null,
      "outputs": []
    },
    {
      "cell_type": "markdown",
      "metadata": {
        "id": "MG8HwQobUPoc"
      },
      "source": [
        "### Distributions on customer types"
      ]
    },
    {
      "cell_type": "code",
      "metadata": {
        "id": "cJB0s_6VKp3V"
      },
      "source": [
        "# Distribution of total sales of each customer type\n",
        "df[['TOT_SALES','PREMIUM_CUSTOMER']].groupby('PREMIUM_CUSTOMER').TOT_SALES.sum(\n",
        ").sort_values().plot(kind='bar',figsize=(10,10),\n",
        "                     title='Total sales of each customer type')\n",
        "# Mainstream customers have the highest sales, \n",
        "# premium customers have the lowest sales."
      ],
      "execution_count": null,
      "outputs": []
    },
    {
      "cell_type": "code",
      "metadata": {
        "id": "xViWoo8KQ3tK"
      },
      "source": [
        "# Distribution of customer counts for each customer type\n",
        "df[['LYLTY_CARD_NBR','PREMIUM_CUSTOMER']].groupby(\n",
        "    'PREMIUM_CUSTOMER').LYLTY_CARD_NBR.count().sort_values(\n",
        "    ).plot(kind='bar',\n",
        "           figsize=(10,10),\n",
        "           title='Total counts of each customer type')\n",
        "# Mainstream customers have the largest counts, \n",
        "# premium customers have the smallest counts.\n",
        "# It can be the reason that most of the sales are coming from mainstream segment."
      ],
      "execution_count": null,
      "outputs": []
    },
    {
      "cell_type": "code",
      "metadata": {
        "colab": {
          "base_uri": "https://localhost:8080/",
          "height": 170
        },
        "id": "zGfBmbB0WCpD",
        "outputId": "f1a17611-3b38-4f84-b456-04bdbaaace2c"
      },
      "source": [
        "# How many chips are bought per customer for each type\n",
        "customer_type=df[['LYLTY_CARD_NBR','PREMIUM_CUSTOMER']].groupby(\n",
        "    'PREMIUM_CUSTOMER')[['LYLTY_CARD_NBR']].nunique()\n",
        "quan_type=df[['PREMIUM_CUSTOMER','PROD_QTY']].groupby(\n",
        "    'PREMIUM_CUSTOMER')[['PROD_QTY']].sum()\n",
        "customer_type['chips_per']=quan_type['PROD_QTY']/customer_type['LYLTY_CARD_NBR']\n",
        "customer_type"
      ],
      "execution_count": 38,
      "outputs": [
        {
          "output_type": "execute_result",
          "data": {
            "text/html": [
              "<div>\n",
              "<style scoped>\n",
              "    .dataframe tbody tr th:only-of-type {\n",
              "        vertical-align: middle;\n",
              "    }\n",
              "\n",
              "    .dataframe tbody tr th {\n",
              "        vertical-align: top;\n",
              "    }\n",
              "\n",
              "    .dataframe thead th {\n",
              "        text-align: right;\n",
              "    }\n",
              "</style>\n",
              "<table border=\"1\" class=\"dataframe\">\n",
              "  <thead>\n",
              "    <tr style=\"text-align: right;\">\n",
              "      <th></th>\n",
              "      <th>LYLTY_CARD_NBR</th>\n",
              "      <th>chips_per</th>\n",
              "    </tr>\n",
              "    <tr>\n",
              "      <th>PREMIUM_CUSTOMER</th>\n",
              "      <th></th>\n",
              "      <th></th>\n",
              "    </tr>\n",
              "  </thead>\n",
              "  <tbody>\n",
              "    <tr>\n",
              "      <th>Budget</th>\n",
              "      <td>15094</td>\n",
              "      <td>3.34</td>\n",
              "    </tr>\n",
              "    <tr>\n",
              "      <th>Mainstream</th>\n",
              "      <td>17080</td>\n",
              "      <td>3.18</td>\n",
              "    </tr>\n",
              "    <tr>\n",
              "      <th>Premium</th>\n",
              "      <td>11451</td>\n",
              "      <td>3.26</td>\n",
              "    </tr>\n",
              "  </tbody>\n",
              "</table>\n",
              "</div>"
            ],
            "text/plain": [
              "                  LYLTY_CARD_NBR  chips_per\n",
              "PREMIUM_CUSTOMER                           \n",
              "Budget                     15094       3.34\n",
              "Mainstream                 17080       3.18\n",
              "Premium                    11451       3.26"
            ]
          },
          "metadata": {
            "tags": []
          },
          "execution_count": 38
        }
      ]
    },
    {
      "cell_type": "code",
      "metadata": {
        "id": "V23MSCBPWh2t"
      },
      "source": [
        "customer_type.chips_per.sort_values(\n",
        ").plot(kind='bar',figsize=(10,10),\n",
        "       title='Average count of chips per customer of each type')\n",
        "# On average, customers of BUDGET purchase the most chips, \n",
        "# and those of MAINSTREAM purchase the least chips.\n",
        "# Overall they are pretty close."
      ],
      "execution_count": null,
      "outputs": []
    },
    {
      "cell_type": "code",
      "metadata": {
        "id": "2Szr32C2XW1f"
      },
      "source": [
        "df_budget=df['TOT_SALES'][df['PREMIUM_CUSTOMER']=='Budget']\n",
        "df_main=df['TOT_SALES'][df['PREMIUM_CUSTOMER']=='Mainstream']\n",
        "df_pre=df['TOT_SALES'][df['PREMIUM_CUSTOMER']=='Premium']\n",
        "df_budget=pd.DataFrame(df_budget.values,columns=['Budget'])\n",
        "df_main=pd.DataFrame(df_main.values,columns=['Mainstream'])\n",
        "df_pre=pd.DataFrame(df_pre.values,columns=['Premium'])\n",
        "dfs=[df_budget,df_main,df_pre]\n",
        "df_box_life = pd.concat(dfs, join='outer', axis=1)"
      ],
      "execution_count": 40,
      "outputs": []
    },
    {
      "cell_type": "code",
      "metadata": {
        "id": "-JibFUcHYZWk"
      },
      "source": [
        "# Boxplot to show more information\n",
        "f, ax = plt.subplots(figsize=(10, 20))\n",
        "\n",
        "plt.title(\"Box Plot for total sales distribution\")\n",
        "ax.set(xlim=(-.05, 1.05))\n",
        "\n",
        "ax = sns.boxplot(data = df_box_life)\n",
        "# Maindtream customers have a little higher sales on average than others."
      ],
      "execution_count": null,
      "outputs": []
    },
    {
      "cell_type": "markdown",
      "metadata": {
        "id": "EcC6fG8iY3qK"
      },
      "source": [
        "### Distributions on combined segments"
      ]
    },
    {
      "cell_type": "code",
      "metadata": {
        "id": "b81T5S0rY7mv"
      },
      "source": [
        "df['Combine']=df['LIFESTAGE']+'-'+df['PREMIUM_CUSTOMER']"
      ],
      "execution_count": 43,
      "outputs": []
    },
    {
      "cell_type": "code",
      "metadata": {
        "id": "jrXLFHInaP92"
      },
      "source": [
        "# Distribution of total sales of each customer type\n",
        "df[['TOT_SALES','Combine']].groupby('Combine').TOT_SALES.sum().sort_values(\n",
        ").plot(kind='bar',figsize=(10,10),title='Total sales of each combined segment')\n",
        "# Olderfamilies-Budget customers have the highest sales, \n",
        "# New families-Premium customers have the lowest sales."
      ],
      "execution_count": null,
      "outputs": []
    },
    {
      "cell_type": "code",
      "metadata": {
        "id": "1H3xGcbXarac"
      },
      "source": [
        "# Distribution of customer counts for each combined segment.\n",
        "df[['LYLTY_CARD_NBR','Combine']].groupby('Combine').LYLTY_CARD_NBR.count(\n",
        ").sort_values().plot(kind='bar',figsize=(10,10),\n",
        "                     title='Total counts of each combined segment')\n",
        "# Olderfamilies-Budget customers have the largest counts, \n",
        "# New families-Premium customers have the smallest counts.\n",
        "# It can be the reason that most of the sales come from Olderfamilies-Budget."
      ],
      "execution_count": null,
      "outputs": []
    },
    {
      "cell_type": "code",
      "metadata": {
        "colab": {
          "base_uri": "https://localhost:8080/",
          "height": 716
        },
        "id": "_S8hRoHua5FH",
        "outputId": "a9a7c533-206f-456f-ea71-bd0ccf963295"
      },
      "source": [
        "# How many chips are bought per customer for each combined segment\n",
        "customer_c=df[['LYLTY_CARD_NBR','Combine']].groupby(\n",
        "    'Combine')[['LYLTY_CARD_NBR']].nunique()\n",
        "quan_c=df[['Combine','PROD_QTY']].groupby('Combine')[['PROD_QTY']].sum()\n",
        "customer_c['chips_per']=quan_c['PROD_QTY']/customer_c['LYLTY_CARD_NBR']\n",
        "customer_c"
      ],
      "execution_count": 46,
      "outputs": [
        {
          "output_type": "execute_result",
          "data": {
            "text/html": [
              "<div>\n",
              "<style scoped>\n",
              "    .dataframe tbody tr th:only-of-type {\n",
              "        vertical-align: middle;\n",
              "    }\n",
              "\n",
              "    .dataframe tbody tr th {\n",
              "        vertical-align: top;\n",
              "    }\n",
              "\n",
              "    .dataframe thead th {\n",
              "        text-align: right;\n",
              "    }\n",
              "</style>\n",
              "<table border=\"1\" class=\"dataframe\">\n",
              "  <thead>\n",
              "    <tr style=\"text-align: right;\">\n",
              "      <th></th>\n",
              "      <th>LYLTY_CARD_NBR</th>\n",
              "      <th>chips_per</th>\n",
              "    </tr>\n",
              "    <tr>\n",
              "      <th>Combine</th>\n",
              "      <th></th>\n",
              "      <th></th>\n",
              "    </tr>\n",
              "  </thead>\n",
              "  <tbody>\n",
              "    <tr>\n",
              "      <th>MIDAGE SINGLES/COUPLES-Budget</th>\n",
              "      <td>894</td>\n",
              "      <td>3.13</td>\n",
              "    </tr>\n",
              "    <tr>\n",
              "      <th>MIDAGE SINGLES/COUPLES-Mainstream</th>\n",
              "      <td>1996</td>\n",
              "      <td>3.20</td>\n",
              "    </tr>\n",
              "    <tr>\n",
              "      <th>MIDAGE SINGLES/COUPLES-Premium</th>\n",
              "      <td>1399</td>\n",
              "      <td>3.10</td>\n",
              "    </tr>\n",
              "    <tr>\n",
              "      <th>NEW FAMILIES-Budget</th>\n",
              "      <td>581</td>\n",
              "      <td>2.67</td>\n",
              "    </tr>\n",
              "    <tr>\n",
              "      <th>NEW FAMILIES-Mainstream</th>\n",
              "      <td>444</td>\n",
              "      <td>2.64</td>\n",
              "    </tr>\n",
              "    <tr>\n",
              "      <th>NEW FAMILIES-Premium</th>\n",
              "      <td>316</td>\n",
              "      <td>2.65</td>\n",
              "    </tr>\n",
              "    <tr>\n",
              "      <th>OLDER FAMILIES-Budget</th>\n",
              "      <td>3177</td>\n",
              "      <td>4.00</td>\n",
              "    </tr>\n",
              "    <tr>\n",
              "      <th>OLDER FAMILIES-Mainstream</th>\n",
              "      <td>1964</td>\n",
              "      <td>4.08</td>\n",
              "    </tr>\n",
              "    <tr>\n",
              "      <th>OLDER FAMILIES-Premium</th>\n",
              "      <td>1532</td>\n",
              "      <td>3.98</td>\n",
              "    </tr>\n",
              "    <tr>\n",
              "      <th>OLDER SINGLES/COUPLES-Budget</th>\n",
              "      <td>3114</td>\n",
              "      <td>3.17</td>\n",
              "    </tr>\n",
              "    <tr>\n",
              "      <th>OLDER SINGLES/COUPLES-Mainstream</th>\n",
              "      <td>3062</td>\n",
              "      <td>3.22</td>\n",
              "    </tr>\n",
              "    <tr>\n",
              "      <th>OLDER SINGLES/COUPLES-Premium</th>\n",
              "      <td>2979</td>\n",
              "      <td>3.19</td>\n",
              "    </tr>\n",
              "    <tr>\n",
              "      <th>RETIREES-Budget</th>\n",
              "      <td>2722</td>\n",
              "      <td>3.00</td>\n",
              "    </tr>\n",
              "    <tr>\n",
              "      <th>RETIREES-Mainstream</th>\n",
              "      <td>3798</td>\n",
              "      <td>2.95</td>\n",
              "    </tr>\n",
              "    <tr>\n",
              "      <th>RETIREES-Premium</th>\n",
              "      <td>2287</td>\n",
              "      <td>2.95</td>\n",
              "    </tr>\n",
              "    <tr>\n",
              "      <th>YOUNG FAMILIES-Budget</th>\n",
              "      <td>2687</td>\n",
              "      <td>3.89</td>\n",
              "    </tr>\n",
              "    <tr>\n",
              "      <th>YOUNG FAMILIES-Mainstream</th>\n",
              "      <td>1864</td>\n",
              "      <td>3.85</td>\n",
              "    </tr>\n",
              "    <tr>\n",
              "      <th>YOUNG FAMILIES-Premium</th>\n",
              "      <td>1639</td>\n",
              "      <td>3.92</td>\n",
              "    </tr>\n",
              "    <tr>\n",
              "      <th>YOUNG SINGLES/COUPLES-Budget</th>\n",
              "      <td>1919</td>\n",
              "      <td>2.53</td>\n",
              "    </tr>\n",
              "    <tr>\n",
              "      <th>YOUNG SINGLES/COUPLES-Mainstream</th>\n",
              "      <td>3952</td>\n",
              "      <td>2.65</td>\n",
              "    </tr>\n",
              "    <tr>\n",
              "      <th>YOUNG SINGLES/COUPLES-Premium</th>\n",
              "      <td>1299</td>\n",
              "      <td>2.58</td>\n",
              "    </tr>\n",
              "  </tbody>\n",
              "</table>\n",
              "</div>"
            ],
            "text/plain": [
              "                                   LYLTY_CARD_NBR  chips_per\n",
              "Combine                                                     \n",
              "MIDAGE SINGLES/COUPLES-Budget                 894       3.13\n",
              "MIDAGE SINGLES/COUPLES-Mainstream            1996       3.20\n",
              "MIDAGE SINGLES/COUPLES-Premium               1399       3.10\n",
              "NEW FAMILIES-Budget                           581       2.67\n",
              "NEW FAMILIES-Mainstream                       444       2.64\n",
              "NEW FAMILIES-Premium                          316       2.65\n",
              "OLDER FAMILIES-Budget                        3177       4.00\n",
              "OLDER FAMILIES-Mainstream                    1964       4.08\n",
              "OLDER FAMILIES-Premium                       1532       3.98\n",
              "OLDER SINGLES/COUPLES-Budget                 3114       3.17\n",
              "OLDER SINGLES/COUPLES-Mainstream             3062       3.22\n",
              "OLDER SINGLES/COUPLES-Premium                2979       3.19\n",
              "RETIREES-Budget                              2722       3.00\n",
              "RETIREES-Mainstream                          3798       2.95\n",
              "RETIREES-Premium                             2287       2.95\n",
              "YOUNG FAMILIES-Budget                        2687       3.89\n",
              "YOUNG FAMILIES-Mainstream                    1864       3.85\n",
              "YOUNG FAMILIES-Premium                       1639       3.92\n",
              "YOUNG SINGLES/COUPLES-Budget                 1919       2.53\n",
              "YOUNG SINGLES/COUPLES-Mainstream             3952       2.65\n",
              "YOUNG SINGLES/COUPLES-Premium                1299       2.58"
            ]
          },
          "metadata": {
            "tags": []
          },
          "execution_count": 46
        }
      ]
    },
    {
      "cell_type": "code",
      "metadata": {
        "id": "P2b43003a53U"
      },
      "source": [
        "customer_c.chips_per.sort_values(\n",
        ").plot(kind='bar',figsize=(10,10),\n",
        "       title='Average count of chips per customer of combined segment')\n",
        "# On average, customers of OLDER FAMILIES-Mainstream purchase the most chips, \n",
        "# and those of YOUNG SINGLES/COUPLES-Budget purchase the least chips.\n",
        "# There is a obvious difference seen, older families have the largest purchase \n",
        "# of all customer types, then young families follows them. Both above 3.5.\n",
        "# Other segments have reletively lower purchase around 2.5 to 3.2.\n",
        "# It can be conclude that older families and young families are most targeted."
      ],
      "execution_count": null,
      "outputs": []
    },
    {
      "cell_type": "markdown",
      "metadata": {
        "id": "jdcf5TSqeI-R"
      },
      "source": [
        "### Distributions of pack size and brand"
      ]
    },
    {
      "cell_type": "code",
      "metadata": {
        "id": "zEqhfuSXeVGd"
      },
      "source": [
        "# Distribution of total sales of each type of packsize\n",
        "df[['TOT_SALES','PACKSIZE']].groupby('PACKSIZE').TOT_SALES.sum().sort_values(\n",
        ").plot(kind='bar',figsize=(10,10),title='Total sales of each type of packsize')\n",
        "# Size of 175g have the highest sales, and one of 160 have the lowest sales.\n",
        "# Looks like medium size is most popular."
      ],
      "execution_count": null,
      "outputs": []
    },
    {
      "cell_type": "code",
      "metadata": {
        "id": "NyrL_QanefvV"
      },
      "source": [
        "# Distribution of total sales of each brand\n",
        "df[['TOT_SALES','BRAND']].groupby('BRAND').TOT_SALES.sum().sort_values(\n",
        ").plot(kind='bar',figsize=(10,10),title='Total sales of each brand')\n",
        "# Smith and Doritos have the highest sales, they are the most popular brands \n",
        "# of chips. French have the lowest sales."
      ],
      "execution_count": null,
      "outputs": []
    },
    {
      "cell_type": "markdown",
      "metadata": {
        "id": "Gq93YTZFgYB_"
      },
      "source": [
        "### Seasonal analysis on time series"
      ]
    },
    {
      "cell_type": "code",
      "metadata": {
        "id": "t8EijfcxgdZL"
      },
      "source": [
        "df=df.sort_values('DATE')\n",
        "df[['TOT_SALES','DATE']].groupby('DATE').TOT_SALES.sum(\n",
        ").plot(kind='line',figsize=(20,10),title='Total sales time series')\n",
        "# There is a peak of sales at the end of 2018, the most possible explanation \n",
        "# can be the impact of Christmas which is usual for retails.\n",
        "# There are two low points in 08/2018 and 05/2019. \n",
        "# Other information should be provided and considered for the explanation."
      ],
      "execution_count": null,
      "outputs": []
    },
    {
      "cell_type": "code",
      "metadata": {
        "colab": {
          "base_uri": "https://localhost:8080/",
          "height": 857
        },
        "id": "BUAxL9qbA-oH",
        "outputId": "c1020778-757f-4520-dc4c-2a3d914a901d"
      },
      "source": [
        "df"
      ],
      "execution_count": 54,
      "outputs": [
        {
          "output_type": "execute_result",
          "data": {
            "text/html": [
              "<div>\n",
              "<style scoped>\n",
              "    .dataframe tbody tr th:only-of-type {\n",
              "        vertical-align: middle;\n",
              "    }\n",
              "\n",
              "    .dataframe tbody tr th {\n",
              "        vertical-align: top;\n",
              "    }\n",
              "\n",
              "    .dataframe thead th {\n",
              "        text-align: right;\n",
              "    }\n",
              "</style>\n",
              "<table border=\"1\" class=\"dataframe\">\n",
              "  <thead>\n",
              "    <tr style=\"text-align: right;\">\n",
              "      <th></th>\n",
              "      <th>DATE</th>\n",
              "      <th>STORE_NBR</th>\n",
              "      <th>LYLTY_CARD_NBR</th>\n",
              "      <th>TXN_ID</th>\n",
              "      <th>PROD_NBR</th>\n",
              "      <th>PROD_NAME</th>\n",
              "      <th>PROD_QTY</th>\n",
              "      <th>TOT_SALES</th>\n",
              "      <th>BRAND</th>\n",
              "      <th>PACKSIZE</th>\n",
              "      <th>LIFESTAGE</th>\n",
              "      <th>PREMIUM_CUSTOMER</th>\n",
              "      <th>Combine</th>\n",
              "    </tr>\n",
              "  </thead>\n",
              "  <tbody>\n",
              "    <tr>\n",
              "      <th>45746</th>\n",
              "      <td>2018-07-01</td>\n",
              "      <td>165</td>\n",
              "      <td>165131</td>\n",
              "      <td>165990</td>\n",
              "      <td>44</td>\n",
              "      <td>thins chips light&amp;  tangy 175g</td>\n",
              "      <td>2</td>\n",
              "      <td>6.60</td>\n",
              "      <td>thins</td>\n",
              "      <td>175</td>\n",
              "      <td>RETIREES</td>\n",
              "      <td>Budget</td>\n",
              "      <td>RETIREES-Budget</td>\n",
              "    </tr>\n",
              "    <tr>\n",
              "      <th>31243</th>\n",
              "      <td>2018-07-01</td>\n",
              "      <td>111</td>\n",
              "      <td>111311</td>\n",
              "      <td>113493</td>\n",
              "      <td>110</td>\n",
              "      <td>ww original corn    chips 200g</td>\n",
              "      <td>1</td>\n",
              "      <td>1.90</td>\n",
              "      <td>ww</td>\n",
              "      <td>200</td>\n",
              "      <td>RETIREES</td>\n",
              "      <td>Budget</td>\n",
              "      <td>RETIREES-Budget</td>\n",
              "    </tr>\n",
              "    <tr>\n",
              "      <th>46760</th>\n",
              "      <td>2018-07-01</td>\n",
              "      <td>168</td>\n",
              "      <td>168065</td>\n",
              "      <td>169740</td>\n",
              "      <td>44</td>\n",
              "      <td>thins chips light&amp;  tangy 175g</td>\n",
              "      <td>2</td>\n",
              "      <td>6.60</td>\n",
              "      <td>thins</td>\n",
              "      <td>175</td>\n",
              "      <td>OLDER SINGLES/COUPLES</td>\n",
              "      <td>Mainstream</td>\n",
              "      <td>OLDER SINGLES/COUPLES-Mainstream</td>\n",
              "    </tr>\n",
              "    <tr>\n",
              "      <th>37200</th>\n",
              "      <td>2018-07-01</td>\n",
              "      <td>130</td>\n",
              "      <td>130373</td>\n",
              "      <td>135221</td>\n",
              "      <td>90</td>\n",
              "      <td>tostitos smoked     chipotle 175g</td>\n",
              "      <td>2</td>\n",
              "      <td>8.80</td>\n",
              "      <td>tostitos</td>\n",
              "      <td>175</td>\n",
              "      <td>RETIREES</td>\n",
              "      <td>Budget</td>\n",
              "      <td>RETIREES-Budget</td>\n",
              "    </tr>\n",
              "    <tr>\n",
              "      <th>46630</th>\n",
              "      <td>2018-07-01</td>\n",
              "      <td>167</td>\n",
              "      <td>167447</td>\n",
              "      <td>169272</td>\n",
              "      <td>22</td>\n",
              "      <td>thins chips         originl saltd 175g</td>\n",
              "      <td>1</td>\n",
              "      <td>3.30</td>\n",
              "      <td>thins</td>\n",
              "      <td>175</td>\n",
              "      <td>OLDER SINGLES/COUPLES</td>\n",
              "      <td>Mainstream</td>\n",
              "      <td>OLDER SINGLES/COUPLES-Mainstream</td>\n",
              "    </tr>\n",
              "    <tr>\n",
              "      <th>...</th>\n",
              "      <td>...</td>\n",
              "      <td>...</td>\n",
              "      <td>...</td>\n",
              "      <td>...</td>\n",
              "      <td>...</td>\n",
              "      <td>...</td>\n",
              "      <td>...</td>\n",
              "      <td>...</td>\n",
              "      <td>...</td>\n",
              "      <td>...</td>\n",
              "      <td>...</td>\n",
              "      <td>...</td>\n",
              "      <td>...</td>\n",
              "    </tr>\n",
              "    <tr>\n",
              "      <th>18958</th>\n",
              "      <td>2019-06-30</td>\n",
              "      <td>71</td>\n",
              "      <td>71070</td>\n",
              "      <td>69372</td>\n",
              "      <td>5</td>\n",
              "      <td>natural chip        compny seasalt175g</td>\n",
              "      <td>2</td>\n",
              "      <td>6.00</td>\n",
              "      <td>natural</td>\n",
              "      <td>175</td>\n",
              "      <td>YOUNG SINGLES/COUPLES</td>\n",
              "      <td>Mainstream</td>\n",
              "      <td>YOUNG SINGLES/COUPLES-Mainstream</td>\n",
              "    </tr>\n",
              "    <tr>\n",
              "      <th>69502</th>\n",
              "      <td>2019-06-30</td>\n",
              "      <td>250</td>\n",
              "      <td>250193</td>\n",
              "      <td>252278</td>\n",
              "      <td>14</td>\n",
              "      <td>smiths crnkle chip  orgnl big bag 380g</td>\n",
              "      <td>2</td>\n",
              "      <td>11.80</td>\n",
              "      <td>smiths</td>\n",
              "      <td>380</td>\n",
              "      <td>YOUNG SINGLES/COUPLES</td>\n",
              "      <td>Mainstream</td>\n",
              "      <td>YOUNG SINGLES/COUPLES-Mainstream</td>\n",
              "    </tr>\n",
              "    <tr>\n",
              "      <th>55476</th>\n",
              "      <td>2019-06-30</td>\n",
              "      <td>201</td>\n",
              "      <td>201378</td>\n",
              "      <td>201597</td>\n",
              "      <td>75</td>\n",
              "      <td>cobs popd sea salt  chips 110g</td>\n",
              "      <td>2</td>\n",
              "      <td>7.60</td>\n",
              "      <td>cobs</td>\n",
              "      <td>110</td>\n",
              "      <td>YOUNG FAMILIES</td>\n",
              "      <td>Mainstream</td>\n",
              "      <td>YOUNG FAMILIES-Mainstream</td>\n",
              "    </tr>\n",
              "    <tr>\n",
              "      <th>62824</th>\n",
              "      <td>2019-06-30</td>\n",
              "      <td>226</td>\n",
              "      <td>226329</td>\n",
              "      <td>227998</td>\n",
              "      <td>16</td>\n",
              "      <td>smiths crinkle chips salt &amp; vinegar 330g</td>\n",
              "      <td>2</td>\n",
              "      <td>11.40</td>\n",
              "      <td>smiths</td>\n",
              "      <td>330</td>\n",
              "      <td>OLDER SINGLES/COUPLES</td>\n",
              "      <td>Budget</td>\n",
              "      <td>OLDER SINGLES/COUPLES-Budget</td>\n",
              "    </tr>\n",
              "    <tr>\n",
              "      <th>63985</th>\n",
              "      <td>2019-06-30</td>\n",
              "      <td>230</td>\n",
              "      <td>230022</td>\n",
              "      <td>232028</td>\n",
              "      <td>77</td>\n",
              "      <td>doritos corn chips  nacho cheese 170g</td>\n",
              "      <td>2</td>\n",
              "      <td>8.80</td>\n",
              "      <td>doritos</td>\n",
              "      <td>170</td>\n",
              "      <td>YOUNG SINGLES/COUPLES</td>\n",
              "      <td>Mainstream</td>\n",
              "      <td>YOUNG SINGLES/COUPLES-Mainstream</td>\n",
              "    </tr>\n",
              "  </tbody>\n",
              "</table>\n",
              "<p>74570 rows × 13 columns</p>\n",
              "</div>"
            ],
            "text/plain": [
              "            DATE  STORE_NBR  ...  PREMIUM_CUSTOMER                           Combine\n",
              "45746 2018-07-01        165  ...            Budget                   RETIREES-Budget\n",
              "31243 2018-07-01        111  ...            Budget                   RETIREES-Budget\n",
              "46760 2018-07-01        168  ...        Mainstream  OLDER SINGLES/COUPLES-Mainstream\n",
              "37200 2018-07-01        130  ...            Budget                   RETIREES-Budget\n",
              "46630 2018-07-01        167  ...        Mainstream  OLDER SINGLES/COUPLES-Mainstream\n",
              "...          ...        ...  ...               ...                               ...\n",
              "18958 2019-06-30         71  ...        Mainstream  YOUNG SINGLES/COUPLES-Mainstream\n",
              "69502 2019-06-30        250  ...        Mainstream  YOUNG SINGLES/COUPLES-Mainstream\n",
              "55476 2019-06-30        201  ...        Mainstream         YOUNG FAMILIES-Mainstream\n",
              "62824 2019-06-30        226  ...            Budget      OLDER SINGLES/COUPLES-Budget\n",
              "63985 2019-06-30        230  ...        Mainstream  YOUNG SINGLES/COUPLES-Mainstream\n",
              "\n",
              "[74570 rows x 13 columns]"
            ]
          },
          "metadata": {
            "tags": []
          },
          "execution_count": 54
        }
      ]
    },
    {
      "cell_type": "code",
      "metadata": {
        "id": "i8H8RJfbAslc"
      },
      "source": [
        "df.to_csv('/content/drive/MyDrive/Quantium Project/Preprocessed data.csv')"
      ],
      "execution_count": 55,
      "outputs": []
    }
  ]
}