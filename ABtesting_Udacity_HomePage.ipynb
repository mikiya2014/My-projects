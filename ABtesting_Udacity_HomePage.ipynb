{
  "nbformat": 4,
  "nbformat_minor": 0,
  "metadata": {
    "colab": {
      "name": "ABtesting_Udacity_HomePage.ipynb",
      "provenance": [],
      "mount_file_id": "1aBund0Aq0NpMcAqBT__-fBtfqQvdfIFU",
      "authorship_tag": "ABX9TyMRR9sE/3mQsv09u1ygneeR",
      "include_colab_link": true
    },
    "kernelspec": {
      "name": "python3",
      "display_name": "Python 3"
    },
    "language_info": {
      "name": "python"
    }
  },
  "cells": [
    {
      "cell_type": "markdown",
      "metadata": {
        "id": "view-in-github",
        "colab_type": "text"
      },
      "source": [
        "<a href=\"https://colab.research.google.com/github/mikiya2014/My-projects/blob/main/ABtesting_Udacity_HomePage.ipynb\" target=\"_parent\"><img src=\"https://colab.research.google.com/assets/colab-badge.svg\" alt=\"Open In Colab\"/></a>"
      ]
    },
    {
      "cell_type": "code",
      "metadata": {
        "id": "tEen2soXGhL0"
      },
      "source": [
        "import pandas as pd\n",
        "import numpy as np\n",
        "import matplotlib.pyplot as plt\n",
        "from scipy import stats\n",
        "import statsmodels.stats.api as sms\n",
        "from statsmodels.stats.proportion import proportions_ztest, proportion_confint"
      ],
      "execution_count": 18,
      "outputs": []
    },
    {
      "cell_type": "code",
      "metadata": {
        "id": "AbIB5IrHGthc"
      },
      "source": [
        "df=pd.read_csv('/content/drive/MyDrive/Projects - Yu (Miki) Wang/Data/homepage_actions.csv')"
      ],
      "execution_count": 40,
      "outputs": []
    },
    {
      "cell_type": "code",
      "metadata": {
        "colab": {
          "base_uri": "https://localhost:8080/",
          "height": 200
        },
        "id": "sivWvPlAHbqT",
        "outputId": "38173de0-c087-4085-cc23-45aed09de229"
      },
      "source": [
        "df.head()"
      ],
      "execution_count": 3,
      "outputs": [
        {
          "output_type": "execute_result",
          "data": {
            "text/html": [
              "<div>\n",
              "<style scoped>\n",
              "    .dataframe tbody tr th:only-of-type {\n",
              "        vertical-align: middle;\n",
              "    }\n",
              "\n",
              "    .dataframe tbody tr th {\n",
              "        vertical-align: top;\n",
              "    }\n",
              "\n",
              "    .dataframe thead th {\n",
              "        text-align: right;\n",
              "    }\n",
              "</style>\n",
              "<table border=\"1\" class=\"dataframe\">\n",
              "  <thead>\n",
              "    <tr style=\"text-align: right;\">\n",
              "      <th></th>\n",
              "      <th>timestamp</th>\n",
              "      <th>id</th>\n",
              "      <th>group</th>\n",
              "      <th>action</th>\n",
              "    </tr>\n",
              "  </thead>\n",
              "  <tbody>\n",
              "    <tr>\n",
              "      <th>0</th>\n",
              "      <td>2016-09-24 17:42:27.839496</td>\n",
              "      <td>804196</td>\n",
              "      <td>experiment</td>\n",
              "      <td>view</td>\n",
              "    </tr>\n",
              "    <tr>\n",
              "      <th>1</th>\n",
              "      <td>2016-09-24 19:19:03.542569</td>\n",
              "      <td>434745</td>\n",
              "      <td>experiment</td>\n",
              "      <td>view</td>\n",
              "    </tr>\n",
              "    <tr>\n",
              "      <th>2</th>\n",
              "      <td>2016-09-24 19:36:00.944135</td>\n",
              "      <td>507599</td>\n",
              "      <td>experiment</td>\n",
              "      <td>view</td>\n",
              "    </tr>\n",
              "    <tr>\n",
              "      <th>3</th>\n",
              "      <td>2016-09-24 19:59:02.646620</td>\n",
              "      <td>671993</td>\n",
              "      <td>control</td>\n",
              "      <td>view</td>\n",
              "    </tr>\n",
              "    <tr>\n",
              "      <th>4</th>\n",
              "      <td>2016-09-24 20:26:14.466886</td>\n",
              "      <td>536734</td>\n",
              "      <td>experiment</td>\n",
              "      <td>view</td>\n",
              "    </tr>\n",
              "  </tbody>\n",
              "</table>\n",
              "</div>"
            ],
            "text/plain": [
              "                    timestamp      id       group action\n",
              "0  2016-09-24 17:42:27.839496  804196  experiment   view\n",
              "1  2016-09-24 19:19:03.542569  434745  experiment   view\n",
              "2  2016-09-24 19:36:00.944135  507599  experiment   view\n",
              "3  2016-09-24 19:59:02.646620  671993     control   view\n",
              "4  2016-09-24 20:26:14.466886  536734  experiment   view"
            ]
          },
          "metadata": {
            "tags": []
          },
          "execution_count": 3
        }
      ]
    },
    {
      "cell_type": "code",
      "metadata": {
        "colab": {
          "base_uri": "https://localhost:8080/"
        },
        "id": "54TTan6kHs-9",
        "outputId": "ed76891a-c1c1-4780-f327-27c23f9859bc"
      },
      "source": [
        "len(df)"
      ],
      "execution_count": 4,
      "outputs": [
        {
          "output_type": "execute_result",
          "data": {
            "text/plain": [
              "8188"
            ]
          },
          "metadata": {
            "tags": []
          },
          "execution_count": 4
        }
      ]
    },
    {
      "cell_type": "code",
      "metadata": {
        "id": "lxsZPByLNY09"
      },
      "source": [
        "df=df.sort_values('id')"
      ],
      "execution_count": 41,
      "outputs": []
    },
    {
      "cell_type": "code",
      "metadata": {
        "id": "_THOz0yhXlj_"
      },
      "source": [
        "df.reset_index(inplace=True)"
      ],
      "execution_count": 42,
      "outputs": []
    },
    {
      "cell_type": "code",
      "metadata": {
        "colab": {
          "base_uri": "https://localhost:8080/",
          "height": 411
        },
        "id": "cmLSEwagX_AD",
        "outputId": "9dc1202d-5cdf-4bbb-9a20-ed3a8332474a"
      },
      "source": [
        "df"
      ],
      "execution_count": 43,
      "outputs": [
        {
          "output_type": "execute_result",
          "data": {
            "text/html": [
              "<div>\n",
              "<style scoped>\n",
              "    .dataframe tbody tr th:only-of-type {\n",
              "        vertical-align: middle;\n",
              "    }\n",
              "\n",
              "    .dataframe tbody tr th {\n",
              "        vertical-align: top;\n",
              "    }\n",
              "\n",
              "    .dataframe thead th {\n",
              "        text-align: right;\n",
              "    }\n",
              "</style>\n",
              "<table border=\"1\" class=\"dataframe\">\n",
              "  <thead>\n",
              "    <tr style=\"text-align: right;\">\n",
              "      <th></th>\n",
              "      <th>index</th>\n",
              "      <th>timestamp</th>\n",
              "      <th>id</th>\n",
              "      <th>group</th>\n",
              "      <th>action</th>\n",
              "    </tr>\n",
              "  </thead>\n",
              "  <tbody>\n",
              "    <tr>\n",
              "      <th>0</th>\n",
              "      <td>4390</td>\n",
              "      <td>2016-11-26 14:38:47.682931</td>\n",
              "      <td>182988</td>\n",
              "      <td>experiment</td>\n",
              "      <td>view</td>\n",
              "    </tr>\n",
              "    <tr>\n",
              "      <th>1</th>\n",
              "      <td>5639</td>\n",
              "      <td>2016-12-14 13:19:00.940677</td>\n",
              "      <td>182994</td>\n",
              "      <td>control</td>\n",
              "      <td>view</td>\n",
              "    </tr>\n",
              "    <tr>\n",
              "      <th>2</th>\n",
              "      <td>5640</td>\n",
              "      <td>2016-12-14 13:20:29.564080</td>\n",
              "      <td>182994</td>\n",
              "      <td>control</td>\n",
              "      <td>click</td>\n",
              "    </tr>\n",
              "    <tr>\n",
              "      <th>3</th>\n",
              "      <td>376</td>\n",
              "      <td>2016-09-29 23:04:42.722325</td>\n",
              "      <td>183089</td>\n",
              "      <td>control</td>\n",
              "      <td>view</td>\n",
              "    </tr>\n",
              "    <tr>\n",
              "      <th>4</th>\n",
              "      <td>6568</td>\n",
              "      <td>2016-12-27 10:13:58.808014</td>\n",
              "      <td>183136</td>\n",
              "      <td>experiment</td>\n",
              "      <td>view</td>\n",
              "    </tr>\n",
              "    <tr>\n",
              "      <th>...</th>\n",
              "      <td>...</td>\n",
              "      <td>...</td>\n",
              "      <td>...</td>\n",
              "      <td>...</td>\n",
              "      <td>...</td>\n",
              "    </tr>\n",
              "    <tr>\n",
              "      <th>8183</th>\n",
              "      <td>7389</td>\n",
              "      <td>2017-01-07 11:50:17.313666</td>\n",
              "      <td>937108</td>\n",
              "      <td>control</td>\n",
              "      <td>view</td>\n",
              "    </tr>\n",
              "    <tr>\n",
              "      <th>8184</th>\n",
              "      <td>5254</td>\n",
              "      <td>2016-12-09 07:05:04.965876</td>\n",
              "      <td>937139</td>\n",
              "      <td>experiment</td>\n",
              "      <td>view</td>\n",
              "    </tr>\n",
              "    <tr>\n",
              "      <th>8185</th>\n",
              "      <td>5255</td>\n",
              "      <td>2016-12-09 07:06:05.219267</td>\n",
              "      <td>937139</td>\n",
              "      <td>experiment</td>\n",
              "      <td>click</td>\n",
              "    </tr>\n",
              "    <tr>\n",
              "      <th>8186</th>\n",
              "      <td>3494</td>\n",
              "      <td>2016-11-14 08:01:25.774204</td>\n",
              "      <td>937217</td>\n",
              "      <td>control</td>\n",
              "      <td>click</td>\n",
              "    </tr>\n",
              "    <tr>\n",
              "      <th>8187</th>\n",
              "      <td>3493</td>\n",
              "      <td>2016-11-14 08:00:01.730193</td>\n",
              "      <td>937217</td>\n",
              "      <td>control</td>\n",
              "      <td>view</td>\n",
              "    </tr>\n",
              "  </tbody>\n",
              "</table>\n",
              "<p>8188 rows × 5 columns</p>\n",
              "</div>"
            ],
            "text/plain": [
              "      index                   timestamp      id       group action\n",
              "0      4390  2016-11-26 14:38:47.682931  182988  experiment   view\n",
              "1      5639  2016-12-14 13:19:00.940677  182994     control   view\n",
              "2      5640  2016-12-14 13:20:29.564080  182994     control  click\n",
              "3       376  2016-09-29 23:04:42.722325  183089     control   view\n",
              "4      6568  2016-12-27 10:13:58.808014  183136  experiment   view\n",
              "...     ...                         ...     ...         ...    ...\n",
              "8183   7389  2017-01-07 11:50:17.313666  937108     control   view\n",
              "8184   5254  2016-12-09 07:05:04.965876  937139  experiment   view\n",
              "8185   5255  2016-12-09 07:06:05.219267  937139  experiment  click\n",
              "8186   3494  2016-11-14 08:01:25.774204  937217     control  click\n",
              "8187   3493  2016-11-14 08:00:01.730193  937217     control   view\n",
              "\n",
              "[8188 rows x 5 columns]"
            ]
          },
          "metadata": {
            "tags": []
          },
          "execution_count": 43
        }
      ]
    },
    {
      "cell_type": "code",
      "metadata": {
        "id": "LIW0IwCwYDOt"
      },
      "source": [
        "df1=df[['id','group']].drop_duplicates()"
      ],
      "execution_count": 44,
      "outputs": []
    },
    {
      "cell_type": "code",
      "metadata": {
        "colab": {
          "base_uri": "https://localhost:8080/"
        },
        "id": "h3yYJ7_ycvOJ",
        "outputId": "1c609727-7894-4056-b955-ea99a9dae2f0"
      },
      "source": [
        "counts=df1['id'].value_counts()\n",
        "dup=counts[counts>1].index\n",
        "dup\n",
        "# No duplicate id in df1"
      ],
      "execution_count": 46,
      "outputs": [
        {
          "output_type": "execute_result",
          "data": {
            "text/plain": [
              "Int64Index([], dtype='int64')"
            ]
          },
          "metadata": {
            "tags": []
          },
          "execution_count": 46
        }
      ]
    },
    {
      "cell_type": "code",
      "metadata": {
        "id": "YQNOAWvddQem"
      },
      "source": [
        "convert=[]\n",
        "for i in df1['id']:\n",
        "  if 'click' in df[df['id']==i]['action'].values:\n",
        "    convert.append(1)\n",
        "  else:\n",
        "    convert.append(0)\n",
        "df1['convert']=convert"
      ],
      "execution_count": 52,
      "outputs": []
    },
    {
      "cell_type": "code",
      "metadata": {
        "colab": {
          "base_uri": "https://localhost:8080/",
          "height": 411
        },
        "id": "ka1WHckbfMfT",
        "outputId": "60e98ca3-6c9f-47d2-8da7-5f575556b7aa"
      },
      "source": [
        "df1"
      ],
      "execution_count": 53,
      "outputs": [
        {
          "output_type": "execute_result",
          "data": {
            "text/html": [
              "<div>\n",
              "<style scoped>\n",
              "    .dataframe tbody tr th:only-of-type {\n",
              "        vertical-align: middle;\n",
              "    }\n",
              "\n",
              "    .dataframe tbody tr th {\n",
              "        vertical-align: top;\n",
              "    }\n",
              "\n",
              "    .dataframe thead th {\n",
              "        text-align: right;\n",
              "    }\n",
              "</style>\n",
              "<table border=\"1\" class=\"dataframe\">\n",
              "  <thead>\n",
              "    <tr style=\"text-align: right;\">\n",
              "      <th></th>\n",
              "      <th>id</th>\n",
              "      <th>group</th>\n",
              "      <th>convert</th>\n",
              "    </tr>\n",
              "  </thead>\n",
              "  <tbody>\n",
              "    <tr>\n",
              "      <th>0</th>\n",
              "      <td>182988</td>\n",
              "      <td>experiment</td>\n",
              "      <td>0</td>\n",
              "    </tr>\n",
              "    <tr>\n",
              "      <th>1</th>\n",
              "      <td>182994</td>\n",
              "      <td>control</td>\n",
              "      <td>1</td>\n",
              "    </tr>\n",
              "    <tr>\n",
              "      <th>3</th>\n",
              "      <td>183089</td>\n",
              "      <td>control</td>\n",
              "      <td>0</td>\n",
              "    </tr>\n",
              "    <tr>\n",
              "      <th>4</th>\n",
              "      <td>183136</td>\n",
              "      <td>experiment</td>\n",
              "      <td>0</td>\n",
              "    </tr>\n",
              "    <tr>\n",
              "      <th>5</th>\n",
              "      <td>183141</td>\n",
              "      <td>experiment</td>\n",
              "      <td>1</td>\n",
              "    </tr>\n",
              "    <tr>\n",
              "      <th>...</th>\n",
              "      <td>...</td>\n",
              "      <td>...</td>\n",
              "      <td>...</td>\n",
              "    </tr>\n",
              "    <tr>\n",
              "      <th>8181</th>\n",
              "      <td>937003</td>\n",
              "      <td>control</td>\n",
              "      <td>0</td>\n",
              "    </tr>\n",
              "    <tr>\n",
              "      <th>8182</th>\n",
              "      <td>937073</td>\n",
              "      <td>control</td>\n",
              "      <td>0</td>\n",
              "    </tr>\n",
              "    <tr>\n",
              "      <th>8183</th>\n",
              "      <td>937108</td>\n",
              "      <td>control</td>\n",
              "      <td>0</td>\n",
              "    </tr>\n",
              "    <tr>\n",
              "      <th>8184</th>\n",
              "      <td>937139</td>\n",
              "      <td>experiment</td>\n",
              "      <td>1</td>\n",
              "    </tr>\n",
              "    <tr>\n",
              "      <th>8186</th>\n",
              "      <td>937217</td>\n",
              "      <td>control</td>\n",
              "      <td>1</td>\n",
              "    </tr>\n",
              "  </tbody>\n",
              "</table>\n",
              "<p>6328 rows × 3 columns</p>\n",
              "</div>"
            ],
            "text/plain": [
              "          id       group  convert\n",
              "0     182988  experiment        0\n",
              "1     182994     control        1\n",
              "3     183089     control        0\n",
              "4     183136  experiment        0\n",
              "5     183141  experiment        1\n",
              "...      ...         ...      ...\n",
              "8181  937003     control        0\n",
              "8182  937073     control        0\n",
              "8183  937108     control        0\n",
              "8184  937139  experiment        1\n",
              "8186  937217     control        1\n",
              "\n",
              "[6328 rows x 3 columns]"
            ]
          },
          "metadata": {
            "tags": []
          },
          "execution_count": 53
        }
      ]
    },
    {
      "cell_type": "code",
      "metadata": {
        "id": "UeXFseKNHvtC"
      },
      "source": [
        "control=df1[df1['group']=='control']\n",
        "experiment=df1[df1['group']=='experiment']"
      ],
      "execution_count": 54,
      "outputs": []
    },
    {
      "cell_type": "code",
      "metadata": {
        "colab": {
          "base_uri": "https://localhost:8080/"
        },
        "id": "k4ZOY6BRK89R",
        "outputId": "cf6335cf-23be-405f-99fc-a930f1754ed4"
      },
      "source": [
        "current_rate=len(control[control['convert']==1])/(len(control))\n",
        "current_rate"
      ],
      "execution_count": 56,
      "outputs": [
        {
          "output_type": "execute_result",
          "data": {
            "text/plain": [
              "0.2797118847539016"
            ]
          },
          "metadata": {
            "tags": []
          },
          "execution_count": 56
        }
      ]
    },
    {
      "cell_type": "markdown",
      "metadata": {
        "id": "JppCyZcRIQg3"
      },
      "source": [
        "Hypothesis\n",
        "\n",
        "H0: experiment group does not have a different performance with control group.\n",
        "\n",
        "H1: experiment group has a different performance with control group.\n",
        "\n",
        "Critical value: 0.05.\n",
        "\n",
        "Performance improvement goal: 5%\n",
        "\n",
        "Conversion: from view to click=1, only view=0"
      ]
    },
    {
      "cell_type": "code",
      "metadata": {
        "colab": {
          "base_uri": "https://localhost:8080/"
        },
        "id": "EWRjD28mKBV5",
        "outputId": "dadc213e-6d7a-493e-d464-c66169bd68b9"
      },
      "source": [
        "# Find out the effective sample size that required by the business goal.\n",
        "effect=sms.proportion_effectsize(0.28,0.33)\n",
        "required_size=sms.NormalIndPower().solve_power(effect,power=0.8,alpha=0.5,ratio=1)\n",
        "print(required_size)\n",
        "# 361 records needed.But we have 6328 records."
      ],
      "execution_count": 57,
      "outputs": [
        {
          "output_type": "stream",
          "text": [
            "360.2943587643993\n"
          ],
          "name": "stdout"
        }
      ]
    },
    {
      "cell_type": "code",
      "metadata": {
        "id": "WWrM45CdMmhA"
      },
      "source": [
        "n_control=len(control)\n",
        "n_experiment=len(experiment)\n",
        "converted_control=control['convert'].sum()\n",
        "converted_experiment=experiment['convert'].sum()"
      ],
      "execution_count": 58,
      "outputs": []
    },
    {
      "cell_type": "code",
      "metadata": {
        "colab": {
          "base_uri": "https://localhost:8080/"
        },
        "id": "n5Hhhw5bhbAt",
        "outputId": "ef07c212-e9f2-4455-ceae-5feaf4015532"
      },
      "source": [
        "z_stat,pval=proportions_ztest([converted_control,converted_experiment],[n_control,n_experiment])\n",
        "(lower_con,lower_ex),(upper_con,upper_ex)=proportion_confint([converted_control,converted_experiment],[n_control,n_experiment],alpha=0.05)\n",
        "print('z-stat:', z_stat)\n",
        "print('p-value:', pval)\n",
        "print(f'confidence interval for control: [{lower_con},{upper_con}]')\n",
        "print(f'confidence interval for experiment: [{lower_ex},{upper_ex}]')"
      ],
      "execution_count": 60,
      "outputs": [
        {
          "output_type": "stream",
          "text": [
            "z-stat: -2.618563885349469\n",
            "p-value: 0.008830075576595804\n",
            "confidence interval for control: [0.26447121056492595,0.2949525589428772]\n",
            "confidence interval for experiment: [0.2931892146752537,0.3263034422005807]\n"
          ],
          "name": "stdout"
        }
      ]
    },
    {
      "cell_type": "markdown",
      "metadata": {
        "id": "3zlygjk6jA5s"
      },
      "source": [
        "P-value is smaller than 0.05 which indicates the null hypothesis can be reject. The confidence interval proved experiment group perfroms better than control group and very close to the aimed convertion rate at 33%. Thus we can conclude the experiment group uplifted the control group by almost 5%."
      ]
    }
  ]
}