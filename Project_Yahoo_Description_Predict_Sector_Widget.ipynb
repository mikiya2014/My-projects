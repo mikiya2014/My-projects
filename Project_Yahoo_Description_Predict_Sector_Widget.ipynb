{
  "nbformat": 4,
  "nbformat_minor": 0,
  "metadata": {
    "colab": {
      "name": "Project_Yahoo Description Predict Sector - Widget.ipynb",
      "provenance": [],
      "toc_visible": true,
      "include_colab_link": true
    },
    "kernelspec": {
      "name": "python3",
      "display_name": "Python 3"
    },
    "widgets": {
      "application/vnd.jupyter.widget-state+json": {
        "f24d2b5e07094ca6b3f773466b3dfe72": {
          "model_module": "@jupyter-widgets/controls",
          "model_name": "VBoxModel",
          "state": {
            "_view_name": "VBoxView",
            "_dom_classes": [
              "widget-interact"
            ],
            "_model_name": "VBoxModel",
            "_view_module": "@jupyter-widgets/controls",
            "_model_module_version": "1.5.0",
            "_view_count": null,
            "_view_module_version": "1.5.0",
            "box_style": "",
            "layout": "IPY_MODEL_1d96f26525604c5e8133ca57af7901e5",
            "_model_module": "@jupyter-widgets/controls",
            "children": [
              "IPY_MODEL_22ef38ce997646f090ee15fe3ae171ab",
              "IPY_MODEL_cc1ba0844e69435d8336ea0f97128db1",
              "IPY_MODEL_467aa7912f974fb08e598207ad4570c8",
              "IPY_MODEL_39a9f4d886e54a1fb2e46d5d06418603",
              "IPY_MODEL_d9617310f1df434483666724d48388d5"
            ]
          }
        },
        "1d96f26525604c5e8133ca57af7901e5": {
          "model_module": "@jupyter-widgets/base",
          "model_name": "LayoutModel",
          "state": {
            "_view_name": "LayoutView",
            "grid_template_rows": null,
            "right": null,
            "justify_content": null,
            "_view_module": "@jupyter-widgets/base",
            "overflow": null,
            "_model_module_version": "1.2.0",
            "_view_count": null,
            "flex_flow": null,
            "width": null,
            "min_width": null,
            "border": null,
            "align_items": null,
            "bottom": null,
            "_model_module": "@jupyter-widgets/base",
            "top": null,
            "grid_column": null,
            "overflow_y": null,
            "overflow_x": null,
            "grid_auto_flow": null,
            "grid_area": null,
            "grid_template_columns": null,
            "flex": null,
            "_model_name": "LayoutModel",
            "justify_items": null,
            "grid_row": null,
            "max_height": null,
            "align_content": null,
            "visibility": null,
            "align_self": null,
            "height": null,
            "min_height": null,
            "padding": null,
            "grid_auto_rows": null,
            "grid_gap": null,
            "max_width": null,
            "order": null,
            "_view_module_version": "1.2.0",
            "grid_template_areas": null,
            "object_position": null,
            "object_fit": null,
            "grid_auto_columns": null,
            "margin": null,
            "display": null,
            "left": null
          }
        },
        "22ef38ce997646f090ee15fe3ae171ab": {
          "model_module": "@jupyter-widgets/controls",
          "model_name": "IntSliderModel",
          "state": {
            "_view_name": "IntSliderView",
            "style": "IPY_MODEL_4336c9e446a3498b9b079998c48e26e5",
            "_dom_classes": [],
            "description": "maxlen",
            "step": 50,
            "_model_name": "IntSliderModel",
            "orientation": "horizontal",
            "max": 500,
            "_view_module": "@jupyter-widgets/controls",
            "_model_module_version": "1.5.0",
            "value": 220,
            "_view_count": null,
            "disabled": false,
            "_view_module_version": "1.5.0",
            "min": 20,
            "continuous_update": true,
            "readout_format": "d",
            "description_tooltip": null,
            "readout": true,
            "_model_module": "@jupyter-widgets/controls",
            "layout": "IPY_MODEL_09e64773c7814f9dbec448f0413a7be1"
          }
        },
        "cc1ba0844e69435d8336ea0f97128db1": {
          "model_module": "@jupyter-widgets/controls",
          "model_name": "IntSliderModel",
          "state": {
            "_view_name": "IntSliderView",
            "style": "IPY_MODEL_7741ea7cf2b34c218d6a146d6e0a78c2",
            "_dom_classes": [],
            "description": "training_samples",
            "step": 1,
            "_model_name": "IntSliderModel",
            "orientation": "horizontal",
            "max": 565,
            "_view_module": "@jupyter-widgets/controls",
            "_model_module_version": "1.5.0",
            "value": 332,
            "_view_count": null,
            "disabled": false,
            "_view_module_version": "1.5.0",
            "min": 100,
            "continuous_update": true,
            "readout_format": "d",
            "description_tooltip": null,
            "readout": true,
            "_model_module": "@jupyter-widgets/controls",
            "layout": "IPY_MODEL_98894b36d2c344bc9bf8fcd9fa28680d"
          }
        },
        "467aa7912f974fb08e598207ad4570c8": {
          "model_module": "@jupyter-widgets/controls",
          "model_name": "IntSliderModel",
          "state": {
            "_view_name": "IntSliderView",
            "style": "IPY_MODEL_f64b7d17ebdd48988fee09862d54ce00",
            "_dom_classes": [],
            "description": "validation_samples",
            "step": 1,
            "_model_name": "IntSliderModel",
            "orientation": "horizontal",
            "max": 565,
            "_view_module": "@jupyter-widgets/controls",
            "_model_module_version": "1.5.0",
            "value": 227,
            "_view_count": null,
            "disabled": false,
            "_view_module_version": "1.5.0",
            "min": 100,
            "continuous_update": true,
            "readout_format": "d",
            "description_tooltip": null,
            "readout": true,
            "_model_module": "@jupyter-widgets/controls",
            "layout": "IPY_MODEL_5527328739fe4128b9bcaefe1c0acbbf"
          }
        },
        "39a9f4d886e54a1fb2e46d5d06418603": {
          "model_module": "@jupyter-widgets/controls",
          "model_name": "IntSliderModel",
          "state": {
            "_view_name": "IntSliderView",
            "style": "IPY_MODEL_cc526370bcfa482ca95f43cf3bc6a1f6",
            "_dom_classes": [],
            "description": "max_words",
            "step": 50,
            "_model_name": "IntSliderModel",
            "orientation": "horizontal",
            "max": 10000,
            "_view_module": "@jupyter-widgets/controls",
            "_model_module_version": "1.5.0",
            "value": 5000,
            "_view_count": null,
            "disabled": false,
            "_view_module_version": "1.5.0",
            "min": 50,
            "continuous_update": true,
            "readout_format": "d",
            "description_tooltip": null,
            "readout": true,
            "_model_module": "@jupyter-widgets/controls",
            "layout": "IPY_MODEL_c7280dcf3c134ca5b57b37239e957da2"
          }
        },
        "d9617310f1df434483666724d48388d5": {
          "model_module": "@jupyter-widgets/output",
          "model_name": "OutputModel",
          "state": {
            "_view_name": "OutputView",
            "msg_id": "",
            "_dom_classes": [],
            "_model_name": "OutputModel",
            "outputs": [
              {
                "output_type": "stream",
                "metadata": {
                  "tags": []
                },
                "text": "Found 8349 unique tokens.\n",
                "stream": "stdout"
              }
            ],
            "_view_module": "@jupyter-widgets/output",
            "_model_module_version": "1.0.0",
            "_view_count": null,
            "_view_module_version": "1.0.0",
            "layout": "IPY_MODEL_724a44155f164da29a358142444fd786",
            "_model_module": "@jupyter-widgets/output"
          }
        },
        "4336c9e446a3498b9b079998c48e26e5": {
          "model_module": "@jupyter-widgets/controls",
          "model_name": "SliderStyleModel",
          "state": {
            "_view_name": "StyleView",
            "handle_color": null,
            "_model_name": "SliderStyleModel",
            "description_width": "",
            "_view_module": "@jupyter-widgets/base",
            "_model_module_version": "1.5.0",
            "_view_count": null,
            "_view_module_version": "1.2.0",
            "_model_module": "@jupyter-widgets/controls"
          }
        },
        "09e64773c7814f9dbec448f0413a7be1": {
          "model_module": "@jupyter-widgets/base",
          "model_name": "LayoutModel",
          "state": {
            "_view_name": "LayoutView",
            "grid_template_rows": null,
            "right": null,
            "justify_content": null,
            "_view_module": "@jupyter-widgets/base",
            "overflow": null,
            "_model_module_version": "1.2.0",
            "_view_count": null,
            "flex_flow": null,
            "width": null,
            "min_width": null,
            "border": null,
            "align_items": null,
            "bottom": null,
            "_model_module": "@jupyter-widgets/base",
            "top": null,
            "grid_column": null,
            "overflow_y": null,
            "overflow_x": null,
            "grid_auto_flow": null,
            "grid_area": null,
            "grid_template_columns": null,
            "flex": null,
            "_model_name": "LayoutModel",
            "justify_items": null,
            "grid_row": null,
            "max_height": null,
            "align_content": null,
            "visibility": null,
            "align_self": null,
            "height": null,
            "min_height": null,
            "padding": null,
            "grid_auto_rows": null,
            "grid_gap": null,
            "max_width": null,
            "order": null,
            "_view_module_version": "1.2.0",
            "grid_template_areas": null,
            "object_position": null,
            "object_fit": null,
            "grid_auto_columns": null,
            "margin": null,
            "display": null,
            "left": null
          }
        },
        "7741ea7cf2b34c218d6a146d6e0a78c2": {
          "model_module": "@jupyter-widgets/controls",
          "model_name": "SliderStyleModel",
          "state": {
            "_view_name": "StyleView",
            "handle_color": null,
            "_model_name": "SliderStyleModel",
            "description_width": "",
            "_view_module": "@jupyter-widgets/base",
            "_model_module_version": "1.5.0",
            "_view_count": null,
            "_view_module_version": "1.2.0",
            "_model_module": "@jupyter-widgets/controls"
          }
        },
        "98894b36d2c344bc9bf8fcd9fa28680d": {
          "model_module": "@jupyter-widgets/base",
          "model_name": "LayoutModel",
          "state": {
            "_view_name": "LayoutView",
            "grid_template_rows": null,
            "right": null,
            "justify_content": null,
            "_view_module": "@jupyter-widgets/base",
            "overflow": null,
            "_model_module_version": "1.2.0",
            "_view_count": null,
            "flex_flow": null,
            "width": null,
            "min_width": null,
            "border": null,
            "align_items": null,
            "bottom": null,
            "_model_module": "@jupyter-widgets/base",
            "top": null,
            "grid_column": null,
            "overflow_y": null,
            "overflow_x": null,
            "grid_auto_flow": null,
            "grid_area": null,
            "grid_template_columns": null,
            "flex": null,
            "_model_name": "LayoutModel",
            "justify_items": null,
            "grid_row": null,
            "max_height": null,
            "align_content": null,
            "visibility": null,
            "align_self": null,
            "height": null,
            "min_height": null,
            "padding": null,
            "grid_auto_rows": null,
            "grid_gap": null,
            "max_width": null,
            "order": null,
            "_view_module_version": "1.2.0",
            "grid_template_areas": null,
            "object_position": null,
            "object_fit": null,
            "grid_auto_columns": null,
            "margin": null,
            "display": null,
            "left": null
          }
        },
        "f64b7d17ebdd48988fee09862d54ce00": {
          "model_module": "@jupyter-widgets/controls",
          "model_name": "SliderStyleModel",
          "state": {
            "_view_name": "StyleView",
            "handle_color": null,
            "_model_name": "SliderStyleModel",
            "description_width": "",
            "_view_module": "@jupyter-widgets/base",
            "_model_module_version": "1.5.0",
            "_view_count": null,
            "_view_module_version": "1.2.0",
            "_model_module": "@jupyter-widgets/controls"
          }
        },
        "5527328739fe4128b9bcaefe1c0acbbf": {
          "model_module": "@jupyter-widgets/base",
          "model_name": "LayoutModel",
          "state": {
            "_view_name": "LayoutView",
            "grid_template_rows": null,
            "right": null,
            "justify_content": null,
            "_view_module": "@jupyter-widgets/base",
            "overflow": null,
            "_model_module_version": "1.2.0",
            "_view_count": null,
            "flex_flow": null,
            "width": null,
            "min_width": null,
            "border": null,
            "align_items": null,
            "bottom": null,
            "_model_module": "@jupyter-widgets/base",
            "top": null,
            "grid_column": null,
            "overflow_y": null,
            "overflow_x": null,
            "grid_auto_flow": null,
            "grid_area": null,
            "grid_template_columns": null,
            "flex": null,
            "_model_name": "LayoutModel",
            "justify_items": null,
            "grid_row": null,
            "max_height": null,
            "align_content": null,
            "visibility": null,
            "align_self": null,
            "height": null,
            "min_height": null,
            "padding": null,
            "grid_auto_rows": null,
            "grid_gap": null,
            "max_width": null,
            "order": null,
            "_view_module_version": "1.2.0",
            "grid_template_areas": null,
            "object_position": null,
            "object_fit": null,
            "grid_auto_columns": null,
            "margin": null,
            "display": null,
            "left": null
          }
        },
        "cc526370bcfa482ca95f43cf3bc6a1f6": {
          "model_module": "@jupyter-widgets/controls",
          "model_name": "SliderStyleModel",
          "state": {
            "_view_name": "StyleView",
            "handle_color": null,
            "_model_name": "SliderStyleModel",
            "description_width": "",
            "_view_module": "@jupyter-widgets/base",
            "_model_module_version": "1.5.0",
            "_view_count": null,
            "_view_module_version": "1.2.0",
            "_model_module": "@jupyter-widgets/controls"
          }
        },
        "c7280dcf3c134ca5b57b37239e957da2": {
          "model_module": "@jupyter-widgets/base",
          "model_name": "LayoutModel",
          "state": {
            "_view_name": "LayoutView",
            "grid_template_rows": null,
            "right": null,
            "justify_content": null,
            "_view_module": "@jupyter-widgets/base",
            "overflow": null,
            "_model_module_version": "1.2.0",
            "_view_count": null,
            "flex_flow": null,
            "width": null,
            "min_width": null,
            "border": null,
            "align_items": null,
            "bottom": null,
            "_model_module": "@jupyter-widgets/base",
            "top": null,
            "grid_column": null,
            "overflow_y": null,
            "overflow_x": null,
            "grid_auto_flow": null,
            "grid_area": null,
            "grid_template_columns": null,
            "flex": null,
            "_model_name": "LayoutModel",
            "justify_items": null,
            "grid_row": null,
            "max_height": null,
            "align_content": null,
            "visibility": null,
            "align_self": null,
            "height": null,
            "min_height": null,
            "padding": null,
            "grid_auto_rows": null,
            "grid_gap": null,
            "max_width": null,
            "order": null,
            "_view_module_version": "1.2.0",
            "grid_template_areas": null,
            "object_position": null,
            "object_fit": null,
            "grid_auto_columns": null,
            "margin": null,
            "display": null,
            "left": null
          }
        },
        "724a44155f164da29a358142444fd786": {
          "model_module": "@jupyter-widgets/base",
          "model_name": "LayoutModel",
          "state": {
            "_view_name": "LayoutView",
            "grid_template_rows": null,
            "right": null,
            "justify_content": null,
            "_view_module": "@jupyter-widgets/base",
            "overflow": null,
            "_model_module_version": "1.2.0",
            "_view_count": null,
            "flex_flow": null,
            "width": null,
            "min_width": null,
            "border": null,
            "align_items": null,
            "bottom": null,
            "_model_module": "@jupyter-widgets/base",
            "top": null,
            "grid_column": null,
            "overflow_y": null,
            "overflow_x": null,
            "grid_auto_flow": null,
            "grid_area": null,
            "grid_template_columns": null,
            "flex": null,
            "_model_name": "LayoutModel",
            "justify_items": null,
            "grid_row": null,
            "max_height": null,
            "align_content": null,
            "visibility": null,
            "align_self": null,
            "height": null,
            "min_height": null,
            "padding": null,
            "grid_auto_rows": null,
            "grid_gap": null,
            "max_width": null,
            "order": null,
            "_view_module_version": "1.2.0",
            "grid_template_areas": null,
            "object_position": null,
            "object_fit": null,
            "grid_auto_columns": null,
            "margin": null,
            "display": null,
            "left": null
          }
        }
      }
    }
  },
  "cells": [
    {
      "cell_type": "markdown",
      "metadata": {
        "id": "view-in-github",
        "colab_type": "text"
      },
      "source": [
        "<a href=\"https://colab.research.google.com/github/mikiya2014/My-projects/blob/main/Project_Yahoo_Description_Predict_Sector_Widget.ipynb\" target=\"_parent\"><img src=\"https://colab.research.google.com/assets/colab-badge.svg\" alt=\"Open In Colab\"/></a>"
      ]
    },
    {
      "cell_type": "markdown",
      "metadata": {
        "id": "CjRfaOE_ePct"
      },
      "source": [
        "# Yahoo_Description_Predict_Sector\n"
      ]
    },
    {
      "cell_type": "markdown",
      "metadata": {
        "id": "hGjI5jxQeXGQ"
      },
      "source": [
        "# Overview of the Notebook:\n",
        "In this notebook, selected company description scraped from Yahoo Finance will be used to predict sectors of those companies. Bidirectional LSTM model is the best model."
      ]
    },
    {
      "cell_type": "markdown",
      "metadata": {
        "id": "LsHRK8_H4AHT"
      },
      "source": [
        "# Overview of the Dataset:\n",
        "There are 565 tickers used for scraping and are stored in Excel file which has symbols and sectors. "
      ]
    },
    {
      "cell_type": "markdown",
      "metadata": {
        "id": "plcxTjmZg2cH"
      },
      "source": [
        "### Import Packages"
      ]
    },
    {
      "cell_type": "code",
      "metadata": {
        "id": "hUb5oIsUersW"
      },
      "source": [
        "import urllib\n",
        "from bs4 import BeautifulSoup\n",
        "from pandas import read_excel\n",
        "import pandas as pd\n",
        "from sklearn.utils import shuffle\n",
        "import numpy as np\n",
        "from sklearn.model_selection import train_test_split\n",
        "from tensorflow.keras.preprocessing.text import Tokenizer\n",
        "from tensorflow.keras.preprocessing.sequence import pad_sequences\n",
        "from tensorflow.keras.models import Sequential\n",
        "from tensorflow.keras.layers import Embedding, Flatten, Dense, LSTM, SimpleRNN, Bidirectional\n",
        "from tensorflow.keras.layers import Conv1D\n",
        "from tensorflow.keras.layers import MaxPooling1D\n",
        "from __future__ import print_function\n",
        "from ipywidgets import interact, interactive, fixed, interact_manual\n",
        "import ipywidgets as widgets\n",
        "from tensorflow.keras.callbacks import EarlyStopping\n",
        "#https://drive.google.com/file/d/1X-dlVD3dwoU38gR3U2B5E-LDLMyBfwAd/view?usp=sharing"
      ],
      "execution_count": null,
      "outputs": []
    },
    {
      "cell_type": "markdown",
      "metadata": {
        "id": "ys1zs96Qg7fa"
      },
      "source": [
        "## Student To-do List:\n",
        "1.   Read file that contains tickers and sectors.\n",
        "2.   Web Scraping company descriptions from Yahoo Finance company profile and save to dataframe.\n",
        "3.   Prepare for the model.\n",
        "4.   Fit models and evaluate the models.\n",
        "5.   Add pre-trained embeddings (Glove6B.100d)."
      ]
    },
    {
      "cell_type": "markdown",
      "metadata": {
        "id": "QTgo2TZF44rZ"
      },
      "source": [
        "### Read file that contains tickers and sectors."
      ]
    },
    {
      "cell_type": "code",
      "metadata": {
        "id": "VTwtGGDjexnK",
        "colab": {
          "base_uri": "https://localhost:8080/",
          "height": 411
        },
        "outputId": "d6c51a3e-56d1-4850-c335-e652c492dad0"
      },
      "source": [
        "url = \"https://drive.google.com/uc?export=download&id=1X-dlVD3dwoU38gR3U2B5E-LDLMyBfwAd\" \n",
        "dataframe = pd.read_excel(url, header=0)\n",
        "symbol_list = pd.DataFrame(dataframe)\n",
        "symbol_list"
      ],
      "execution_count": null,
      "outputs": [
        {
          "output_type": "execute_result",
          "data": {
            "text/html": [
              "<div>\n",
              "<style scoped>\n",
              "    .dataframe tbody tr th:only-of-type {\n",
              "        vertical-align: middle;\n",
              "    }\n",
              "\n",
              "    .dataframe tbody tr th {\n",
              "        vertical-align: top;\n",
              "    }\n",
              "\n",
              "    .dataframe thead th {\n",
              "        text-align: right;\n",
              "    }\n",
              "</style>\n",
              "<table border=\"1\" class=\"dataframe\">\n",
              "  <thead>\n",
              "    <tr style=\"text-align: right;\">\n",
              "      <th></th>\n",
              "      <th>Symbol</th>\n",
              "      <th>Sector</th>\n",
              "    </tr>\n",
              "  </thead>\n",
              "  <tbody>\n",
              "    <tr>\n",
              "      <th>0</th>\n",
              "      <td>APA</td>\n",
              "      <td>Energy</td>\n",
              "    </tr>\n",
              "    <tr>\n",
              "      <th>1</th>\n",
              "      <td>BKR</td>\n",
              "      <td>Energy</td>\n",
              "    </tr>\n",
              "    <tr>\n",
              "      <th>2</th>\n",
              "      <td>COG</td>\n",
              "      <td>Energy</td>\n",
              "    </tr>\n",
              "    <tr>\n",
              "      <th>3</th>\n",
              "      <td>COP</td>\n",
              "      <td>Energy</td>\n",
              "    </tr>\n",
              "    <tr>\n",
              "      <th>4</th>\n",
              "      <td>CVX</td>\n",
              "      <td>Energy</td>\n",
              "    </tr>\n",
              "    <tr>\n",
              "      <th>...</th>\n",
              "      <td>...</td>\n",
              "      <td>...</td>\n",
              "    </tr>\n",
              "    <tr>\n",
              "      <th>561</th>\n",
              "      <td>AVNW</td>\n",
              "      <td>Info Technology</td>\n",
              "    </tr>\n",
              "    <tr>\n",
              "      <th>562</th>\n",
              "      <td>TESS</td>\n",
              "      <td>Info Technology</td>\n",
              "    </tr>\n",
              "    <tr>\n",
              "      <th>563</th>\n",
              "      <td>MINDP</td>\n",
              "      <td>Info Technology</td>\n",
              "    </tr>\n",
              "    <tr>\n",
              "      <th>564</th>\n",
              "      <td>AVGOP</td>\n",
              "      <td>Info Technology</td>\n",
              "    </tr>\n",
              "    <tr>\n",
              "      <th>565</th>\n",
              "      <td>NaN</td>\n",
              "      <td>NaN</td>\n",
              "    </tr>\n",
              "  </tbody>\n",
              "</table>\n",
              "<p>566 rows × 2 columns</p>\n",
              "</div>"
            ],
            "text/plain": [
              "    Symbol           Sector\n",
              "0      APA           Energy\n",
              "1      BKR           Energy\n",
              "2      COG           Energy\n",
              "3      COP           Energy\n",
              "4      CVX           Energy\n",
              "..     ...              ...\n",
              "561   AVNW  Info Technology\n",
              "562   TESS  Info Technology\n",
              "563  MINDP  Info Technology\n",
              "564  AVGOP  Info Technology\n",
              "565    NaN              NaN\n",
              "\n",
              "[566 rows x 2 columns]"
            ]
          },
          "metadata": {
            "tags": []
          },
          "execution_count": 10
        }
      ]
    },
    {
      "cell_type": "code",
      "metadata": {
        "id": "JmRvGSx9m2O-"
      },
      "source": [
        "symbol_list=shuffle(symbol_list)\n",
        "symbol_list=symbol_list.dropna()"
      ],
      "execution_count": null,
      "outputs": []
    },
    {
      "cell_type": "code",
      "metadata": {
        "id": "OEQq4uLXvhpJ",
        "colab": {
          "base_uri": "https://localhost:8080/",
          "height": 411
        },
        "outputId": "c8fb9b15-e74d-4a98-8a37-497b1ee8c8f3"
      },
      "source": [
        "symbol_list"
      ],
      "execution_count": null,
      "outputs": [
        {
          "output_type": "execute_result",
          "data": {
            "text/html": [
              "<div>\n",
              "<style scoped>\n",
              "    .dataframe tbody tr th:only-of-type {\n",
              "        vertical-align: middle;\n",
              "    }\n",
              "\n",
              "    .dataframe tbody tr th {\n",
              "        vertical-align: top;\n",
              "    }\n",
              "\n",
              "    .dataframe thead th {\n",
              "        text-align: right;\n",
              "    }\n",
              "</style>\n",
              "<table border=\"1\" class=\"dataframe\">\n",
              "  <thead>\n",
              "    <tr style=\"text-align: right;\">\n",
              "      <th></th>\n",
              "      <th>Symbol</th>\n",
              "      <th>Sector</th>\n",
              "    </tr>\n",
              "  </thead>\n",
              "  <tbody>\n",
              "    <tr>\n",
              "      <th>97</th>\n",
              "      <td>ZBRA</td>\n",
              "      <td>Info Technology</td>\n",
              "    </tr>\n",
              "    <tr>\n",
              "      <th>503</th>\n",
              "      <td>NTGR</td>\n",
              "      <td>Info Technology</td>\n",
              "    </tr>\n",
              "    <tr>\n",
              "      <th>449</th>\n",
              "      <td>PRO</td>\n",
              "      <td>Info Technology</td>\n",
              "    </tr>\n",
              "    <tr>\n",
              "      <th>89</th>\n",
              "      <td>TEL</td>\n",
              "      <td>Info Technology</td>\n",
              "    </tr>\n",
              "    <tr>\n",
              "      <th>494</th>\n",
              "      <td>CLS</td>\n",
              "      <td>Info Technology</td>\n",
              "    </tr>\n",
              "    <tr>\n",
              "      <th>...</th>\n",
              "      <td>...</td>\n",
              "      <td>...</td>\n",
              "    </tr>\n",
              "    <tr>\n",
              "      <th>30</th>\n",
              "      <td>ADBE</td>\n",
              "      <td>Info Technology</td>\n",
              "    </tr>\n",
              "    <tr>\n",
              "      <th>467</th>\n",
              "      <td>INFN</td>\n",
              "      <td>Info Technology</td>\n",
              "    </tr>\n",
              "    <tr>\n",
              "      <th>95</th>\n",
              "      <td>XLNX</td>\n",
              "      <td>Info Technology</td>\n",
              "    </tr>\n",
              "    <tr>\n",
              "      <th>208</th>\n",
              "      <td>KRP</td>\n",
              "      <td>Energy</td>\n",
              "    </tr>\n",
              "    <tr>\n",
              "      <th>181</th>\n",
              "      <td>MTDR</td>\n",
              "      <td>Energy</td>\n",
              "    </tr>\n",
              "  </tbody>\n",
              "</table>\n",
              "<p>565 rows × 2 columns</p>\n",
              "</div>"
            ],
            "text/plain": [
              "    Symbol           Sector\n",
              "97    ZBRA  Info Technology\n",
              "503   NTGR  Info Technology\n",
              "449    PRO  Info Technology\n",
              "89     TEL  Info Technology\n",
              "494    CLS  Info Technology\n",
              "..     ...              ...\n",
              "30    ADBE  Info Technology\n",
              "467   INFN  Info Technology\n",
              "95    XLNX  Info Technology\n",
              "208    KRP           Energy\n",
              "181   MTDR           Energy\n",
              "\n",
              "[565 rows x 2 columns]"
            ]
          },
          "metadata": {
            "tags": []
          },
          "execution_count": 13
        }
      ]
    },
    {
      "cell_type": "code",
      "metadata": {
        "id": "dMLzo1igrqTZ"
      },
      "source": [
        "# symbol_list.set_index('Symbol',inplace=True)\n",
        "# symbol_list"
      ],
      "execution_count": null,
      "outputs": []
    },
    {
      "cell_type": "markdown",
      "metadata": {
        "id": "HhBBGYXc5Iy7"
      },
      "source": [
        "### Web Scraping company descriptions from Yahoo Finance company profile and save to dataframe."
      ]
    },
    {
      "cell_type": "code",
      "metadata": {
        "id": "JSObmA28Tjrt"
      },
      "source": [
        "tem=[]\n",
        "for index, row in symbol_list.iterrows(): \n",
        "  symbol=row['Symbol'].strip()\n",
        "  url = \"https://finance.yahoo.com/quote/\"+symbol+\"/profile?p=\"+symbol\n",
        "\n",
        "  html = urllib.request.urlopen(url).read()\n",
        "  soup = BeautifulSoup(html)\n",
        "  # kill all script and style elements\n",
        "  for script in soup([\"script\", \"style\"]):\n",
        "      script.extract()    # rip it out\n",
        "  # get text\n",
        "  text = soup.get_text()\n",
        "  # break into lines and remove leading and trailing space on each\n",
        "  lines = (line.strip() for line in text.splitlines())\n",
        "  # break multi-headlines into a line each\n",
        "  chunks = (phrase.strip() for line in lines for phrase in line.split(\"  \"))\n",
        "  # drop blank lines\n",
        "  text = '\\n'.join(chunk for chunk in chunks if chunk)\n",
        "\n",
        "  words_list = text.split() \n",
        "#capture words from \"Description\"\n",
        "  for count, word in enumerate(words_list):\n",
        "    if 'Description' in word:\n",
        "      start_des=count+1\n",
        "  \n",
        "  new_words_list=words_list[start_des:]\n",
        "  new_text=' '.join(new_words_list)\n",
        "  tem.append(new_text)\n"
      ],
      "execution_count": null,
      "outputs": []
    },
    {
      "cell_type": "code",
      "metadata": {
        "id": "1U3bJOd6uIAF",
        "colab": {
          "base_uri": "https://localhost:8080/",
          "height": 411
        },
        "outputId": "a95f0649-08e4-45f8-d15b-6c39b7713ac4"
      },
      "source": [
        "#append \"Description\" to the data\n",
        "symbol_list['Description']=tem\n",
        "symbol_list"
      ],
      "execution_count": null,
      "outputs": [
        {
          "output_type": "execute_result",
          "data": {
            "text/html": [
              "<div>\n",
              "<style scoped>\n",
              "    .dataframe tbody tr th:only-of-type {\n",
              "        vertical-align: middle;\n",
              "    }\n",
              "\n",
              "    .dataframe tbody tr th {\n",
              "        vertical-align: top;\n",
              "    }\n",
              "\n",
              "    .dataframe thead th {\n",
              "        text-align: right;\n",
              "    }\n",
              "</style>\n",
              "<table border=\"1\" class=\"dataframe\">\n",
              "  <thead>\n",
              "    <tr style=\"text-align: right;\">\n",
              "      <th></th>\n",
              "      <th>Symbol</th>\n",
              "      <th>Sector</th>\n",
              "      <th>Description</th>\n",
              "    </tr>\n",
              "  </thead>\n",
              "  <tbody>\n",
              "    <tr>\n",
              "      <th>97</th>\n",
              "      <td>ZBRA</td>\n",
              "      <td>Info Technology</td>\n",
              "      <td>Technologies Corporation, together with its su...</td>\n",
              "    </tr>\n",
              "    <tr>\n",
              "      <th>503</th>\n",
              "      <td>NTGR</td>\n",
              "      <td>Info Technology</td>\n",
              "      <td>Inc. designs, develops, and markets networking...</td>\n",
              "    </tr>\n",
              "    <tr>\n",
              "      <th>449</th>\n",
              "      <td>PRO</td>\n",
              "      <td>Info Technology</td>\n",
              "      <td>Holdings, Inc. offers artificial intelligence ...</td>\n",
              "    </tr>\n",
              "    <tr>\n",
              "      <th>89</th>\n",
              "      <td>TEL</td>\n",
              "      <td>Info Technology</td>\n",
              "      <td>Connectivity Ltd., together with its subsidiar...</td>\n",
              "    </tr>\n",
              "    <tr>\n",
              "      <th>494</th>\n",
              "      <td>CLS</td>\n",
              "      <td>Info Technology</td>\n",
              "      <td>Inc. provides design, manufacturing, hardware ...</td>\n",
              "    </tr>\n",
              "    <tr>\n",
              "      <th>...</th>\n",
              "      <td>...</td>\n",
              "      <td>...</td>\n",
              "      <td>...</td>\n",
              "    </tr>\n",
              "    <tr>\n",
              "      <th>30</th>\n",
              "      <td>ADBE</td>\n",
              "      <td>Info Technology</td>\n",
              "      <td>Inc. operates as a diversified software compan...</td>\n",
              "    </tr>\n",
              "    <tr>\n",
              "      <th>467</th>\n",
              "      <td>INFN</td>\n",
              "      <td>Info Technology</td>\n",
              "      <td>Corporation provides optical transport network...</td>\n",
              "    </tr>\n",
              "    <tr>\n",
              "      <th>95</th>\n",
              "      <td>XLNX</td>\n",
              "      <td>Info Technology</td>\n",
              "      <td>Inc. designs and develops programmable devices...</td>\n",
              "    </tr>\n",
              "    <tr>\n",
              "      <th>208</th>\n",
              "      <td>KRP</td>\n",
              "      <td>Energy</td>\n",
              "      <td>Royalty Partners, LP acquires and owns mineral...</td>\n",
              "    </tr>\n",
              "    <tr>\n",
              "      <th>181</th>\n",
              "      <td>MTDR</td>\n",
              "      <td>Energy</td>\n",
              "      <td>Resources Company, an independent energy compa...</td>\n",
              "    </tr>\n",
              "  </tbody>\n",
              "</table>\n",
              "<p>565 rows × 3 columns</p>\n",
              "</div>"
            ],
            "text/plain": [
              "    Symbol           Sector                                        Description\n",
              "97    ZBRA  Info Technology  Technologies Corporation, together with its su...\n",
              "503   NTGR  Info Technology  Inc. designs, develops, and markets networking...\n",
              "449    PRO  Info Technology  Holdings, Inc. offers artificial intelligence ...\n",
              "89     TEL  Info Technology  Connectivity Ltd., together with its subsidiar...\n",
              "494    CLS  Info Technology  Inc. provides design, manufacturing, hardware ...\n",
              "..     ...              ...                                                ...\n",
              "30    ADBE  Info Technology  Inc. operates as a diversified software compan...\n",
              "467   INFN  Info Technology  Corporation provides optical transport network...\n",
              "95    XLNX  Info Technology  Inc. designs and develops programmable devices...\n",
              "208    KRP           Energy  Royalty Partners, LP acquires and owns mineral...\n",
              "181   MTDR           Energy  Resources Company, an independent energy compa...\n",
              "\n",
              "[565 rows x 3 columns]"
            ]
          },
          "metadata": {
            "tags": []
          },
          "execution_count": 16
        }
      ]
    },
    {
      "cell_type": "code",
      "metadata": {
        "id": "THMqfezbedmz"
      },
      "source": [
        "#use this code within the previous for loop to get the sectors\n",
        "# sec=[]\n",
        "# for count, word in enumerate(words_list):\n",
        "#   if 'Sector' in word:\n",
        "#     sec.append(words_list[count+1])\n",
        "# sec"
      ],
      "execution_count": null,
      "outputs": []
    },
    {
      "cell_type": "markdown",
      "metadata": {
        "id": "8uV2pwuX5jP8"
      },
      "source": [
        "### Prepare for the model."
      ]
    },
    {
      "cell_type": "markdown",
      "metadata": {
        "id": "WKsURcpfgAUE"
      },
      "source": [
        "#### Create dummy variables of the target sectors.\n"
      ]
    },
    {
      "cell_type": "code",
      "metadata": {
        "id": "cNlQfsOTi0Uv"
      },
      "source": [
        "dummy=[]\n",
        "for index, row in symbol_list.iterrows(): \n",
        "  if row['Sector']=='Info Technology':\n",
        "    dummy.append(0)\n",
        "  elif row['Sector']=='Energy':\n",
        "    dummy.append(1)\n",
        "symbol_list['Dummy']=dummy"
      ],
      "execution_count": null,
      "outputs": []
    },
    {
      "cell_type": "code",
      "metadata": {
        "id": "lfJKYEkFmq5k",
        "colab": {
          "base_uri": "https://localhost:8080/",
          "height": 200
        },
        "outputId": "c4042a77-b8af-46c7-b79f-cd8e36d1d39d"
      },
      "source": [
        "symbol_list.head()"
      ],
      "execution_count": null,
      "outputs": [
        {
          "output_type": "execute_result",
          "data": {
            "text/html": [
              "<div>\n",
              "<style scoped>\n",
              "    .dataframe tbody tr th:only-of-type {\n",
              "        vertical-align: middle;\n",
              "    }\n",
              "\n",
              "    .dataframe tbody tr th {\n",
              "        vertical-align: top;\n",
              "    }\n",
              "\n",
              "    .dataframe thead th {\n",
              "        text-align: right;\n",
              "    }\n",
              "</style>\n",
              "<table border=\"1\" class=\"dataframe\">\n",
              "  <thead>\n",
              "    <tr style=\"text-align: right;\">\n",
              "      <th></th>\n",
              "      <th>Symbol</th>\n",
              "      <th>Sector</th>\n",
              "      <th>Description</th>\n",
              "      <th>Dummy</th>\n",
              "    </tr>\n",
              "  </thead>\n",
              "  <tbody>\n",
              "    <tr>\n",
              "      <th>97</th>\n",
              "      <td>ZBRA</td>\n",
              "      <td>Info Technology</td>\n",
              "      <td>Technologies Corporation, together with its su...</td>\n",
              "      <td>0</td>\n",
              "    </tr>\n",
              "    <tr>\n",
              "      <th>503</th>\n",
              "      <td>NTGR</td>\n",
              "      <td>Info Technology</td>\n",
              "      <td>Inc. designs, develops, and markets networking...</td>\n",
              "      <td>0</td>\n",
              "    </tr>\n",
              "    <tr>\n",
              "      <th>449</th>\n",
              "      <td>PRO</td>\n",
              "      <td>Info Technology</td>\n",
              "      <td>Holdings, Inc. offers artificial intelligence ...</td>\n",
              "      <td>0</td>\n",
              "    </tr>\n",
              "    <tr>\n",
              "      <th>89</th>\n",
              "      <td>TEL</td>\n",
              "      <td>Info Technology</td>\n",
              "      <td>Connectivity Ltd., together with its subsidiar...</td>\n",
              "      <td>0</td>\n",
              "    </tr>\n",
              "    <tr>\n",
              "      <th>494</th>\n",
              "      <td>CLS</td>\n",
              "      <td>Info Technology</td>\n",
              "      <td>Inc. provides design, manufacturing, hardware ...</td>\n",
              "      <td>0</td>\n",
              "    </tr>\n",
              "  </tbody>\n",
              "</table>\n",
              "</div>"
            ],
            "text/plain": [
              "    Symbol  ... Dummy\n",
              "97    ZBRA  ...     0\n",
              "503   NTGR  ...     0\n",
              "449    PRO  ...     0\n",
              "89     TEL  ...     0\n",
              "494    CLS  ...     0\n",
              "\n",
              "[5 rows x 4 columns]"
            ]
          },
          "metadata": {
            "tags": []
          },
          "execution_count": 18
        }
      ]
    },
    {
      "cell_type": "code",
      "metadata": {
        "id": "Tmhn3tmcXH7l"
      },
      "source": [
        "\n",
        "labels = symbol_list['Dummy'].values\n",
        "texts = symbol_list['Description'].values\n"
      ],
      "execution_count": null,
      "outputs": []
    },
    {
      "cell_type": "code",
      "metadata": {
        "id": "1eTWM_1bnD7h",
        "colab": {
          "base_uri": "https://localhost:8080/",
          "height": 479
        },
        "outputId": "302ac06b-e3e9-49ba-d7f2-be7311cf82a2"
      },
      "source": [
        "labels"
      ],
      "execution_count": null,
      "outputs": [
        {
          "output_type": "execute_result",
          "data": {
            "text/plain": [
              "array([0, 0, 0, 0, 0, 0, 0, 0, 0, 0, 1, 1, 0, 0, 0, 0, 0, 0, 1, 1, 0, 0,\n",
              "       0, 0, 0, 0, 1, 0, 0, 0, 0, 0, 0, 1, 1, 0, 1, 1, 0, 0, 0, 0, 0, 0,\n",
              "       0, 0, 0, 1, 0, 0, 0, 0, 1, 0, 0, 0, 0, 0, 0, 0, 0, 0, 0, 1, 0, 0,\n",
              "       0, 0, 0, 1, 0, 0, 0, 1, 1, 1, 1, 0, 1, 0, 0, 1, 1, 1, 0, 1, 1, 0,\n",
              "       0, 0, 0, 1, 1, 0, 0, 0, 0, 1, 1, 0, 0, 1, 0, 0, 0, 0, 0, 1, 0, 0,\n",
              "       0, 0, 1, 0, 0, 1, 0, 1, 1, 0, 1, 1, 0, 1, 0, 1, 1, 0, 1, 0, 0, 1,\n",
              "       1, 0, 1, 0, 0, 1, 0, 0, 0, 0, 0, 0, 0, 1, 0, 0, 0, 0, 1, 0, 1, 1,\n",
              "       0, 1, 0, 1, 1, 0, 1, 0, 0, 0, 0, 0, 0, 0, 0, 1, 0, 1, 1, 0, 0, 0,\n",
              "       1, 1, 0, 0, 0, 1, 1, 0, 0, 0, 1, 1, 1, 0, 0, 0, 0, 0, 1, 0, 1, 1,\n",
              "       0, 1, 1, 0, 0, 1, 0, 0, 1, 1, 0, 0, 0, 0, 0, 0, 0, 0, 1, 1, 0, 1,\n",
              "       1, 0, 0, 1, 0, 1, 1, 1, 0, 1, 0, 0, 1, 0, 0, 0, 0, 1, 0, 1, 0, 1,\n",
              "       0, 1, 0, 0, 1, 1, 0, 0, 0, 0, 1, 0, 1, 0, 0, 0, 0, 0, 0, 0, 0, 0,\n",
              "       0, 1, 0, 1, 1, 0, 0, 0, 0, 0, 0, 1, 0, 1, 1, 0, 0, 1, 0, 0, 0, 1,\n",
              "       1, 0, 0, 1, 0, 1, 0, 0, 0, 0, 1, 1, 0, 1, 0, 0, 0, 1, 0, 0, 1, 0,\n",
              "       0, 0, 1, 1, 0, 1, 0, 0, 1, 0, 0, 0, 1, 0, 0, 0, 1, 0, 0, 0, 0, 1,\n",
              "       0, 0, 0, 0, 0, 1, 0, 0, 0, 0, 1, 0, 1, 0, 0, 0, 0, 1, 0, 1, 1, 0,\n",
              "       0, 0, 1, 1, 1, 0, 0, 0, 0, 0, 1, 0, 1, 0, 0, 0, 0, 0, 0, 0, 0, 0,\n",
              "       1, 0, 0, 0, 1, 1, 0, 0, 1, 0, 0, 1, 0, 0, 1, 0, 0, 0, 0, 1, 0, 0,\n",
              "       0, 1, 0, 1, 0, 1, 1, 1, 1, 0, 1, 1, 0, 0, 0, 0, 0, 0, 1, 1, 0, 1,\n",
              "       0, 0, 1, 1, 0, 0, 0, 0, 0, 0, 0, 0, 0, 1, 1, 0, 0, 0, 1, 0, 0, 0,\n",
              "       1, 0, 0, 0, 0, 0, 0, 0, 0, 1, 0, 0, 0, 0, 0, 0, 0, 0, 0, 0, 0, 0,\n",
              "       0, 1, 1, 0, 0, 0, 1, 0, 1, 0, 0, 0, 0, 0, 0, 1, 0, 0, 1, 1, 0, 0,\n",
              "       0, 0, 0, 0, 1, 1, 0, 0, 0, 1, 0, 0, 0, 1, 0, 0, 1, 0, 0, 0, 0, 0,\n",
              "       0, 0, 0, 1, 0, 0, 1, 1, 0, 0, 0, 0, 0, 1, 0, 0, 1, 1, 0, 1, 0, 0,\n",
              "       0, 1, 1, 1, 0, 1, 0, 0, 0, 0, 1, 1, 0, 1, 0, 0, 1, 1, 1, 0, 1, 0,\n",
              "       1, 0, 0, 0, 0, 1, 1, 0, 0, 1, 0, 0, 0, 1, 1])"
            ]
          },
          "metadata": {
            "tags": []
          },
          "execution_count": 20
        }
      ]
    },
    {
      "cell_type": "markdown",
      "metadata": {
        "id": "UuGuzUPH6Vwq"
      },
      "source": [
        "#### Tokenize the texts, convert to sequences and pad the sequences."
      ]
    },
    {
      "cell_type": "code",
      "metadata": {
        "id": "MjNymUuTRWiY"
      },
      "source": [
        "# Tokenize, pad and prepare training and validation data\n",
        "from tensorflow.keras.preprocessing.text import Tokenizer\n",
        "from tensorflow.keras.preprocessing.sequence import pad_sequences\n",
        "import numpy as np \n",
        "\n",
        "# DW is trying 500 instead of 10K words to see what the accuracy would be\n",
        "def data_preprocess(maxlen,training_samples,validation_samples,max_words):\n",
        "  tokenizer = Tokenizer(num_words=max_words)\n",
        "\n",
        "  # fit_on_texts means it learns the indices of the words\n",
        "  tokenizer.fit_on_texts(texts)\n",
        "\n",
        "  # the sequences are comprised of those indices\n",
        "  sequences = tokenizer.texts_to_sequences(texts)\n",
        "\n",
        "  word_index = tokenizer.word_index\n",
        "  print('Found %s unique tokens.' % len(word_index))\n",
        "\n",
        "  # in case of low word counts, we need to pad sequences\n",
        "  # so that they are uniform length\n",
        "  data = pad_sequences(sequences, maxlen=maxlen)\n",
        "  return data,maxlen,training_samples,validation_samples,max_words,word_index\n",
        "# our labels, which were previously stored as a list [],\n",
        "# are now converted to a numpy array for modeling\n",
        "labels = np.asarray(labels)\n",
        "# print('Shape of data tensor:', data.shape)\n",
        "# print('Shape of label tensor:', labels.shape)"
      ],
      "execution_count": null,
      "outputs": []
    },
    {
      "cell_type": "code",
      "metadata": {
        "id": "xmLTDEeQjKxt",
        "colab": {
          "base_uri": "https://localhost:8080/",
          "height": 163,
          "referenced_widgets": [
            "f24d2b5e07094ca6b3f773466b3dfe72",
            "1d96f26525604c5e8133ca57af7901e5",
            "22ef38ce997646f090ee15fe3ae171ab",
            "cc1ba0844e69435d8336ea0f97128db1",
            "467aa7912f974fb08e598207ad4570c8",
            "39a9f4d886e54a1fb2e46d5d06418603",
            "d9617310f1df434483666724d48388d5",
            "4336c9e446a3498b9b079998c48e26e5",
            "09e64773c7814f9dbec448f0413a7be1",
            "7741ea7cf2b34c218d6a146d6e0a78c2",
            "98894b36d2c344bc9bf8fcd9fa28680d",
            "f64b7d17ebdd48988fee09862d54ce00",
            "5527328739fe4128b9bcaefe1c0acbbf",
            "cc526370bcfa482ca95f43cf3bc6a1f6",
            "c7280dcf3c134ca5b57b37239e957da2",
            "724a44155f164da29a358142444fd786"
          ]
        },
        "outputId": "310c7537-ddb4-4bfd-da7e-e21473466aa7"
      },
      "source": [
        "data_=interactive(data_preprocess,maxlen=(20,500,50),training_samples=(100,565,1),validation_samples=(100,565,1),max_words=(50,10000,50))\n",
        "display(data_)"
      ],
      "execution_count": null,
      "outputs": [
        {
          "output_type": "display_data",
          "data": {
            "application/vnd.jupyter.widget-view+json": {
              "model_id": "f24d2b5e07094ca6b3f773466b3dfe72",
              "version_minor": 0,
              "version_major": 2
            },
            "text/plain": [
              "interactive(children=(IntSlider(value=220, description='maxlen', max=500, min=20, step=50), IntSlider(value=33…"
            ]
          },
          "metadata": {
            "tags": []
          }
        }
      ]
    },
    {
      "cell_type": "markdown",
      "metadata": {
        "id": "oAgiiMZb6b0O"
      },
      "source": [
        "#### Partition the data."
      ]
    },
    {
      "cell_type": "code",
      "metadata": {
        "id": "sJtqFZa6leaS"
      },
      "source": [
        "data=data_.result[0]\n",
        "indices = np.arange(data.shape[0])\n",
        "np.random.shuffle(indices)\n",
        "data = data[indices]\n",
        "labels = labels[indices]\n",
        "\n",
        "training_samples=data_.result[2]\n",
        "validation_samples=data_.result[3]\n",
        "x_train = data[:training_samples] # from 0 to training samples\n",
        "y_train = labels[:training_samples]\n",
        "x_val = data[training_samples: training_samples + validation_samples] # from the end of training to the end of validation\n",
        "y_val = labels[training_samples: training_samples + validation_samples]"
      ],
      "execution_count": null,
      "outputs": []
    },
    {
      "cell_type": "code",
      "metadata": {
        "id": "jpKbbX6Mlg8a",
        "colab": {
          "base_uri": "https://localhost:8080/",
          "height": 52
        },
        "outputId": "3e8ff2ba-0dfa-4e66-8a35-6157e4735c59"
      },
      "source": [
        "print(x_train.shape)\n",
        "print(x_val.shape)"
      ],
      "execution_count": null,
      "outputs": [
        {
          "output_type": "stream",
          "text": [
            "(332, 220)\n",
            "(227, 220)\n"
          ],
          "name": "stdout"
        }
      ]
    },
    {
      "cell_type": "markdown",
      "metadata": {
        "id": "XImyrWjb6lKa"
      },
      "source": [
        "### Fit models and evaluate the models."
      ]
    },
    {
      "cell_type": "code",
      "metadata": {
        "id": "VXMtVUHkn1yH"
      },
      "source": [
        "maxlen=data_.result[1]\n",
        "max_words=data_.result[4]\n",
        "word_index=data_.result[5]"
      ],
      "execution_count": null,
      "outputs": []
    },
    {
      "cell_type": "markdown",
      "metadata": {
        "id": "aQfbFvDr6xVQ"
      },
      "source": [
        "#### Build simple RNN model"
      ]
    },
    {
      "cell_type": "code",
      "metadata": {
        "id": "wX30MWI2mG8b",
        "colab": {
          "base_uri": "https://localhost:8080/",
          "height": 677
        },
        "outputId": "5ec7b223-fbb1-48fa-e8ec-26c69a9d49aa"
      },
      "source": [
        "# build simple RNN model\n",
        "model = Sequential()\n",
        "model.add(Embedding(max_words, 100, input_length=maxlen))\n",
        "model.add(SimpleRNN(128,activation='relu',return_sequences=False))\n",
        "model.add(Dense(32, activation='relu'))\n",
        "model.add(Dense(1, activation='sigmoid'))\n",
        "model.summary()\n",
        "\n",
        "model.compile(optimizer='rmsprop',\n",
        "              loss='binary_crossentropy',\n",
        "              metrics=['acc'])\n",
        "history = model.fit(x_train, y_train,\n",
        "                    epochs=10,\n",
        "                    batch_size=32,\n",
        "                    validation_data=(x_val, y_val))"
      ],
      "execution_count": null,
      "outputs": [
        {
          "output_type": "stream",
          "text": [
            "Model: \"sequential\"\n",
            "_________________________________________________________________\n",
            "Layer (type)                 Output Shape              Param #   \n",
            "=================================================================\n",
            "embedding (Embedding)        (None, 220, 100)          500000    \n",
            "_________________________________________________________________\n",
            "simple_rnn (SimpleRNN)       (None, 128)               29312     \n",
            "_________________________________________________________________\n",
            "dense (Dense)                (None, 32)                4128      \n",
            "_________________________________________________________________\n",
            "dense_1 (Dense)              (None, 1)                 33        \n",
            "=================================================================\n",
            "Total params: 533,473\n",
            "Trainable params: 533,473\n",
            "Non-trainable params: 0\n",
            "_________________________________________________________________\n",
            "Epoch 1/10\n",
            "11/11 [==============================] - 1s 109ms/step - loss: 0.7747 - acc: 0.6566 - val_loss: 0.6302 - val_acc: 0.6872\n",
            "Epoch 2/10\n",
            "11/11 [==============================] - 1s 91ms/step - loss: 0.6067 - acc: 0.7199 - val_loss: 0.6333 - val_acc: 0.6872\n",
            "Epoch 3/10\n",
            "11/11 [==============================] - 1s 88ms/step - loss: 0.6067 - acc: 0.7199 - val_loss: 0.6333 - val_acc: 0.6872\n",
            "Epoch 4/10\n",
            "11/11 [==============================] - 1s 91ms/step - loss: 0.6064 - acc: 0.7199 - val_loss: 0.6294 - val_acc: 0.6872\n",
            "Epoch 5/10\n",
            "11/11 [==============================] - 1s 91ms/step - loss: 0.6020 - acc: 0.7199 - val_loss: 0.6480 - val_acc: 0.6872\n",
            "Epoch 6/10\n",
            "11/11 [==============================] - 1s 89ms/step - loss: 0.6010 - acc: 0.7199 - val_loss: 0.6248 - val_acc: 0.6872\n",
            "Epoch 7/10\n",
            "11/11 [==============================] - 1s 89ms/step - loss: 42630615040.0000 - acc: 0.6867 - val_loss: 0.6287 - val_acc: 0.6872\n",
            "Epoch 8/10\n",
            "11/11 [==============================] - 1s 89ms/step - loss: 0.5964 - acc: 0.7199 - val_loss: 0.6272 - val_acc: 0.6872\n",
            "Epoch 9/10\n",
            "11/11 [==============================] - 1s 87ms/step - loss: 0.5963 - acc: 0.7199 - val_loss: 0.6261 - val_acc: 0.6872\n",
            "Epoch 10/10\n",
            "11/11 [==============================] - 1s 88ms/step - loss: 0.5956 - acc: 0.7199 - val_loss: 0.6293 - val_acc: 0.6872\n"
          ],
          "name": "stdout"
        }
      ]
    },
    {
      "cell_type": "code",
      "metadata": {
        "id": "EH52gjDCh5ha",
        "colab": {
          "base_uri": "https://localhost:8080/",
          "height": 295
        },
        "outputId": "508ef047-4a69-4649-f715-01471f476056"
      },
      "source": [
        "#@title Let's see the training and validation accuracy by epoch { run: \"auto\", display-mode: \"form\" }\n",
        "import matplotlib.pyplot as plt\n",
        "history_dict = history.history\n",
        "value = 'acc' #@param ['loss','acc']\n",
        "loss_values = history_dict[value] # you can change this\n",
        "val_loss_values = history_dict['val_'+ value] # you can also change this\n",
        "epochs = range(1, len(loss_values) + 1) #acc wasn't defined before\n",
        "plt.plot(epochs, loss_values, 'bo', label='Training {}'.format(value.title()))\n",
        "plt.plot(epochs, val_loss_values, 'orange', label='Validation {}'.format(value.title()))\n",
        "plt.title('Training and Validation {}'.format(value.title()))\n",
        "plt.xlabel('Epochs')\n",
        "plt.ylabel('{}'.format(value.title()))\n",
        "plt.legend()\n",
        "plt.show()"
      ],
      "execution_count": null,
      "outputs": [
        {
          "output_type": "display_data",
          "data": {
            "image/png": "[encoded data removed]",
            "text/plain": [
              "<Figure size 432x288 with 1 Axes>"
            ]
          },
          "metadata": {
            "tags": [],
            "needs_background": "light"
          }
        }
      ]
    },
    {
      "cell_type": "code",
      "metadata": {
        "id": "4vOCcuamrBue",
        "colab": {
          "base_uri": "https://localhost:8080/",
          "height": 605
        },
        "outputId": "5ad91a84-e7d1-4d78-c4ec-881a657e5891"
      },
      "source": [
        "#@title Make Predictions-Choosing cut-off point { run: \"auto\", display-mode: \"form\" }\n",
        "def Find_Optimal_Cutoff(target, predicted):\n",
        "    \"\"\" Find the optimal probability cutoff point for a classification model related to event rate\n",
        "    Parameters\n",
        "    ----------\n",
        "    target : Matrix with dependent or target data, where rows are observations\n",
        "\n",
        "    predicted : Matrix with predicted data, where rows are observations\n",
        "\n",
        "    Returns\n",
        "    -------     \n",
        "    list type, with optimal cutoff value\n",
        "\n",
        "    \"\"\"\n",
        "    from sklearn.metrics import roc_curve\n",
        "    import pandas as pd\n",
        "    fpr, tpr, threshold = roc_curve(target, predicted)\n",
        "    i = np.arange(len(tpr)) \n",
        "    roc = pd.DataFrame({'tf' : pd.Series(tpr-(1-fpr), index=i), 'threshold' : pd.Series(threshold, index=i)})\n",
        "    roc_t = roc.iloc[(roc.tf-0).abs().argsort()[:1]]\n",
        "\n",
        "    return list(roc_t['threshold']) \n",
        "from sklearn.metrics import classification_report\n",
        "from sklearn.metrics import confusion_matrix\n",
        "import pandas as pd\n",
        "import seaborn as sns\n",
        "X_data = {'train': x_train,'validation': x_val}\n",
        "data = 'validation' #@param ['train','validation']\n",
        "preds = model.predict(X_data[data])\n",
        "actual = {'train': y_train,'validation':y_val} \n",
        "\n",
        "threshold = Find_Optimal_Cutoff(actual[data],preds)\n",
        "# Put prediction to the dataframe applying threshold\n",
        "threshold_dict = {\"optimal cutoff\": threshold[0],\"mean predicted probability\": np.mean(preds)}\n",
        "method = 'optimal cutoff' #@param ['optimal cutoff','mean predicted probability']\n",
        "predicted = []\n",
        "for i in preds:\n",
        "  if i >= threshold_dict[method]:\n",
        "    predicted.append(1)\n",
        "  else:\n",
        "    predicted.append(0)\n",
        "print(classification_report(actual[data],predicted))\n",
        "matrix = confusion_matrix(actual[data],predicted)\n",
        "matrix = pd.DataFrame(matrix)\n",
        "print('Confusion Matrix:\\n')\n",
        "plt.subplots(figsize=(8,5))\n",
        "plt.title('Average Temperature -{}- Confusion Matrix'.format(data.title()))\n",
        "sns.heatmap(matrix,annot=True,fmt='d')"
      ],
      "execution_count": null,
      "outputs": [
        {
          "output_type": "stream",
          "text": [
            "/usr/local/lib/python3.6/dist-packages/statsmodels/tools/_testing.py:19: FutureWarning: pandas.util.testing is deprecated. Use the functions in the public API at pandas.testing instead.\n",
            "  import pandas.util.testing as tm\n"
          ],
          "name": "stderr"
        },
        {
          "output_type": "stream",
          "text": [
            "              precision    recall  f1-score   support\n",
            "\n",
            "           0       0.64      0.62      0.63       149\n",
            "           1       0.31      0.32      0.31        78\n",
            "\n",
            "    accuracy                           0.52       227\n",
            "   macro avg       0.47      0.47      0.47       227\n",
            "weighted avg       0.52      0.52      0.52       227\n",
            "\n",
            "Confusion Matrix:\n",
            "\n"
          ],
          "name": "stdout"
        },
        {
          "output_type": "execute_result",
          "data": {
            "text/plain": [
              "<matplotlib.axes._subplots.AxesSubplot at 0x7f5730ab8160>"
            ]
          },
          "metadata": {
            "tags": []
          },
          "execution_count": 30
        },
        {
          "output_type": "display_data",
          "data": {
            "image/png": "[encoded data removed]",
            "text/plain": [
              "<Figure size 576x360 with 2 Axes>"
            ]
          },
          "metadata": {
            "tags": [],
            "needs_background": "light"
          }
        }
      ]
    },
    {
      "cell_type": "markdown",
      "metadata": {
        "id": "NFgJn3iL63Zw"
      },
      "source": [
        "#### Build a Bidirectional LSTM model with 1DConv and 1DMaxpooling on the embeddings."
      ]
    },
    {
      "cell_type": "code",
      "metadata": {
        "id": "ti-2_uJ5nlJe",
        "colab": {
          "base_uri": "https://localhost:8080/",
          "height": 692
        },
        "outputId": "fc433931-de50-4cd0-c4fc-94056d80c1dd"
      },
      "source": [
        "\n",
        "model = Sequential()\n",
        "model.add(Embedding(max_words, 100, input_length=maxlen))\n",
        "model.add(Conv1D(filters=32, kernel_size=3, padding='same', activation='relu'))\n",
        "model.add(MaxPooling1D(pool_size=2))\n",
        "model.add(Bidirectional(LSTM(128, activation='relu',return_sequences=False, dropout=0.1, recurrent_dropout=0.1)))\n",
        "model.add(Dense(1, activation='sigmoid'))\n",
        "model.compile(loss='binary_crossentropy', optimizer='adam', metrics=['acc'])\n",
        "model.summary()\n",
        "\n",
        "history = model.fit(x_train, y_train,\n",
        "                    epochs=10,\n",
        "                    batch_size=32,\n",
        "                    validation_data=(x_val, y_val))"
      ],
      "execution_count": null,
      "outputs": [
        {
          "output_type": "stream",
          "text": [
            "Model: \"sequential_1\"\n",
            "_________________________________________________________________\n",
            "Layer (type)                 Output Shape              Param #   \n",
            "=================================================================\n",
            "embedding_1 (Embedding)      (None, 220, 100)          500000    \n",
            "_________________________________________________________________\n",
            "conv1d (Conv1D)              (None, 220, 32)           9632      \n",
            "_________________________________________________________________\n",
            "max_pooling1d (MaxPooling1D) (None, 110, 32)           0         \n",
            "_________________________________________________________________\n",
            "bidirectional (Bidirectional (None, 256)               164864    \n",
            "_________________________________________________________________\n",
            "dense_2 (Dense)              (None, 1)                 257       \n",
            "=================================================================\n",
            "Total params: 674,753\n",
            "Trainable params: 674,753\n",
            "Non-trainable params: 0\n",
            "_________________________________________________________________\n",
            "Epoch 1/10\n",
            "11/11 [==============================] - 6s 569ms/step - loss: 0.6646 - acc: 0.6355 - val_loss: 0.6298 - val_acc: 0.6564\n",
            "Epoch 2/10\n",
            "11/11 [==============================] - 6s 520ms/step - loss: 0.5908 - acc: 0.6898 - val_loss: 0.5928 - val_acc: 0.6564\n",
            "Epoch 3/10\n",
            "11/11 [==============================] - 6s 518ms/step - loss: 0.5690 - acc: 0.6898 - val_loss: 0.6088 - val_acc: 0.6564\n",
            "Epoch 4/10\n",
            "11/11 [==============================] - 6s 520ms/step - loss: 0.5741 - acc: 0.6898 - val_loss: 0.6011 - val_acc: 0.6564\n",
            "Epoch 5/10\n",
            "11/11 [==============================] - 6s 531ms/step - loss: 9361831.0000 - acc: 0.6898 - val_loss: 60508.9648 - val_acc: 0.6564\n",
            "Epoch 6/10\n",
            "11/11 [==============================] - 6s 518ms/step - loss: 3.5433 - acc: 0.6988 - val_loss: 0.5903 - val_acc: 0.6872\n",
            "Epoch 7/10\n",
            "11/11 [==============================] - 6s 522ms/step - loss: 0.5484 - acc: 0.7199 - val_loss: 0.5638 - val_acc: 0.7313\n",
            "Epoch 8/10\n",
            "11/11 [==============================] - 6s 523ms/step - loss: 0.4577 - acc: 0.8554 - val_loss: 97.4364 - val_acc: 0.7445\n",
            "Epoch 9/10\n",
            "11/11 [==============================] - 6s 519ms/step - loss: 0.4904 - acc: 0.7982 - val_loss: 0.5321 - val_acc: 0.7181\n",
            "Epoch 10/10\n",
            "11/11 [==============================] - 9s 860ms/step - loss: 0.3636 - acc: 0.7831 - val_loss: 1869.9841 - val_acc: 0.7225\n"
          ],
          "name": "stdout"
        }
      ]
    },
    {
      "cell_type": "code",
      "metadata": {
        "id": "YPA_ZqbDh7ri",
        "colab": {
          "base_uri": "https://localhost:8080/",
          "height": 295
        },
        "outputId": "f32ea7ac-07d4-4e5e-dfaf-30de19754f4e"
      },
      "source": [
        "#@title Let's see the training and validation accuracy by epoch { run: \"auto\", display-mode: \"form\" }\n",
        "import matplotlib.pyplot as plt\n",
        "history_dict = history.history\n",
        "value = 'acc' #@param ['loss','acc']\n",
        "loss_values = history_dict[value] # you can change this\n",
        "val_loss_values = history_dict['val_'+ value] # you can also change this\n",
        "epochs = range(1, len(loss_values) + 1) #acc wasn't defined before\n",
        "plt.plot(epochs, loss_values, 'bo', label='Training {}'.format(value.title()))\n",
        "plt.plot(epochs, val_loss_values, 'orange', label='Validation {}'.format(value.title()))\n",
        "plt.title('Training and Validation {}'.format(value.title()))\n",
        "plt.xlabel('Epochs')\n",
        "plt.ylabel('{}'.format(value.title()))\n",
        "plt.legend()\n",
        "plt.show()"
      ],
      "execution_count": null,
      "outputs": [
        {
          "output_type": "display_data",
          "data": {
            "image/png": "[encoded data removed]",
            "text/plain": [
              "<Figure size 432x288 with 1 Axes>"
            ]
          },
          "metadata": {
            "tags": [],
            "needs_background": "light"
          }
        }
      ]
    },
    {
      "cell_type": "code",
      "metadata": {
        "id": "ppQ72ekErbQK",
        "colab": {
          "base_uri": "https://localhost:8080/",
          "height": 550
        },
        "outputId": "58b64257-7bad-4014-b2c4-223085aab570"
      },
      "source": [
        "#@title Make Predictions-Choosing cut-off point { run: \"auto\", display-mode: \"form\" }\n",
        "def Find_Optimal_Cutoff(target, predicted):\n",
        "    \"\"\" Find the optimal probability cutoff point for a classification model related to event rate\n",
        "    Parameters\n",
        "    ----------\n",
        "    target : Matrix with dependent or target data, where rows are observations\n",
        "\n",
        "    predicted : Matrix with predicted data, where rows are observations\n",
        "\n",
        "    Returns\n",
        "    -------     \n",
        "    list type, with optimal cutoff value\n",
        "\n",
        "    \"\"\"\n",
        "    from sklearn.metrics import roc_curve\n",
        "    import pandas as pd\n",
        "    fpr, tpr, threshold = roc_curve(target, predicted)\n",
        "    i = np.arange(len(tpr)) \n",
        "    roc = pd.DataFrame({'tf' : pd.Series(tpr-(1-fpr), index=i), 'threshold' : pd.Series(threshold, index=i)})\n",
        "    roc_t = roc.iloc[(roc.tf-0).abs().argsort()[:1]]\n",
        "\n",
        "    return list(roc_t['threshold']) \n",
        "from sklearn.metrics import classification_report\n",
        "from sklearn.metrics import confusion_matrix\n",
        "import pandas as pd\n",
        "import seaborn as sns\n",
        "X_data = {'train': x_train,'validation': x_val}\n",
        "data = 'validation' #@param ['train','validation']\n",
        "preds = model.predict(X_data[data])\n",
        "actual = {'train': y_train,'validation':y_val} \n",
        "\n",
        "threshold = Find_Optimal_Cutoff(actual[data],preds)\n",
        "# Put prediction to the dataframe applying threshold\n",
        "threshold_dict = {\"optimal cutoff\": threshold[0],\"mean predicted probability\": np.mean(preds)}\n",
        "method = 'optimal cutoff' #@param ['optimal cutoff','mean predicted probability']\n",
        "predicted = []\n",
        "for i in preds:\n",
        "  if i >= threshold_dict[method]:\n",
        "    predicted.append(1)\n",
        "  else:\n",
        "    predicted.append(0)\n",
        "print(classification_report(actual[data],predicted))\n",
        "matrix = confusion_matrix(actual[data],predicted)\n",
        "matrix = pd.DataFrame(matrix)\n",
        "print('Confusion Matrix:\\n')\n",
        "plt.subplots(figsize=(8,5))\n",
        "plt.title('Average Temperature -{}- Confusion Matrix'.format(data.title()))\n",
        "sns.heatmap(matrix,annot=True,fmt='d')"
      ],
      "execution_count": null,
      "outputs": [
        {
          "output_type": "stream",
          "text": [
            "              precision    recall  f1-score   support\n",
            "\n",
            "           0       0.97      0.98      0.97       149\n",
            "           1       0.96      0.94      0.95        78\n",
            "\n",
            "    accuracy                           0.96       227\n",
            "   macro avg       0.96      0.96      0.96       227\n",
            "weighted avg       0.96      0.96      0.96       227\n",
            "\n",
            "Confusion Matrix:\n",
            "\n"
          ],
          "name": "stdout"
        },
        {
          "output_type": "execute_result",
          "data": {
            "text/plain": [
              "<matplotlib.axes._subplots.AxesSubplot at 0x7f571ea5e518>"
            ]
          },
          "metadata": {
            "tags": []
          },
          "execution_count": 33
        },
        {
          "output_type": "display_data",
          "data": {
            "image/png": "[encoded data removed]",
            "text/plain": [
              "<Figure size 576x360 with 2 Axes>"
            ]
          },
          "metadata": {
            "tags": [],
            "needs_background": "light"
          }
        }
      ]
    },
    {
      "cell_type": "markdown",
      "metadata": {
        "id": "D9DGKl-p7NiD"
      },
      "source": [
        "#### Build LSTM model."
      ]
    },
    {
      "cell_type": "code",
      "metadata": {
        "id": "jF_WCJPqhuYr",
        "colab": {
          "base_uri": "https://localhost:8080/",
          "height": 657
        },
        "outputId": "5fdb3203-0ed0-4d1c-acda-0e6a9a6a166c"
      },
      "source": [
        "# build LSTM model\n",
        "model = Sequential()\n",
        "model.add(Embedding(max_words, 100, input_length=maxlen))\n",
        "model.add(LSTM(64, return_sequences=False, dropout=0.1, recurrent_dropout=0.1))\n",
        "model.add(Dense(32, activation='relu'))\n",
        "model.add(Dense(1, activation='sigmoid'))\n",
        "model.summary()\n",
        "\n",
        "model.compile(optimizer='rmsprop',\n",
        "              loss='binary_crossentropy',\n",
        "              metrics=['acc'])\n",
        "history = model.fit(x_train, y_train,\n",
        "                    epochs=10,\n",
        "                    batch_size=32,\n",
        "                    validation_data=(x_val, y_val))"
      ],
      "execution_count": null,
      "outputs": [
        {
          "output_type": "stream",
          "text": [
            "Model: \"sequential_2\"\n",
            "_________________________________________________________________\n",
            "Layer (type)                 Output Shape              Param #   \n",
            "=================================================================\n",
            "embedding_2 (Embedding)      (None, 220, 100)          500000    \n",
            "_________________________________________________________________\n",
            "lstm_1 (LSTM)                (None, 64)                42240     \n",
            "_________________________________________________________________\n",
            "dense_3 (Dense)              (None, 32)                2080      \n",
            "_________________________________________________________________\n",
            "dense_4 (Dense)              (None, 1)                 33        \n",
            "=================================================================\n",
            "Total params: 544,353\n",
            "Trainable params: 544,353\n",
            "Non-trainable params: 0\n",
            "_________________________________________________________________\n",
            "Epoch 1/10\n",
            "11/11 [==============================] - 4s 363ms/step - loss: 0.6596 - acc: 0.6717 - val_loss: 0.6235 - val_acc: 0.6872\n",
            "Epoch 2/10\n",
            "11/11 [==============================] - 4s 330ms/step - loss: 0.6015 - acc: 0.7199 - val_loss: 0.6150 - val_acc: 0.6872\n",
            "Epoch 3/10\n",
            "11/11 [==============================] - 4s 331ms/step - loss: 0.5880 - acc: 0.7199 - val_loss: 0.5932 - val_acc: 0.6872\n",
            "Epoch 4/10\n",
            "11/11 [==============================] - 4s 335ms/step - loss: 0.3607 - acc: 0.8434 - val_loss: 0.3098 - val_acc: 0.8987\n",
            "Epoch 5/10\n",
            "11/11 [==============================] - 4s 330ms/step - loss: 0.3960 - acc: 0.8886 - val_loss: 0.7164 - val_acc: 0.7577\n",
            "Epoch 6/10\n",
            "11/11 [==============================] - 4s 340ms/step - loss: 0.5688 - acc: 0.7861 - val_loss: 0.5477 - val_acc: 0.7709\n",
            "Epoch 7/10\n",
            "11/11 [==============================] - 4s 328ms/step - loss: 0.5020 - acc: 0.7922 - val_loss: 0.5019 - val_acc: 0.7797\n",
            "Epoch 8/10\n",
            "11/11 [==============================] - 4s 337ms/step - loss: 0.4808 - acc: 0.7982 - val_loss: 0.4980 - val_acc: 0.7797\n",
            "Epoch 9/10\n",
            "11/11 [==============================] - 4s 335ms/step - loss: 0.4758 - acc: 0.7982 - val_loss: 0.4839 - val_acc: 0.7841\n",
            "Epoch 10/10\n",
            "11/11 [==============================] - 4s 342ms/step - loss: 0.4533 - acc: 0.8193 - val_loss: 0.4619 - val_acc: 0.8238\n"
          ],
          "name": "stdout"
        }
      ]
    },
    {
      "cell_type": "code",
      "metadata": {
        "id": "4x5xxBiRiHlP",
        "colab": {
          "base_uri": "https://localhost:8080/",
          "height": 295
        },
        "outputId": "d9bda662-6f3e-488a-91f8-eb22e6b24a8c"
      },
      "source": [
        "#@title Let's see the training and validation accuracy by epoch { run: \"auto\", display-mode: \"form\" }\n",
        "import matplotlib.pyplot as plt\n",
        "history_dict = history.history\n",
        "value = 'acc' #@param ['loss','acc']\n",
        "loss_values = history_dict[value] # you can change this\n",
        "val_loss_values = history_dict['val_'+ value] # you can also change this\n",
        "epochs = range(1, len(loss_values) + 1) #acc wasn't defined before\n",
        "plt.plot(epochs, loss_values, 'bo', label='Training {}'.format(value.title()))\n",
        "plt.plot(epochs, val_loss_values, 'orange', label='Validation {}'.format(value.title()))\n",
        "plt.title('Training and Validation {}'.format(value.title()))\n",
        "plt.xlabel('Epochs')\n",
        "plt.ylabel('{}'.format(value.title()))\n",
        "plt.legend()\n",
        "plt.show()"
      ],
      "execution_count": null,
      "outputs": [
        {
          "output_type": "display_data",
          "data": {
            "image/png": "[encoded data removed]",
            "text/plain": [
              "<Figure size 432x288 with 1 Axes>"
            ]
          },
          "metadata": {
            "tags": [],
            "needs_background": "light"
          }
        }
      ]
    },
    {
      "cell_type": "code",
      "metadata": {
        "id": "hcYugTpHrZCJ",
        "colab": {
          "base_uri": "https://localhost:8080/",
          "height": 550
        },
        "outputId": "7dd6a2eb-2ba3-458c-c355-a1e86007d091"
      },
      "source": [
        "#@title Make Predictions-Choosing cut-off point { run: \"auto\", display-mode: \"form\" }\n",
        "def Find_Optimal_Cutoff(target, predicted):\n",
        "    \"\"\" Find the optimal probability cutoff point for a classification model related to event rate\n",
        "    Parameters\n",
        "    ----------\n",
        "    target : Matrix with dependent or target data, where rows are observations\n",
        "\n",
        "    predicted : Matrix with predicted data, where rows are observations\n",
        "\n",
        "    Returns\n",
        "    -------     \n",
        "    list type, with optimal cutoff value\n",
        "\n",
        "    \"\"\"\n",
        "    from sklearn.metrics import roc_curve\n",
        "    import pandas as pd\n",
        "    fpr, tpr, threshold = roc_curve(target, predicted)\n",
        "    i = np.arange(len(tpr)) \n",
        "    roc = pd.DataFrame({'tf' : pd.Series(tpr-(1-fpr), index=i), 'threshold' : pd.Series(threshold, index=i)})\n",
        "    roc_t = roc.iloc[(roc.tf-0).abs().argsort()[:1]]\n",
        "\n",
        "    return list(roc_t['threshold']) \n",
        "from sklearn.metrics import classification_report\n",
        "from sklearn.metrics import confusion_matrix\n",
        "import pandas as pd\n",
        "import seaborn as sns\n",
        "X_data = {'train': x_train,'validation': x_val}\n",
        "data = 'validation' #@param ['train','validation']\n",
        "preds = model.predict(X_data[data])\n",
        "actual = {'train': y_train,'validation':y_val} \n",
        "\n",
        "threshold = Find_Optimal_Cutoff(actual[data],preds)\n",
        "# Put prediction to the dataframe applying threshold\n",
        "threshold_dict = {\"optimal cutoff\": threshold[0],\"mean predicted probability\": np.mean(preds)}\n",
        "method = 'optimal cutoff' #@param ['optimal cutoff','mean predicted probability']\n",
        "predicted = []\n",
        "for i in preds:\n",
        "  if i >= threshold_dict[method]:\n",
        "    predicted.append(1)\n",
        "  else:\n",
        "    predicted.append(0)\n",
        "print(classification_report(actual[data],predicted))\n",
        "matrix = confusion_matrix(actual[data],predicted)\n",
        "matrix = pd.DataFrame(matrix)\n",
        "print('Confusion Matrix:\\n')\n",
        "plt.subplots(figsize=(8,5))\n",
        "plt.title('Average Temperature -{}- Confusion Matrix'.format(data.title()))\n",
        "sns.heatmap(matrix,annot=True,fmt='d')"
      ],
      "execution_count": null,
      "outputs": [
        {
          "output_type": "stream",
          "text": [
            "              precision    recall  f1-score   support\n",
            "\n",
            "           0       0.87      0.79      0.83       149\n",
            "           1       0.66      0.78      0.72        78\n",
            "\n",
            "    accuracy                           0.79       227\n",
            "   macro avg       0.77      0.79      0.77       227\n",
            "weighted avg       0.80      0.79      0.79       227\n",
            "\n",
            "Confusion Matrix:\n",
            "\n"
          ],
          "name": "stdout"
        },
        {
          "output_type": "execute_result",
          "data": {
            "text/plain": [
              "<matplotlib.axes._subplots.AxesSubplot at 0x7f571c927978>"
            ]
          },
          "metadata": {
            "tags": []
          },
          "execution_count": 36
        },
        {
          "output_type": "display_data",
          "data": {
            "image/png": "[encoded data removed]",
            "text/plain": [
              "<Figure size 576x360 with 2 Axes>"
            ]
          },
          "metadata": {
            "tags": [],
            "needs_background": "light"
          }
        }
      ]
    },
    {
      "cell_type": "markdown",
      "metadata": {
        "id": "2r2uYcpfhB5q"
      },
      "source": [
        "### Add pre-trained embeddings (Glove6B.100d)"
      ]
    },
    {
      "cell_type": "markdown",
      "metadata": {
        "id": "rWjZF2nA7WaH"
      },
      "source": [
        "#### Mount drive."
      ]
    },
    {
      "cell_type": "code",
      "metadata": {
        "id": "B1hvMBuDod8v",
        "colab": {
          "base_uri": "https://localhost:8080/",
          "height": 126
        },
        "outputId": "d73f9947-a375-4720-a309-661a2f815fac"
      },
      "source": [
        "from google.colab import drive\n",
        "drive.mount('/content/drive')"
      ],
      "execution_count": null,
      "outputs": [
        {
          "output_type": "stream",
          "text": [
            "Go to this URL in a browser: https://accounts.google.com/o/oauth2/auth?client_id=947318989803-6bn6qk8qdgf4n4g3pfee6491hc0brc4i.apps.googleusercontent.com&redirect_uri=urn%3aietf%3awg%3aoauth%3a2.0%3aoob&response_type=code&scope=email%20https%3a%2f%2fwww.googleapis.com%2fauth%2fdocs.test%20https%3a%2f%2fwww.googleapis.com%2fauth%2fdrive%20https%3a%2f%2fwww.googleapis.com%2fauth%2fdrive.photos.readonly%20https%3a%2f%2fwww.googleapis.com%2fauth%2fpeopleapi.readonly\n",
            "\n",
            "Enter your authorization code:\n",
            "··········\n",
            "Mounted at /content/drive\n"
          ],
          "name": "stdout"
        }
      ]
    },
    {
      "cell_type": "markdown",
      "metadata": {
        "id": "s8jULiZa7ZCF"
      },
      "source": [
        "#### Read in glove100d data."
      ]
    },
    {
      "cell_type": "code",
      "metadata": {
        "id": "RLg3wO3fhCPa",
        "colab": {
          "base_uri": "https://localhost:8080/",
          "height": 35
        },
        "outputId": "1f1d95be-8131-423b-8336-ecb003e2e0a8"
      },
      "source": [
        "import os\n",
        "# Use your directory\n",
        "glove_dir = '/content/drive/My Drive/Spring 2020 Materials/Week 4/Module 4/Script and Data/Embedding examples/GLoVE Data'\n",
        "\n",
        "embeddings_index = {}\n",
        "f = open(os.path.join(glove_dir, 'glove.6B.100d.txt'))\n",
        "for line in f:\n",
        "    values = line.split()\n",
        "    word = values[0]\n",
        "    coefs = np.asarray(values[1:], dtype='float32')\n",
        "    embeddings_index[word] = coefs\n",
        "f.close()\n",
        "\n",
        "print('Found %s word vectors.' % len(embeddings_index))"
      ],
      "execution_count": null,
      "outputs": [
        {
          "output_type": "stream",
          "text": [
            "Found 400000 word vectors.\n"
          ],
          "name": "stdout"
        }
      ]
    },
    {
      "cell_type": "markdown",
      "metadata": {
        "id": "1LGQzRpW7huR"
      },
      "source": [
        "#### Define embedding vector."
      ]
    },
    {
      "cell_type": "code",
      "metadata": {
        "id": "XHhROTrohFXp"
      },
      "source": [
        "embedding_dim = 100\n",
        "\n",
        "embedding_matrix = np.zeros((max_words, embedding_dim))\n",
        "for word, i in word_index.items():\n",
        "    if i < max_words:\n",
        "        embedding_vector = embeddings_index.get(word)\n",
        "        if embedding_vector is not None:\n",
        "            embedding_matrix[i] = embedding_vector"
      ],
      "execution_count": null,
      "outputs": []
    },
    {
      "cell_type": "markdown",
      "metadata": {
        "id": "wVB3axWK7qsn"
      },
      "source": [
        "#### Build LSTM model."
      ]
    },
    {
      "cell_type": "code",
      "metadata": {
        "id": "SYy2O-j1hIpz",
        "colab": {
          "base_uri": "https://localhost:8080/",
          "height": 301
        },
        "outputId": "f18c5180-ec01-416f-f02e-6596544d5978"
      },
      "source": [
        "from tensorflow.keras.models import Sequential\n",
        "from tensorflow.keras.layers import Embedding, Flatten, Dense\n",
        "\n",
        "model = Sequential()\n",
        "model.add(Embedding(max_words, embedding_dim, input_length=maxlen))\n",
        "model.add(LSTM(64, return_sequences=False, dropout=0.1, recurrent_dropout=0.1))\n",
        "model.add(Dense(32, activation='relu'))\n",
        "model.add(Dense(1, activation='sigmoid'))\n",
        "model.summary()"
      ],
      "execution_count": null,
      "outputs": [
        {
          "output_type": "stream",
          "text": [
            "Model: \"sequential_3\"\n",
            "_________________________________________________________________\n",
            "Layer (type)                 Output Shape              Param #   \n",
            "=================================================================\n",
            "embedding_3 (Embedding)      (None, 220, 100)          500000    \n",
            "_________________________________________________________________\n",
            "lstm_2 (LSTM)                (None, 64)                42240     \n",
            "_________________________________________________________________\n",
            "dense_5 (Dense)              (None, 32)                2080      \n",
            "_________________________________________________________________\n",
            "dense_6 (Dense)              (None, 1)                 33        \n",
            "=================================================================\n",
            "Total params: 544,353\n",
            "Trainable params: 544,353\n",
            "Non-trainable params: 0\n",
            "_________________________________________________________________\n"
          ],
          "name": "stdout"
        }
      ]
    },
    {
      "cell_type": "markdown",
      "metadata": {
        "id": "8ejCY6P378aY"
      },
      "source": [
        "#### Add pre-trained embedding layer."
      ]
    },
    {
      "cell_type": "code",
      "metadata": {
        "id": "1lPIZpO9hMPu"
      },
      "source": [
        "model.layers[0].set_weights([embedding_matrix])\n",
        "model.layers[0].trainable = False"
      ],
      "execution_count": null,
      "outputs": []
    },
    {
      "cell_type": "markdown",
      "metadata": {
        "id": "E063_A2s8NEZ"
      },
      "source": [
        "#### Train the model."
      ]
    },
    {
      "cell_type": "code",
      "metadata": {
        "id": "yxJrVhmhhOz5",
        "colab": {
          "base_uri": "https://localhost:8080/",
          "height": 392
        },
        "outputId": "f2718472-fcb5-4a0a-ca25-5d37e37c330e"
      },
      "source": [
        "model.compile(optimizer='rmsprop',\n",
        "              loss='binary_crossentropy',\n",
        "              metrics=['acc'])\n",
        "history = model.fit(x_train, y_train,\n",
        "                    epochs=10,\n",
        "                    batch_size=32,\n",
        "                    validation_data=(x_val, y_val))\n",
        "model.save_weights('pre_trained_glove_model.h5')"
      ],
      "execution_count": null,
      "outputs": [
        {
          "output_type": "stream",
          "text": [
            "Epoch 1/10\n",
            "11/11 [==============================] - 4s 319ms/step - loss: 0.6352 - acc: 0.6596 - val_loss: 0.6416 - val_acc: 0.6564\n",
            "Epoch 2/10\n",
            "11/11 [==============================] - 3s 291ms/step - loss: 0.6085 - acc: 0.7078 - val_loss: 0.6326 - val_acc: 0.6872\n",
            "Epoch 3/10\n",
            "11/11 [==============================] - 3s 291ms/step - loss: 0.6089 - acc: 0.7199 - val_loss: 0.6432 - val_acc: 0.6872\n",
            "Epoch 4/10\n",
            "11/11 [==============================] - 3s 286ms/step - loss: 0.6116 - acc: 0.7199 - val_loss: 0.6413 - val_acc: 0.6872\n",
            "Epoch 5/10\n",
            "11/11 [==============================] - 3s 287ms/step - loss: 0.6047 - acc: 0.7199 - val_loss: 0.6262 - val_acc: 0.6872\n",
            "Epoch 6/10\n",
            "11/11 [==============================] - 3s 284ms/step - loss: 0.6022 - acc: 0.7199 - val_loss: 0.6214 - val_acc: 0.6872\n",
            "Epoch 7/10\n",
            "11/11 [==============================] - 3s 284ms/step - loss: 0.5874 - acc: 0.7199 - val_loss: 0.6343 - val_acc: 0.6872\n",
            "Epoch 8/10\n",
            "11/11 [==============================] - 3s 285ms/step - loss: 0.5856 - acc: 0.7199 - val_loss: 0.6248 - val_acc: 0.6872\n",
            "Epoch 9/10\n",
            "11/11 [==============================] - 3s 287ms/step - loss: 0.5859 - acc: 0.7199 - val_loss: 0.6410 - val_acc: 0.6872\n",
            "Epoch 10/10\n",
            "11/11 [==============================] - 3s 282ms/step - loss: 0.5860 - acc: 0.7199 - val_loss: 0.6477 - val_acc: 0.6872\n"
          ],
          "name": "stdout"
        }
      ]
    },
    {
      "cell_type": "code",
      "metadata": {
        "id": "nOMC1u_LhTs-",
        "colab": {
          "base_uri": "https://localhost:8080/",
          "height": 295
        },
        "outputId": "8055912c-6605-4527-d478-9cb20bc7bba8"
      },
      "source": [
        "#@title Let's see the training and validation accuracy by epoch { run: \"auto\", display-mode: \"form\" }\n",
        "import matplotlib.pyplot as plt\n",
        "history_dict = history.history\n",
        "value = 'acc' #@param ['loss','acc']\n",
        "loss_values = history_dict[value] # you can change this\n",
        "val_loss_values = history_dict['val_'+ value] # you can also change this\n",
        "epochs = range(1, len(loss_values) + 1) #acc wasn't defined before\n",
        "plt.plot(epochs, loss_values, 'bo', label='Training {}'.format(value.title()))\n",
        "plt.plot(epochs, val_loss_values, 'orange', label='Validation {}'.format(value.title()))\n",
        "plt.title('Training and Validation {}'.format(value.title()))\n",
        "plt.xlabel('Epochs')\n",
        "plt.ylabel('{}'.format(value.title()))\n",
        "plt.legend()\n",
        "plt.show()"
      ],
      "execution_count": null,
      "outputs": [
        {
          "output_type": "display_data",
          "data": {
            "image/png": "[encoded data removed]",
            "text/plain": [
              "<Figure size 432x288 with 1 Axes>"
            ]
          },
          "metadata": {
            "tags": [],
            "needs_background": "light"
          }
        }
      ]
    },
    {
      "cell_type": "code",
      "metadata": {
        "id": "i-wrBsSKqs4Q",
        "colab": {
          "base_uri": "https://localhost:8080/",
          "height": 550
        },
        "outputId": "95148f1a-5612-4034-c0c4-89c2917cfaf3"
      },
      "source": [
        "#@title Make Predictions-Choosing cut-off point { run: \"auto\", display-mode: \"form\" }\n",
        "def Find_Optimal_Cutoff(target, predicted):\n",
        "    \"\"\" Find the optimal probability cutoff point for a classification model related to event rate\n",
        "    Parameters\n",
        "    ----------\n",
        "    target : Matrix with dependent or target data, where rows are observations\n",
        "\n",
        "    predicted : Matrix with predicted data, where rows are observations\n",
        "\n",
        "    Returns\n",
        "    -------     \n",
        "    list type, with optimal cutoff value\n",
        "\n",
        "    \"\"\"\n",
        "    from sklearn.metrics import roc_curve\n",
        "    import pandas as pd\n",
        "    fpr, tpr, threshold = roc_curve(target, predicted)\n",
        "    i = np.arange(len(tpr)) \n",
        "    roc = pd.DataFrame({'tf' : pd.Series(tpr-(1-fpr), index=i), 'threshold' : pd.Series(threshold, index=i)})\n",
        "    roc_t = roc.iloc[(roc.tf-0).abs().argsort()[:1]]\n",
        "\n",
        "    return list(roc_t['threshold']) \n",
        "from sklearn.metrics import classification_report\n",
        "from sklearn.metrics import confusion_matrix\n",
        "import pandas as pd\n",
        "import seaborn as sns\n",
        "X_data = {'train': x_train,'validation': x_val}\n",
        "data = 'validation' #@param ['train','validation']\n",
        "preds = model.predict(X_data[data])\n",
        "actual = {'train': y_train,'validation':y_val} \n",
        "\n",
        "threshold = Find_Optimal_Cutoff(actual[data],preds)\n",
        "# Put prediction to the dataframe applying threshold\n",
        "threshold_dict = {\"optimal cutoff\": threshold[0],\"mean predicted probability\": np.mean(preds)}\n",
        "method = 'optimal cutoff' #@param ['optimal cutoff','mean predicted probability']\n",
        "predicted = []\n",
        "for i in preds:\n",
        "  if i >= threshold_dict[method]:\n",
        "    predicted.append(1)\n",
        "  else:\n",
        "    predicted.append(0)\n",
        "print(classification_report(actual[data],predicted))\n",
        "matrix = confusion_matrix(actual[data],predicted)\n",
        "matrix = pd.DataFrame(matrix)\n",
        "print('Confusion Matrix:\\n')\n",
        "plt.subplots(figsize=(8,5))\n",
        "plt.title('Average Temperature -{}- Confusion Matrix'.format(data.title()))\n",
        "sns.heatmap(matrix,annot=True,fmt='d')"
      ],
      "execution_count": null,
      "outputs": [
        {
          "output_type": "stream",
          "text": [
            "              precision    recall  f1-score   support\n",
            "\n",
            "           0       0.61      0.44      0.51       149\n",
            "           1       0.30      0.45      0.36        78\n",
            "\n",
            "    accuracy                           0.44       227\n",
            "   macro avg       0.45      0.45      0.43       227\n",
            "weighted avg       0.50      0.44      0.46       227\n",
            "\n",
            "Confusion Matrix:\n",
            "\n"
          ],
          "name": "stdout"
        },
        {
          "output_type": "execute_result",
          "data": {
            "text/plain": [
              "<matplotlib.axes._subplots.AxesSubplot at 0x7f573138ddd8>"
            ]
          },
          "metadata": {
            "tags": []
          },
          "execution_count": 44
        },
        {
          "output_type": "display_data",
          "data": {
            "image/png": "[encoded data removed]",
            "text/plain": [
              "<Figure size 576x360 with 2 Axes>"
            ]
          },
          "metadata": {
            "tags": [],
            "needs_background": "light"
          }
        }
      ]
    }
  ]
}